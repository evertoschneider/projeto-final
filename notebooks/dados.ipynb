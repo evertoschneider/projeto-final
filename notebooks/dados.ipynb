{
 "cells": [
  {
   "cell_type": "code",
   "execution_count": null,
   "id": "simplified-rover",
   "metadata": {},
   "outputs": [],
   "source": [
    "import os\n",
    "import pandas as pd\n",
    "import numpy as np\n",
    "\n",
    "from sklearn import preprocessing\n",
    "from sklearn.model_selection import train_test_split\n",
    "\n",
    "from datetime import datetime\n",
    "\n",
    "import json"
   ]
  },
  {
   "cell_type": "code",
   "execution_count": null,
   "id": "conservative-syndicate",
   "metadata": {},
   "outputs": [],
   "source": [
    "path = \"/dados\"\n",
    "myFiles = os.listdir(path)\n",
    "\n",
    "#dados completos contendo todos os dicionarios criados (total 108)\n",
    "dados = pd.DataFrame(columns = \n",
    "                     ['bocal', \n",
    "                      'pressao', \n",
    "                      'quebra_jato',\n",
    "                      'vel_vento',\n",
    "                      'dir_vento', \n",
    "                      'horario_experimento',\n",
    "                      'dia_experimento',\n",
    "                      'vazao_inicial',\n",
    "                      'vazao_final',\n",
    "                      'vazao_total',\n",
    "                      'prec'])\n",
    "\n",
    "# ler os dados de cada arquivo na pasta\n",
    "for file in myFiles:\n",
    "    data = pd.read_excel(path + \"/\" + file, header=None, sheet_name=None)\n",
    "    #dicionario com os dados descritores (um para cada aba de cada arquivo)\n",
    "    descritores = {}\n",
    "    #lendo cada uma das abas e colocando os descritores nos dados\n",
    "    for key in data.keys():\n",
    "        descritores[\"bocal\"] = float(data[key][1][19][0:3].replace(\",\",\".\"))\n",
    "        descritores[\"pressao\"] = float(data[key][1][20][0:3].replace(\",\",\".\"))\n",
    "        descritores[\"quebra_jato\"] = float(data[key][1][21][0:3].replace(\",\",\".\"))\n",
    "        descritores[\"vel_vento\"] = data[key][1][23]\n",
    "        descritores[\"dir_vento\"] = data[key][1][25]\n",
    "        \n",
    "        descritores[\"horario_experimento\"] = data[key][1][17].hour + (data[key][1][17].minute/60)\n",
    "        \n",
    "        descritores[\"dia_experimento\"] = data[key][1][22].timetuple().tm_yday\n",
    "        \n",
    "        descritores[\"vazao_inicial\"] = data[key][3][20]\n",
    "        descritores[\"vazao_final\"] = data[key][3][21]\n",
    "        descritores[\"vazao_total\"] = data[key][3][22]\n",
    "        \n",
    "        v = []\n",
    "        for i in range(0,16):\n",
    "            for j in range(0,16):\n",
    "                v.append(data[key][i][j])\n",
    "          \n",
    "        descritores[\"prec\"] = np.array(v)\n",
    "        \n",
    "        dados = dados.append(descritores, ignore_index = True)"
   ]
  },
  {
   "cell_type": "code",
   "execution_count": null,
   "id": "bbc13740",
   "metadata": {},
   "outputs": [],
   "source": [
    "media_inicial = dados[dados['bocal'] == 2.6]['vazao_inicial'].mean().round(4)\n",
    "media_final = dados[dados['bocal'] == 2.6]['vazao_final'].mean().round(4)\n",
    "media_total = dados[dados['bocal'] == 2.6]['vazao_total'].mean().round(4)\n",
    "\n",
    "dados['vazao_inicial'].fillna(media_inicial, inplace=True)\n",
    "dados['vazao_final'].fillna(media_final, inplace=True)\n",
    "dados['vazao_total'].fillna(media_total, inplace=True)"
   ]
  },
  {
   "cell_type": "code",
   "execution_count": null,
   "id": "continuing-decrease",
   "metadata": {},
   "outputs": [],
   "source": [
    "scaled_data = dados.copy()"
   ]
  },
  {
   "cell_type": "code",
   "execution_count": null,
   "id": "tutorial-postcard",
   "metadata": {},
   "outputs": [],
   "source": [
    "x = scaled_data.drop('prec', axis = 1)\n",
    "y = scaled_data.prec"
   ]
  },
  {
   "cell_type": "code",
   "execution_count": null,
   "id": "practical-cancer",
   "metadata": {},
   "outputs": [],
   "source": [
    "X, X_validacao, Y, Y_validacao = train_test_split(x, y, test_size = 0.07)"
   ]
  },
  {
   "cell_type": "code",
   "execution_count": null,
   "id": "4a5f3070",
   "metadata": {},
   "outputs": [],
   "source": [
    "X_treinamento_70, X_teste_30, y_treinamento_70, y_teste_30 = train_test_split(X, Y, test_size = 0.3)"
   ]
  },
  {
   "cell_type": "code",
   "execution_count": null,
   "id": "bibliographic-director",
   "metadata": {},
   "outputs": [],
   "source": [
    "X_treinamento_80, X_teste_20, y_treinamento_80, y_teste_20 = train_test_split(X, Y, test_size = 0.2)"
   ]
  },
  {
   "cell_type": "code",
   "execution_count": null,
   "id": "false-sullivan",
   "metadata": {},
   "outputs": [],
   "source": [
    "X_treinamento_70.reset_index(drop=True, inplace=True)\n",
    "X_teste_30.reset_index(drop=True, inplace=True)\n",
    "y_treinamento_70.reset_index(drop=True, inplace=True)\n",
    "y_teste_30.reset_index(drop=True, inplace=True)\n",
    "\n",
    "X_treinamento_80.reset_index(drop=True, inplace=True)\n",
    "X_teste_20.reset_index(drop=True, inplace=True)\n",
    "y_treinamento_80.reset_index(drop=True, inplace=True)\n",
    "y_teste_20.reset_index(drop=True, inplace=True)\n",
    "\n",
    "X_validacao.reset_index(drop=True, inplace=True)\n",
    "Y_validacao.reset_index(drop=True, inplace=True)"
   ]
  },
  {
   "cell_type": "code",
   "execution_count": null,
   "id": "golden-russia",
   "metadata": {},
   "outputs": [],
   "source": [
    "X_validacao.to_json(r'X_validacao.json', orient='columns')\n",
    "Y_validacao.to_json(r'y_validacao.json')"
   ]
  },
  {
   "cell_type": "code",
   "execution_count": null,
   "id": "490b958c",
   "metadata": {},
   "outputs": [],
   "source": [
    "X_treinamento_70.to_json(r'X_treinamento_70.json', orient='columns')\n",
    "X_teste_30      .to_json(r'X_teste_30.json', orient='columns')\n",
    "y_treinamento_70.to_json(r'y_treinamento_70.json')\n",
    "y_teste_30      .to_json(r'y_teste_30.json')"
   ]
  },
  {
   "cell_type": "code",
   "execution_count": null,
   "id": "professional-particle",
   "metadata": {},
   "outputs": [],
   "source": [
    "X_treinamento_80.to_json(r'X_treinamento_80.json', orient='columns')\n",
    "X_teste_20      .to_json(r'X_teste_20.json', orient='columns')\n",
    "y_treinamento_80.to_json(r'y_treinamento_80.json')\n",
    "y_teste_20      .to_json(r'y_teste_20.json')"
   ]
  }
 ],
 "metadata": {
  "kernelspec": {
   "display_name": "Python 3",
   "language": "python",
   "name": "python3"
  },
  "language_info": {
   "codemirror_mode": {
    "name": "ipython",
    "version": 3
   },
   "file_extension": ".py",
   "mimetype": "text/x-python",
   "name": "python",
   "nbconvert_exporter": "python",
   "pygments_lexer": "ipython3",
   "version": "3.8.10"
  }
 },
 "nbformat": 4,
 "nbformat_minor": 5
}
