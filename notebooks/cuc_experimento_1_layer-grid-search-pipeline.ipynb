{
 "cells": [
  {
   "cell_type": "code",
   "execution_count": 1,
   "id": "operating-russian",
   "metadata": {},
   "outputs": [],
   "source": [
    "import os\n",
    "import pandas as pd\n",
    "import numpy as np\n",
    "\n",
    "import tensorflow as tf\n",
    "from tensorflow import keras\n",
    "\n",
    "from tensorflow.keras import layers\n",
    "from tensorflow.keras import models\n",
    "\n",
    "from keras.constraints import maxnorm\n",
    "from keras.models import model_from_json\n",
    "\n",
    "from tensorflow.keras.wrappers.scikit_learn import KerasRegressor\n",
    "\n",
    "from skopt import BayesSearchCV\n",
    "\n",
    "from sklearn import preprocessing\n",
    "from sklearn import pipeline\n",
    "from sklearn.metrics import mean_absolute_error, mean_squared_error, r2_score\n",
    "\n",
    "from scipy.stats import shapiro, normaltest, anderson\n",
    "from statsmodels.stats.diagnostic import lilliefors\n",
    "\n",
    "import time\n",
    "import joblib\n",
    "\n",
    "import seaborn as sns\n",
    "from statsmodels.graphics.gofplots import qqplot\n",
    "import matplotlib.pyplot as plt"
   ]
  },
  {
   "cell_type": "code",
   "execution_count": 2,
   "id": "preceding-ireland",
   "metadata": {},
   "outputs": [],
   "source": [
    "X_treinamento = pd.read_json(r'C:\\Users\\Everton\\Documents\\Mestrado\\projeto-final\\dados\\cuc\\X_treinamento.json')\n",
    "X_teste = pd.read_json      (r'C:\\Users\\Everton\\Documents\\Mestrado\\projeto-final\\dados\\cuc\\X_teste.json')\n",
    "y_treinamento = pd.read_json(r'C:\\Users\\Everton\\Documents\\Mestrado\\projeto-final\\dados\\cuc\\y_treinamento.json', typ='series')\n",
    "y_teste = pd.read_json      (r'C:\\Users\\Everton\\Documents\\Mestrado\\projeto-final\\dados\\cuc\\y_teste.json', typ='series')"
   ]
  },
  {
   "cell_type": "code",
   "execution_count": 3,
   "id": "administrative-burning",
   "metadata": {},
   "outputs": [],
   "source": [
    "X_treinamento = X_treinamento.drop(['horario_experimento', 'mes_experimento', 'vazao_inicial', 'vazao_final', 'vazao_total'], axis=1)"
   ]
  },
  {
   "cell_type": "code",
   "execution_count": 4,
   "id": "commercial-milan",
   "metadata": {},
   "outputs": [],
   "source": [
    "X_teste = X_teste.drop(['horario_experimento', 'mes_experimento', 'vazao_inicial', 'vazao_final', 'vazao_total'], axis=1)"
   ]
  },
  {
   "cell_type": "code",
   "execution_count": 5,
   "id": "molecular-public",
   "metadata": {},
   "outputs": [],
   "source": [
    "dum_df_treinamento = pd.get_dummies(X_treinamento, columns=['distancia'], prefix=['distancia'])"
   ]
  },
  {
   "cell_type": "code",
   "execution_count": 6,
   "id": "thorough-apache",
   "metadata": {},
   "outputs": [],
   "source": [
    "#dum_df_treinamento = pd.get_dummies(dum_df_treinamento, columns=['horario_experimento'], prefix=['horario_experimento'])"
   ]
  },
  {
   "cell_type": "code",
   "execution_count": 7,
   "id": "introductory-organic",
   "metadata": {},
   "outputs": [],
   "source": [
    "#dum_df_treinamento = pd.get_dummies(dum_df_treinamento, columns=['mes_experimento'], prefix=['mes_experimento'])"
   ]
  },
  {
   "cell_type": "code",
   "execution_count": 8,
   "id": "existing-grammar",
   "metadata": {},
   "outputs": [],
   "source": [
    "dum_df_teste = pd.get_dummies(X_teste, columns=['distancia'], prefix=['distancia'])"
   ]
  },
  {
   "cell_type": "code",
   "execution_count": 9,
   "id": "behind-immigration",
   "metadata": {},
   "outputs": [],
   "source": [
    "#dum_df_teste = pd.get_dummies(dum_df_teste, columns=['horario_experimento'], prefix=['horario_experimento'])"
   ]
  },
  {
   "cell_type": "code",
   "execution_count": 10,
   "id": "loved-headquarters",
   "metadata": {},
   "outputs": [],
   "source": [
    "#dum_df_teste = pd.get_dummies(dum_df_teste, columns=['mes_experimento'], prefix=['mes_experimento'])"
   ]
  },
  {
   "cell_type": "code",
   "execution_count": 139,
   "id": "standing-potential",
   "metadata": {},
   "outputs": [],
   "source": [
    "def build_model(\n",
    "    optimizer,\n",
    "    init_mode,\n",
    "    activation,\n",
    "    dropout_rate,\n",
    "    weight_constraint,\n",
    "    neurons,\n",
    "    loss,\n",
    "    regularizers\n",
    "):\n",
    "    model = models.Sequential()\n",
    "    \n",
    "    # layer 1\n",
    "    model.add(\n",
    "        layers.Dense(\n",
    "            neurons,\n",
    "            activation = activation,\n",
    "            kernel_initializer=init_mode,\n",
    "            kernel_constraint=maxnorm(weight_constraint),\n",
    "            kernel_regularizer=regularizers,\n",
    "            input_shape=[len(dum_df_treinamento.keys())]\n",
    "        )\n",
    "    )\n",
    "    model.add(layers.Dropout(dropout_rate))\n",
    "    \n",
    "    # layer 2\n",
    "    model.add(layers.Dense(1))\n",
    "    \n",
    "    model.compile(\n",
    "        loss=loss,\n",
    "        optimizer=optimizer,\n",
    "        metrics=['mae', 'mse', keras.metrics.RootMeanSquaredError()]\n",
    "    )\n",
    "    \n",
    "    return model"
   ]
  },
  {
   "cell_type": "code",
   "execution_count": 140,
   "id": "tired-spring",
   "metadata": {},
   "outputs": [],
   "source": [
    "batch_size = [9, 18, 36]\n",
    "epochs = [400, 450, 500]\n",
    "optimizer = ['SGD', 'RMSprop', 'Adagrad', 'Adadelta', 'Adam', 'Adamax', 'Nadam']\n",
    "init_mode = ['uniform', 'lecun_uniform', 'normal', 'zero', 'glorot_normal', 'glorot_uniform', 'he_normal', 'he_uniform']\n",
    "activation = ['relu', 'sigmoid', 'softmax', 'softplus', 'softsign', 'tanh']\n",
    "weight_constraint = [1, 2, 3, 4, 5]\n",
    "dropout_rate = [0.0, 0.1, 0.2, 0.3, 0.4, 0.5, 0.6, 0.7, 0.8, 0.9]\n",
    "neurons = [512, 1024, 2048]\n",
    "losses = ['mse', 'logcosh', 'huber']\n",
    "regularizers = [tf.keras.regularizers.l1(0.0001), tf.keras.regularizers.l2(0.0001), tf.keras.regularizers.l1_l2(0.0001)]"
   ]
  },
  {
   "cell_type": "code",
   "execution_count": 141,
   "id": "executive-royalty",
   "metadata": {},
   "outputs": [],
   "source": [
    "scalers = [\n",
    "    preprocessing.StandardScaler(),\n",
    "    preprocessing.MinMaxScaler(),\n",
    "    preprocessing.MaxAbsScaler(),\n",
    "    preprocessing.RobustScaler(quantile_range=(25,75)),\n",
    "    preprocessing.PowerTransformer(method='yeo-johnson'),\n",
    "    preprocessing.QuantileTransformer(output_distribution='uniform'),\n",
    "    preprocessing.QuantileTransformer(output_distribution='normal'),\n",
    "]"
   ]
  },
  {
   "cell_type": "code",
   "execution_count": 142,
   "id": "serious-quality",
   "metadata": {},
   "outputs": [],
   "source": [
    "param_grid = {\n",
    "    'estimator__batch_size': batch_size,\n",
    "    'estimator__epochs': epochs,\n",
    "    'estimator__optimizer': optimizer,\n",
    "    'estimator__init_mode': init_mode,\n",
    "    'estimator__activation': activation,\n",
    "    'estimator__weight_constraint': weight_constraint,\n",
    "    'estimator__dropout_rate': dropout_rate,\n",
    "    'estimator__neurons': neurons,\n",
    "    'estimator__loss': losses,\n",
    "    'estimator__regularizers': regularizers,\n",
    "    'scaler': scalers\n",
    "}"
   ]
  },
  {
   "cell_type": "code",
   "execution_count": 143,
   "id": "joined-coalition",
   "metadata": {},
   "outputs": [],
   "source": [
    "scoring = {'neg_mean_absolute_error', 'neg_mean_squared_error', 'neg_root_mean_squared_error'}"
   ]
  },
  {
   "cell_type": "code",
   "execution_count": 144,
   "id": "posted-hardwood",
   "metadata": {},
   "outputs": [],
   "source": [
    "model = KerasRegressor(build_fn=build_model, verbose=1)"
   ]
  },
  {
   "cell_type": "code",
   "execution_count": 145,
   "id": "literary-consciousness",
   "metadata": {},
   "outputs": [],
   "source": [
    "steps = [('scaler', preprocessing.StandardScaler()), \n",
    "         ('estimator', model)]"
   ]
  },
  {
   "cell_type": "code",
   "execution_count": 146,
   "id": "caroline-relaxation",
   "metadata": {},
   "outputs": [],
   "source": [
    "pipe = pipeline.Pipeline(steps)"
   ]
  },
  {
   "cell_type": "code",
   "execution_count": 147,
   "id": "double-enclosure",
   "metadata": {},
   "outputs": [],
   "source": [
    "grid = BayesSearchCV(\n",
    "    estimator = pipe,\n",
    "    search_spaces = param_grid,\n",
    "    n_iter = 50,\n",
    "    n_jobs = -1,\n",
    "    cv = 10,\n",
    "    scoring = 'neg_mean_squared_error',\n",
    "    refit = True\n",
    ")"
   ]
  },
  {
   "cell_type": "code",
   "execution_count": 148,
   "id": "statutory-beauty",
   "metadata": {},
   "outputs": [
    {
     "name": "stdout",
     "output_type": "stream",
     "text": [
      "Epoch 1/450\n",
      "26/26 [==============================] - 0s 986us/step - loss: 6869.8555 - mae: 82.6309 - mse: 6869.8545 - root_mean_squared_error: 82.8846\n",
      "Epoch 2/450\n",
      "26/26 [==============================] - 0s 1ms/step - loss: 4209.8486 - mae: 64.5978 - mse: 4209.8462 - root_mean_squared_error: 64.8833\n",
      "Epoch 3/450\n",
      "26/26 [==============================] - 0s 601us/step - loss: 2355.4346 - mae: 48.2102 - mse: 2355.4326 - root_mean_squared_error: 48.5328\n",
      "Epoch 4/450\n",
      "26/26 [==============================] - 0s 851us/step - loss: 1185.0969 - mae: 34.0385 - mse: 1185.0950 - root_mean_squared_error: 34.4252\n",
      "Epoch 5/450\n",
      "26/26 [==============================] - 0s 1ms/step - loss: 517.8926 - mae: 22.3215 - mse: 517.8907 - root_mean_squared_error: 22.7572\n",
      "Epoch 6/450\n",
      "26/26 [==============================] - ETA: 0s - loss: 351.2362 - mae: 18.5459 - mse: 351.2342 - root_mean_squared_error: 18.741 - 0s 601us/step - loss: 196.4323 - mae: 13.5003 - mse: 196.4303 - root_mean_squared_error: 14.0154\n",
      "Epoch 7/450\n",
      "26/26 [==============================] - 0s 601us/step - loss: 65.1771 - mae: 7.4673 - mse: 65.1749 - root_mean_squared_error: 8.0731\n",
      "Epoch 8/450\n",
      "26/26 [==============================] - 0s 1ms/step - loss: 21.0402 - mae: 3.7686 - mse: 21.0380 - root_mean_squared_error: 4.5867\n",
      "Epoch 9/450\n",
      "26/26 [==============================] - 0s 601us/step - loss: 10.6411 - mae: 2.5827 - mse: 10.6388 - root_mean_squared_error: 3.2617\n",
      "Epoch 10/450\n",
      "26/26 [==============================] - 0s 601us/step - loss: 8.1980 - mae: 2.2918 - mse: 8.1958 - root_mean_squared_error: 2.8628\n",
      "Epoch 11/450\n",
      "26/26 [==============================] - 0s 1ms/step - loss: 8.4607 - mae: 2.3891 - mse: 8.4584 - root_mean_squared_error: 2.9083\n",
      "Epoch 12/450\n",
      "26/26 [==============================] - 0s 601us/step - loss: 8.0791 - mae: 2.3132 - mse: 8.0768 - root_mean_squared_error: 2.8420\n",
      "Epoch 13/450\n",
      "26/26 [==============================] - 0s 601us/step - loss: 7.5483 - mae: 2.2460 - mse: 7.5460 - root_mean_squared_error: 2.7470\n",
      "Epoch 14/450\n",
      "26/26 [==============================] - 0s 1ms/step - loss: 8.0181 - mae: 2.3196 - mse: 8.0157 - root_mean_squared_error: 2.8312\n",
      "Epoch 15/450\n",
      "26/26 [==============================] - 0s 851us/step - loss: 7.7928 - mae: 2.2600 - mse: 7.7905 - root_mean_squared_error: 2.7911\n",
      "Epoch 16/450\n",
      "26/26 [==============================] - 0s 601us/step - loss: 7.6430 - mae: 2.2466 - mse: 7.6406 - root_mean_squared_error: 2.7642\n",
      "Epoch 17/450\n",
      "26/26 [==============================] - 0s 1ms/step - loss: 7.2572 - mae: 2.1971 - mse: 7.2548 - root_mean_squared_error: 2.6935\n",
      "Epoch 18/450\n",
      "26/26 [==============================] - 0s 1ms/step - loss: 7.8160 - mae: 2.2857 - mse: 7.8137 - root_mean_squared_error: 2.7953\n",
      "Epoch 19/450\n",
      "26/26 [==============================] - 0s 601us/step - loss: 7.6675 - mae: 2.3157 - mse: 7.6651 - root_mean_squared_error: 2.7686\n",
      "Epoch 20/450\n",
      "26/26 [==============================] - 0s 1ms/step - loss: 7.3224 - mae: 2.2430 - mse: 7.3200 - root_mean_squared_error: 2.7055\n",
      "Epoch 21/450\n",
      "26/26 [==============================] - 0s 1ms/step - loss: 6.9811 - mae: 2.1987 - mse: 6.9787 - root_mean_squared_error: 2.6417\n",
      "Epoch 22/450\n",
      "26/26 [==============================] - 0s 851us/step - loss: 7.4985 - mae: 2.2714 - mse: 7.4961 - root_mean_squared_error: 2.7379\n",
      "Epoch 23/450\n",
      "26/26 [==============================] - 0s 1ms/step - loss: 7.0578 - mae: 2.1294 - mse: 7.0554 - root_mean_squared_error: 2.6562\n",
      "Epoch 24/450\n",
      "26/26 [==============================] - 0s 1ms/step - loss: 6.9395 - mae: 2.1771 - mse: 6.9371 - root_mean_squared_error: 2.6338\n",
      "Epoch 25/450\n",
      "26/26 [==============================] - 0s 1ms/step - loss: 7.5160 - mae: 2.2619 - mse: 7.5136 - root_mean_squared_error: 2.7411\n",
      "Epoch 26/450\n",
      "26/26 [==============================] - 0s 851us/step - loss: 6.9329 - mae: 2.1596 - mse: 6.9304 - root_mean_squared_error: 2.6326\n",
      "Epoch 27/450\n",
      "26/26 [==============================] - 0s 1ms/step - loss: 7.6709 - mae: 2.1997 - mse: 7.6684 - root_mean_squared_error: 2.7692\n",
      "Epoch 28/450\n",
      "26/26 [==============================] - 0s 601us/step - loss: 8.1487 - mae: 2.3730 - mse: 8.1462 - root_mean_squared_error: 2.8542\n",
      "Epoch 29/450\n",
      "26/26 [==============================] - 0s 851us/step - loss: 7.4979 - mae: 2.1894 - mse: 7.4954 - root_mean_squared_error: 2.7378\n",
      "Epoch 30/450\n",
      "26/26 [==============================] - 0s 1ms/step - loss: 7.6540 - mae: 2.3123 - mse: 7.6515 - root_mean_squared_error: 2.7661\n",
      "Epoch 31/450\n",
      "26/26 [==============================] - 0s 601us/step - loss: 6.9757 - mae: 2.0969 - mse: 6.9732 - root_mean_squared_error: 2.6407\n",
      "Epoch 32/450\n",
      "26/26 [==============================] - 0s 1ms/step - loss: 6.7348 - mae: 2.1546 - mse: 6.7322 - root_mean_squared_error: 2.5947\n",
      "Epoch 33/450\n",
      "26/26 [==============================] - 0s 851us/step - loss: 7.2445 - mae: 2.1945 - mse: 7.2419 - root_mean_squared_error: 2.6911\n",
      "Epoch 34/450\n",
      "26/26 [==============================] - 0s 1ms/step - loss: 6.7729 - mae: 2.1375 - mse: 6.7703 - root_mean_squared_error: 2.6020\n",
      "Epoch 35/450\n",
      "26/26 [==============================] - 0s 1ms/step - loss: 6.6170 - mae: 2.0687 - mse: 6.6144 - root_mean_squared_error: 2.5718\n",
      "Epoch 36/450\n",
      "26/26 [==============================] - 0s 1ms/step - loss: 7.0636 - mae: 2.1770 - mse: 7.0609 - root_mean_squared_error: 2.6572\n",
      "Epoch 37/450\n",
      "26/26 [==============================] - 0s 852us/step - loss: 6.9461 - mae: 2.2045 - mse: 6.9434 - root_mean_squared_error: 2.6350\n",
      "Epoch 38/450\n",
      "26/26 [==============================] - 0s 1ms/step - loss: 7.2247 - mae: 2.2236 - mse: 7.2220 - root_mean_squared_error: 2.6874\n",
      "Epoch 39/450\n",
      "26/26 [==============================] - 0s 601us/step - loss: 6.8919 - mae: 2.1625 - mse: 6.8891 - root_mean_squared_error: 2.6247\n",
      "Epoch 40/450\n",
      "26/26 [==============================] - 0s 851us/step - loss: 6.9661 - mae: 2.1760 - mse: 6.9634 - root_mean_squared_error: 2.6388\n",
      "Epoch 41/450\n",
      "26/26 [==============================] - 0s 1ms/step - loss: 6.9969 - mae: 2.1757 - mse: 6.9940 - root_mean_squared_error: 2.6446\n",
      "Epoch 42/450\n",
      "26/26 [==============================] - 0s 601us/step - loss: 6.8513 - mae: 2.1388 - mse: 6.8484 - root_mean_squared_error: 2.6170\n",
      "Epoch 43/450\n",
      "26/26 [==============================] - 0s 601us/step - loss: 7.2166 - mae: 2.1716 - mse: 7.2137 - root_mean_squared_error: 2.6858\n",
      "Epoch 44/450\n",
      "26/26 [==============================] - 0s 851us/step - loss: 6.6310 - mae: 2.0529 - mse: 6.6281 - root_mean_squared_error: 2.5745\n",
      "Epoch 45/450\n",
      "26/26 [==============================] - 0s 601us/step - loss: 7.1517 - mae: 2.1726 - mse: 7.1487 - root_mean_squared_error: 2.6737\n",
      "Epoch 46/450\n",
      "26/26 [==============================] - 0s 1ms/step - loss: 6.2018 - mae: 2.0025 - mse: 6.1988 - root_mean_squared_error: 2.4897\n",
      "Epoch 47/450\n",
      "26/26 [==============================] - 0s 1ms/step - loss: 7.2120 - mae: 2.1480 - mse: 7.2089 - root_mean_squared_error: 2.6849\n",
      "Epoch 48/450\n",
      "26/26 [==============================] - 0s 851us/step - loss: 6.8026 - mae: 2.1171 - mse: 6.7994 - root_mean_squared_error: 2.6076\n",
      "Epoch 49/450\n",
      "26/26 [==============================] - 0s 1ms/step - loss: 6.8242 - mae: 2.1326 - mse: 6.8211 - root_mean_squared_error: 2.6117\n",
      "Epoch 50/450\n",
      "26/26 [==============================] - 0s 1ms/step - loss: 6.6525 - mae: 2.1247 - mse: 6.6493 - root_mean_squared_error: 2.5786\n",
      "Epoch 51/450\n",
      "26/26 [==============================] - 0s 851us/step - loss: 6.6741 - mae: 2.1217 - mse: 6.6709 - root_mean_squared_error: 2.5828\n",
      "Epoch 52/450\n",
      "26/26 [==============================] - 0s 1ms/step - loss: 6.5043 - mae: 2.0629 - mse: 6.5010 - root_mean_squared_error: 2.5497\n",
      "Epoch 53/450\n",
      "26/26 [==============================] - 0s 601us/step - loss: 6.3787 - mae: 2.0532 - mse: 6.3753 - root_mean_squared_error: 2.5249\n",
      "Epoch 54/450\n",
      "26/26 [==============================] - 0s 601us/step - loss: 6.0216 - mae: 1.9859 - mse: 6.0182 - root_mean_squared_error: 2.4532\n",
      "Epoch 55/450\n",
      "26/26 [==============================] - 0s 1ms/step - loss: 6.4430 - mae: 2.0646 - mse: 6.4396 - root_mean_squared_error: 2.5376\n",
      "Epoch 56/450\n"
     ]
    },
    {
     "name": "stdout",
     "output_type": "stream",
     "text": [
      "26/26 [==============================] - 0s 601us/step - loss: 6.3943 - mae: 2.0263 - mse: 6.3907 - root_mean_squared_error: 2.5280\n",
      "Epoch 57/450\n",
      "26/26 [==============================] - 0s 601us/step - loss: 5.4222 - mae: 1.9235 - mse: 5.4186 - root_mean_squared_error: 2.3278\n",
      "Epoch 58/450\n",
      "26/26 [==============================] - 0s 1ms/step - loss: 5.9867 - mae: 1.9743 - mse: 5.9830 - root_mean_squared_error: 2.4460\n",
      "Epoch 59/450\n",
      "26/26 [==============================] - 0s 601us/step - loss: 6.4331 - mae: 2.0556 - mse: 6.4294 - root_mean_squared_error: 2.5356\n",
      "Epoch 60/450\n",
      "26/26 [==============================] - 0s 1ms/step - loss: 6.3824 - mae: 2.0788 - mse: 6.3786 - root_mean_squared_error: 2.5256\n",
      "Epoch 61/450\n",
      "26/26 [==============================] - 0s 1ms/step - loss: 5.6032 - mae: 1.9862 - mse: 5.5993 - root_mean_squared_error: 2.3663\n",
      "Epoch 62/450\n",
      "26/26 [==============================] - 0s 851us/step - loss: 6.1479 - mae: 1.9981 - mse: 6.1439 - root_mean_squared_error: 2.4787\n",
      "Epoch 63/450\n",
      "26/26 [==============================] - 0s 1ms/step - loss: 5.8741 - mae: 1.9502 - mse: 5.8701 - root_mean_squared_error: 2.4228\n",
      "Epoch 64/450\n",
      "26/26 [==============================] - 0s 1ms/step - loss: 5.5283 - mae: 1.8879 - mse: 5.5242 - root_mean_squared_error: 2.3504\n",
      "Epoch 65/450\n",
      "26/26 [==============================] - 0s 601us/step - loss: 5.9402 - mae: 1.9898 - mse: 5.9361 - root_mean_squared_error: 2.4364\n",
      "Epoch 66/450\n",
      "26/26 [==============================] - 0s 851us/step - loss: 5.9092 - mae: 1.9500 - mse: 5.9050 - root_mean_squared_error: 2.4300\n",
      "Epoch 67/450\n",
      "26/26 [==============================] - 0s 601us/step - loss: 4.9323 - mae: 1.7706 - mse: 4.9280 - root_mean_squared_error: 2.2199\n",
      "Epoch 68/450\n",
      "26/26 [==============================] - 0s 601us/step - loss: 5.2085 - mae: 1.8664 - mse: 5.2041 - root_mean_squared_error: 2.2813\n",
      "Epoch 69/450\n",
      "26/26 [==============================] - 0s 851us/step - loss: 5.4598 - mae: 1.8186 - mse: 5.4553 - root_mean_squared_error: 2.3357\n",
      "Epoch 70/450\n",
      "26/26 [==============================] - 0s 601us/step - loss: 5.1755 - mae: 1.8459 - mse: 5.1710 - root_mean_squared_error: 2.2740\n",
      "Epoch 71/450\n",
      "26/26 [==============================] - 0s 601us/step - loss: 5.1381 - mae: 1.8375 - mse: 5.1334 - root_mean_squared_error: 2.2657\n",
      "Epoch 72/450\n",
      "26/26 [==============================] - 0s 1ms/step - loss: 5.1244 - mae: 1.8026 - mse: 5.1196 - root_mean_squared_error: 2.2627\n",
      "Epoch 73/450\n",
      "26/26 [==============================] - 0s 851us/step - loss: 5.1702 - mae: 1.8186 - mse: 5.1653 - root_mean_squared_error: 2.2727\n",
      "Epoch 74/450\n",
      "26/26 [==============================] - 0s 1ms/step - loss: 5.1189 - mae: 1.7972 - mse: 5.1140 - root_mean_squared_error: 2.2614\n",
      "Epoch 75/450\n",
      "26/26 [==============================] - 0s 1ms/step - loss: 5.5638 - mae: 1.8823 - mse: 5.5587 - root_mean_squared_error: 2.3577\n",
      "Epoch 76/450\n",
      "26/26 [==============================] - 0s 601us/step - loss: 4.9737 - mae: 1.7619 - mse: 4.9685 - root_mean_squared_error: 2.2290\n",
      "Epoch 77/450\n",
      "26/26 [==============================] - 0s 851us/step - loss: 4.9874 - mae: 1.8270 - mse: 4.9822 - root_mean_squared_error: 2.2321\n",
      "Epoch 78/450\n",
      "26/26 [==============================] - 0s 1ms/step - loss: 5.0913 - mae: 1.8050 - mse: 5.0860 - root_mean_squared_error: 2.2552\n",
      "Epoch 79/450\n",
      "26/26 [==============================] - 0s 601us/step - loss: 4.5024 - mae: 1.7051 - mse: 4.4969 - root_mean_squared_error: 2.1206\n",
      "Epoch 80/450\n",
      "26/26 [==============================] - 0s 1ms/step - loss: 4.8036 - mae: 1.7222 - mse: 4.7980 - root_mean_squared_error: 2.1904\n",
      "Epoch 81/450\n",
      "26/26 [==============================] - 0s 601us/step - loss: 4.5653 - mae: 1.6551 - mse: 4.5597 - root_mean_squared_error: 2.1353\n",
      "Epoch 82/450\n",
      "26/26 [==============================] - 0s 601us/step - loss: 4.5918 - mae: 1.6609 - mse: 4.5860 - root_mean_squared_error: 2.1415\n",
      "Epoch 83/450\n",
      "26/26 [==============================] - 0s 1ms/step - loss: 4.0023 - mae: 1.5788 - mse: 3.9964 - root_mean_squared_error: 1.9991\n",
      "Epoch 84/450\n",
      "26/26 [==============================] - 0s 851us/step - loss: 4.1526 - mae: 1.6001 - mse: 4.1467 - root_mean_squared_error: 2.0363\n",
      "Epoch 85/450\n",
      "26/26 [==============================] - 0s 1ms/step - loss: 4.5158 - mae: 1.6546 - mse: 4.5097 - root_mean_squared_error: 2.1236\n",
      "Epoch 86/450\n",
      "26/26 [==============================] - 0s 1ms/step - loss: 4.4215 - mae: 1.6731 - mse: 4.4153 - root_mean_squared_error: 2.1013\n",
      "Epoch 87/450\n",
      "26/26 [==============================] - 0s 601us/step - loss: 4.2591 - mae: 1.6570 - mse: 4.2529 - root_mean_squared_error: 2.0623\n",
      "Epoch 88/450\n",
      "26/26 [==============================] - 0s 851us/step - loss: 4.0023 - mae: 1.5877 - mse: 3.9960 - root_mean_squared_error: 1.9990\n",
      "Epoch 89/450\n",
      "26/26 [==============================] - 0s 1ms/step - loss: 4.3591 - mae: 1.6076 - mse: 4.3526 - root_mean_squared_error: 2.0863\n",
      "Epoch 90/450\n",
      "26/26 [==============================] - 0s 601us/step - loss: 4.4282 - mae: 1.5998 - mse: 4.4217 - root_mean_squared_error: 2.1028\n",
      "Epoch 91/450\n",
      "26/26 [==============================] - 0s 851us/step - loss: 4.1870 - mae: 1.6149 - mse: 4.1803 - root_mean_squared_error: 2.0446\n",
      "Epoch 92/450\n",
      "26/26 [==============================] - 0s 1ms/step - loss: 4.1308 - mae: 1.5531 - mse: 4.1240 - root_mean_squared_error: 2.0308\n",
      "Epoch 93/450\n",
      "26/26 [==============================] - 0s 601us/step - loss: 3.8811 - mae: 1.5880 - mse: 3.8742 - root_mean_squared_error: 1.9683\n",
      "Epoch 94/450\n",
      "26/26 [==============================] - 0s 1ms/step - loss: 4.0211 - mae: 1.5496 - mse: 4.0142 - root_mean_squared_error: 2.0035\n",
      "Epoch 95/450\n",
      "26/26 [==============================] - 0s 851us/step - loss: 4.2895 - mae: 1.5986 - mse: 4.2825 - root_mean_squared_error: 2.0694\n",
      "Epoch 96/450\n",
      "26/26 [==============================] - 0s 601us/step - loss: 4.4002 - mae: 1.6913 - mse: 4.3931 - root_mean_squared_error: 2.0960\n",
      "Epoch 97/450\n",
      "26/26 [==============================] - 0s 1ms/step - loss: 3.8017 - mae: 1.5604 - mse: 3.7945 - root_mean_squared_error: 1.9480\n",
      "Epoch 98/450\n",
      "26/26 [==============================] - 0s 1ms/step - loss: 3.5752 - mae: 1.4519 - mse: 3.5679 - root_mean_squared_error: 1.8889\n",
      "Epoch 99/450\n",
      "26/26 [==============================] - 0s 601us/step - loss: 3.9935 - mae: 1.5768 - mse: 3.9862 - root_mean_squared_error: 1.9965\n",
      "Epoch 100/450\n",
      "26/26 [==============================] - 0s 1ms/step - loss: 3.7168 - mae: 1.4766 - mse: 3.7093 - root_mean_squared_error: 1.9260\n",
      "Epoch 101/450\n",
      "26/26 [==============================] - 0s 1ms/step - loss: 3.5842 - mae: 1.4831 - mse: 3.5767 - root_mean_squared_error: 1.8912\n",
      "Epoch 102/450\n",
      "26/26 [==============================] - 0s 851us/step - loss: 3.5945 - mae: 1.4418 - mse: 3.5869 - root_mean_squared_error: 1.8939\n",
      "Epoch 103/450\n",
      "26/26 [==============================] - 0s 1ms/step - loss: 3.3998 - mae: 1.4539 - mse: 3.3921 - root_mean_squared_error: 1.8418\n",
      "Epoch 104/450\n",
      "26/26 [==============================] - 0s 601us/step - loss: 3.3536 - mae: 1.3936 - mse: 3.3459 - root_mean_squared_error: 1.8292\n",
      "Epoch 105/450\n",
      "26/26 [==============================] - 0s 601us/step - loss: 3.6863 - mae: 1.4687 - mse: 3.6786 - root_mean_squared_error: 1.9180\n",
      "Epoch 106/450\n",
      "26/26 [==============================] - 0s 851us/step - loss: 3.6082 - mae: 1.5288 - mse: 3.6003 - root_mean_squared_error: 1.8975\n",
      "Epoch 107/450\n",
      "26/26 [==============================] - 0s 601us/step - loss: 4.0692 - mae: 1.5584 - mse: 4.0612 - root_mean_squared_error: 2.0153\n",
      "Epoch 108/450\n",
      "26/26 [==============================] - 0s 1ms/step - loss: 3.4447 - mae: 1.4226 - mse: 3.4367 - root_mean_squared_error: 1.8538\n",
      "Epoch 109/450\n",
      "26/26 [==============================] - 0s 1ms/step - loss: 3.9116 - mae: 1.5082 - mse: 3.9035 - root_mean_squared_error: 1.9757\n",
      "Epoch 110/450\n",
      "26/26 [==============================] - 0s 851us/step - loss: 3.8334 - mae: 1.5517 - mse: 3.8253 - root_mean_squared_error: 1.9558\n",
      "Epoch 111/450\n",
      "26/26 [==============================] - 0s 1ms/step - loss: 3.7518 - mae: 1.4917 - mse: 3.7436 - root_mean_squared_error: 1.9348\n",
      "Epoch 112/450\n"
     ]
    },
    {
     "name": "stdout",
     "output_type": "stream",
     "text": [
      "26/26 [==============================] - 0s 601us/step - loss: 3.3900 - mae: 1.4240 - mse: 3.3818 - root_mean_squared_error: 1.8390\n",
      "Epoch 113/450\n",
      "26/26 [==============================] - 0s 851us/step - loss: 3.7552 - mae: 1.5202 - mse: 3.7469 - root_mean_squared_error: 1.9357\n",
      "Epoch 114/450\n",
      "26/26 [==============================] - 0s 1ms/step - loss: 3.8006 - mae: 1.5316 - mse: 3.7922 - root_mean_squared_error: 1.9474\n",
      "Epoch 115/450\n",
      "26/26 [==============================] - 0s 601us/step - loss: 3.3967 - mae: 1.3951 - mse: 3.3884 - root_mean_squared_error: 1.8407\n",
      "Epoch 116/450\n",
      "26/26 [==============================] - 0s 601us/step - loss: 3.1753 - mae: 1.3810 - mse: 3.1669 - root_mean_squared_error: 1.7796\n",
      "Epoch 117/450\n",
      "26/26 [==============================] - 0s 851us/step - loss: 3.4774 - mae: 1.4971 - mse: 3.4689 - root_mean_squared_error: 1.8625\n",
      "Epoch 118/450\n",
      "26/26 [==============================] - 0s 601us/step - loss: 3.6187 - mae: 1.4695 - mse: 3.6102 - root_mean_squared_error: 1.9001\n",
      "Epoch 119/450\n",
      "26/26 [==============================] - 0s 1ms/step - loss: 3.2928 - mae: 1.3913 - mse: 3.2843 - root_mean_squared_error: 1.8123\n",
      "Epoch 120/450\n",
      "26/26 [==============================] - 0s 1ms/step - loss: 3.0251 - mae: 1.4096 - mse: 3.0165 - root_mean_squared_error: 1.7368\n",
      "Epoch 121/450\n",
      "26/26 [==============================] - 0s 851us/step - loss: 3.3331 - mae: 1.3978 - mse: 3.3245 - root_mean_squared_error: 1.8233\n",
      "Epoch 122/450\n",
      "26/26 [==============================] - 0s 1ms/step - loss: 3.6434 - mae: 1.5150 - mse: 3.6348 - root_mean_squared_error: 1.9065\n",
      "Epoch 123/450\n",
      "26/26 [==============================] - 0s 601us/step - loss: 3.2733 - mae: 1.4617 - mse: 3.2646 - root_mean_squared_error: 1.8068\n",
      "Epoch 124/450\n",
      "26/26 [==============================] - 0s 851us/step - loss: 3.4699 - mae: 1.4113 - mse: 3.4612 - root_mean_squared_error: 1.8604\n",
      "Epoch 125/450\n",
      "26/26 [==============================] - 0s 601us/step - loss: 3.5144 - mae: 1.4231 - mse: 3.5056 - root_mean_squared_error: 1.8723\n",
      "Epoch 126/450\n",
      "26/26 [==============================] - 0s 601us/step - loss: 3.2746 - mae: 1.4041 - mse: 3.2658 - root_mean_squared_error: 1.8072\n",
      "Epoch 127/450\n",
      "26/26 [==============================] - 0s 1ms/step - loss: 3.4006 - mae: 1.4113 - mse: 3.3918 - root_mean_squared_error: 1.8417\n",
      "Epoch 128/450\n",
      "26/26 [==============================] - 0s 851us/step - loss: 3.3525 - mae: 1.4585 - mse: 3.3436 - root_mean_squared_error: 1.8286\n",
      "Epoch 129/450\n",
      "26/26 [==============================] - 0s 1ms/step - loss: 3.7020 - mae: 1.5149 - mse: 3.6930 - root_mean_squared_error: 1.9217\n",
      "Epoch 130/450\n",
      "26/26 [==============================] - 0s 1ms/step - loss: 3.0738 - mae: 1.3626 - mse: 3.0647 - root_mean_squared_error: 1.7506\n",
      "Epoch 131/450\n",
      "26/26 [==============================] - 0s 1ms/step - loss: 3.6254 - mae: 1.5005 - mse: 3.6163 - root_mean_squared_error: 1.9016\n",
      "Epoch 132/450\n",
      "26/26 [==============================] - 0s 851us/step - loss: 3.3311 - mae: 1.4036 - mse: 3.3219 - root_mean_squared_error: 1.8226\n",
      "Epoch 133/450\n",
      "26/26 [==============================] - 0s 1ms/step - loss: 3.2706 - mae: 1.4343 - mse: 3.2614 - root_mean_squared_error: 1.8059\n",
      "Epoch 134/450\n",
      "26/26 [==============================] - 0s 601us/step - loss: 3.4851 - mae: 1.4568 - mse: 3.4759 - root_mean_squared_error: 1.8644\n",
      "Epoch 135/450\n",
      "26/26 [==============================] - 0s 851us/step - loss: 3.3748 - mae: 1.4011 - mse: 3.3655 - root_mean_squared_error: 1.8345\n",
      "Epoch 136/450\n",
      "26/26 [==============================] - 0s 601us/step - loss: 3.3916 - mae: 1.4544 - mse: 3.3823 - root_mean_squared_error: 1.8391\n",
      "Epoch 137/450\n",
      "26/26 [==============================] - 0s 601us/step - loss: 3.1650 - mae: 1.3113 - mse: 3.1556 - root_mean_squared_error: 1.7764\n",
      "Epoch 138/450\n",
      "26/26 [==============================] - 0s 1ms/step - loss: 3.4582 - mae: 1.4331 - mse: 3.4488 - root_mean_squared_error: 1.8571\n",
      "Epoch 139/450\n",
      "26/26 [==============================] - 0s 851us/step - loss: 3.7793 - mae: 1.4987 - mse: 3.7699 - root_mean_squared_error: 1.9416\n",
      "Epoch 140/450\n",
      "26/26 [==============================] - 0s 1ms/step - loss: 3.5631 - mae: 1.5116 - mse: 3.5537 - root_mean_squared_error: 1.8851\n",
      "Epoch 141/450\n",
      "26/26 [==============================] - 0s 1ms/step - loss: 3.3068 - mae: 1.4476 - mse: 3.2973 - root_mean_squared_error: 1.8158\n",
      "Epoch 142/450\n",
      "26/26 [==============================] - 0s 601us/step - loss: 3.4569 - mae: 1.4196 - mse: 3.4474 - root_mean_squared_error: 1.8567\n",
      "Epoch 143/450\n",
      "26/26 [==============================] - 0s 851us/step - loss: 3.5251 - mae: 1.4942 - mse: 3.5156 - root_mean_squared_error: 1.8750\n",
      "Epoch 144/450\n",
      "26/26 [==============================] - 0s 601us/step - loss: 3.0807 - mae: 1.3745 - mse: 3.0711 - root_mean_squared_error: 1.7525\n",
      "Epoch 145/450\n",
      "26/26 [==============================] - 0s 601us/step - loss: 3.2302 - mae: 1.4132 - mse: 3.2206 - root_mean_squared_error: 1.7946\n",
      "Epoch 146/450\n",
      "26/26 [==============================] - 0s 1ms/step - loss: 3.3288 - mae: 1.3976 - mse: 3.3191 - root_mean_squared_error: 1.8219\n",
      "Epoch 147/450\n",
      "26/26 [==============================] - 0s 601us/step - loss: 3.3279 - mae: 1.4187 - mse: 3.3183 - root_mean_squared_error: 1.8216\n",
      "Epoch 148/450\n",
      "26/26 [==============================] - 0s 1ms/step - loss: 3.1689 - mae: 1.3660 - mse: 3.1592 - root_mean_squared_error: 1.7774\n",
      "Epoch 149/450\n",
      "26/26 [==============================] - 0s 1ms/step - loss: 3.3316 - mae: 1.4259 - mse: 3.3219 - root_mean_squared_error: 1.8226\n",
      "Epoch 150/450\n",
      "26/26 [==============================] - 0s 851us/step - loss: 4.0150 - mae: 1.5287 - mse: 4.0052 - root_mean_squared_error: 2.0013\n",
      "Epoch 151/450\n",
      "26/26 [==============================] - 0s 1ms/step - loss: 3.5048 - mae: 1.4591 - mse: 3.4950 - root_mean_squared_error: 1.8695\n",
      "Epoch 152/450\n",
      "26/26 [==============================] - 0s 601us/step - loss: 3.6756 - mae: 1.4954 - mse: 3.6657 - root_mean_squared_error: 1.9146\n",
      "Epoch 153/450\n",
      "26/26 [==============================] - 0s 601us/step - loss: 3.5345 - mae: 1.4487 - mse: 3.5247 - root_mean_squared_error: 1.8774\n",
      "Epoch 154/450\n",
      "26/26 [==============================] - 0s 851us/step - loss: 3.5750 - mae: 1.4662 - mse: 3.5651 - root_mean_squared_error: 1.8881\n",
      "Epoch 155/450\n",
      "26/26 [==============================] - 0s 601us/step - loss: 3.1993 - mae: 1.4112 - mse: 3.1894 - root_mean_squared_error: 1.7859\n",
      "Epoch 156/450\n",
      "26/26 [==============================] - 0s 1ms/step - loss: 3.1976 - mae: 1.3829 - mse: 3.1878 - root_mean_squared_error: 1.7854\n",
      "Epoch 157/450\n",
      "26/26 [==============================] - 0s 1ms/step - loss: 3.2755 - mae: 1.3928 - mse: 3.2656 - root_mean_squared_error: 1.8071\n",
      "Epoch 158/450\n",
      "26/26 [==============================] - 0s 852us/step - loss: 3.1832 - mae: 1.3742 - mse: 3.1732 - root_mean_squared_error: 1.7814\n",
      "Epoch 159/450\n",
      "26/26 [==============================] - 0s 1ms/step - loss: 4.1304 - mae: 1.5795 - mse: 4.1204 - root_mean_squared_error: 2.0299\n",
      "Epoch 160/450\n",
      "26/26 [==============================] - 0s 601us/step - loss: 3.6020 - mae: 1.4523 - mse: 3.5920 - root_mean_squared_error: 1.8953\n",
      "Epoch 161/450\n",
      "26/26 [==============================] - 0s 851us/step - loss: 3.7840 - mae: 1.5081 - mse: 3.7740 - root_mean_squared_error: 1.9427\n",
      "Epoch 162/450\n",
      "26/26 [==============================] - 0s 1ms/step - loss: 2.9422 - mae: 1.3689 - mse: 2.9322 - root_mean_squared_error: 1.7124\n",
      "Epoch 163/450\n",
      "26/26 [==============================] - 0s 601us/step - loss: 3.2241 - mae: 1.4428 - mse: 3.2140 - root_mean_squared_error: 1.7928\n",
      "Epoch 164/450\n",
      "26/26 [==============================] - 0s 1ms/step - loss: 3.5476 - mae: 1.4610 - mse: 3.5375 - root_mean_squared_error: 1.8808\n",
      "Epoch 165/450\n",
      "26/26 [==============================] - 0s 851us/step - loss: 3.6758 - mae: 1.5109 - mse: 3.6656 - root_mean_squared_error: 1.9146\n",
      "Epoch 166/450\n",
      "26/26 [==============================] - 0s 601us/step - loss: 3.5760 - mae: 1.4533 - mse: 3.5659 - root_mean_squared_error: 1.8884\n",
      "Epoch 167/450\n",
      "26/26 [==============================] - 0s 1ms/step - loss: 3.3690 - mae: 1.4080 - mse: 3.3589 - root_mean_squared_error: 1.8327\n",
      "Epoch 168/450\n"
     ]
    },
    {
     "name": "stdout",
     "output_type": "stream",
     "text": [
      "26/26 [==============================] - 0s 1ms/step - loss: 3.2189 - mae: 1.3783 - mse: 3.2087 - root_mean_squared_error: 1.7913\n",
      "Epoch 169/450\n",
      "26/26 [==============================] - 0s 601us/step - loss: 2.8751 - mae: 1.3664 - mse: 2.8649 - root_mean_squared_error: 1.6926\n",
      "Epoch 170/450\n",
      "26/26 [==============================] - 0s 1ms/step - loss: 3.2910 - mae: 1.4135 - mse: 3.2808 - root_mean_squared_error: 1.8113\n",
      "Epoch 171/450\n",
      "26/26 [==============================] - 0s 1ms/step - loss: 3.1762 - mae: 1.3867 - mse: 3.1659 - root_mean_squared_error: 1.7793\n",
      "Epoch 172/450\n",
      "26/26 [==============================] - 0s 851us/step - loss: 3.3998 - mae: 1.4423 - mse: 3.3896 - root_mean_squared_error: 1.8411\n",
      "Epoch 173/450\n",
      "26/26 [==============================] - 0s 1ms/step - loss: 3.6373 - mae: 1.4889 - mse: 3.6271 - root_mean_squared_error: 1.9045\n",
      "Epoch 174/450\n",
      "26/26 [==============================] - 0s 601us/step - loss: 3.5465 - mae: 1.4232 - mse: 3.5363 - root_mean_squared_error: 1.8805\n",
      "Epoch 175/450\n",
      "26/26 [==============================] - 0s 601us/step - loss: 2.9241 - mae: 1.3380 - mse: 2.9139 - root_mean_squared_error: 1.7070\n",
      "Epoch 176/450\n",
      "26/26 [==============================] - 0s 851us/step - loss: 3.6692 - mae: 1.5348 - mse: 3.6589 - root_mean_squared_error: 1.9128\n",
      "Epoch 177/450\n",
      "26/26 [==============================] - 0s 601us/step - loss: 3.7589 - mae: 1.5138 - mse: 3.7486 - root_mean_squared_error: 1.9361\n",
      "Epoch 178/450\n",
      "26/26 [==============================] - 0s 1ms/step - loss: 3.4641 - mae: 1.4535 - mse: 3.4537 - root_mean_squared_error: 1.8584\n",
      "Epoch 179/450\n",
      "26/26 [==============================] - 0s 1ms/step - loss: 3.0877 - mae: 1.3496 - mse: 3.0773 - root_mean_squared_error: 1.7542\n",
      "Epoch 180/450\n",
      "26/26 [==============================] - 0s 852us/step - loss: 2.7067 - mae: 1.2814 - mse: 2.6963 - root_mean_squared_error: 1.6421\n",
      "Epoch 181/450\n",
      "26/26 [==============================] - 0s 601us/step - loss: 3.5807 - mae: 1.5001 - mse: 3.5703 - root_mean_squared_error: 1.8895\n",
      "Epoch 182/450\n",
      "26/26 [==============================] - 0s 1ms/step - loss: 3.5317 - mae: 1.4560 - mse: 3.5212 - root_mean_squared_error: 1.8765\n",
      "Epoch 183/450\n",
      "26/26 [==============================] - 0s 1ms/step - loss: 2.8480 - mae: 1.3186 - mse: 2.8375 - root_mean_squared_error: 1.6845\n",
      "Epoch 184/450\n",
      "26/26 [==============================] - 0s 1ms/step - loss: 3.3522 - mae: 1.4518 - mse: 3.3417 - root_mean_squared_error: 1.8280\n",
      "Epoch 185/450\n",
      "26/26 [==============================] - 0s 1ms/step - loss: 3.6273 - mae: 1.4841 - mse: 3.6168 - root_mean_squared_error: 1.9018\n",
      "Epoch 186/450\n",
      "26/26 [==============================] - 0s 851us/step - loss: 3.1588 - mae: 1.3693 - mse: 3.1482 - root_mean_squared_error: 1.7743\n",
      "Epoch 187/450\n",
      "26/26 [==============================] - 0s 1ms/step - loss: 2.8498 - mae: 1.3345 - mse: 2.8392 - root_mean_squared_error: 1.6850\n",
      "Epoch 188/450\n",
      "26/26 [==============================] - 0s 1ms/step - loss: 3.4957 - mae: 1.4059 - mse: 3.4851 - root_mean_squared_error: 1.8669\n",
      "Epoch 189/450\n",
      "26/26 [==============================] - 0s 1ms/step - loss: 3.4175 - mae: 1.4264 - mse: 3.4069 - root_mean_squared_error: 1.8458\n",
      "Epoch 190/450\n",
      "26/26 [==============================] - 0s 852us/step - loss: 3.2652 - mae: 1.4242 - mse: 3.2545 - root_mean_squared_error: 1.8040\n",
      "Epoch 191/450\n",
      "26/26 [==============================] - 0s 1ms/step - loss: 3.5439 - mae: 1.4730 - mse: 3.5331 - root_mean_squared_error: 1.8797\n",
      "Epoch 192/450\n",
      "26/26 [==============================] - 0s 1ms/step - loss: 3.5864 - mae: 1.5038 - mse: 3.5757 - root_mean_squared_error: 1.8909\n",
      "Epoch 193/450\n",
      "26/26 [==============================] - 0s 851us/step - loss: 2.9503 - mae: 1.3495 - mse: 2.9396 - root_mean_squared_error: 1.7145\n",
      "Epoch 194/450\n",
      "26/26 [==============================] - 0s 601us/step - loss: 2.9779 - mae: 1.3750 - mse: 2.9673 - root_mean_squared_error: 1.7226\n",
      "Epoch 195/450\n",
      "26/26 [==============================] - 0s 1ms/step - loss: 3.1064 - mae: 1.3354 - mse: 3.0957 - root_mean_squared_error: 1.7595\n",
      "Epoch 196/450\n",
      "26/26 [==============================] - 0s 1ms/step - loss: 3.1508 - mae: 1.4282 - mse: 3.1401 - root_mean_squared_error: 1.7720\n",
      "Epoch 197/450\n",
      "26/26 [==============================] - 0s 601us/step - loss: 3.0110 - mae: 1.3541 - mse: 3.0003 - root_mean_squared_error: 1.7321\n",
      "Epoch 198/450\n",
      "26/26 [==============================] - 0s 1ms/step - loss: 3.3594 - mae: 1.4201 - mse: 3.3488 - root_mean_squared_error: 1.8300\n",
      "Epoch 199/450\n",
      "26/26 [==============================] - 0s 1ms/step - loss: 3.2274 - mae: 1.4137 - mse: 3.2167 - root_mean_squared_error: 1.7935\n",
      "Epoch 200/450\n",
      "26/26 [==============================] - 0s 1ms/step - loss: 3.1788 - mae: 1.3770 - mse: 3.1682 - root_mean_squared_error: 1.7799\n",
      "Epoch 201/450\n",
      "26/26 [==============================] - 0s 601us/step - loss: 3.5374 - mae: 1.4982 - mse: 3.5268 - root_mean_squared_error: 1.8780\n",
      "Epoch 202/450\n",
      "26/26 [==============================] - 0s 601us/step - loss: 3.3766 - mae: 1.4419 - mse: 3.3659 - root_mean_squared_error: 1.8346\n",
      "Epoch 203/450\n",
      "26/26 [==============================] - 0s 1ms/step - loss: 3.3514 - mae: 1.4424 - mse: 3.3407 - root_mean_squared_error: 1.8278\n",
      "Epoch 204/450\n",
      "26/26 [==============================] - 0s 601us/step - loss: 3.3157 - mae: 1.4004 - mse: 3.3051 - root_mean_squared_error: 1.8180\n",
      "Epoch 205/450\n",
      "26/26 [==============================] - 0s 1ms/step - loss: 2.6892 - mae: 1.2598 - mse: 2.6786 - root_mean_squared_error: 1.6366\n",
      "Epoch 206/450\n",
      "26/26 [==============================] - 0s 1ms/step - loss: 3.2644 - mae: 1.3957 - mse: 3.2537 - root_mean_squared_error: 1.8038\n",
      "Epoch 207/450\n",
      "26/26 [==============================] - 0s 851us/step - loss: 3.2871 - mae: 1.4501 - mse: 3.2764 - root_mean_squared_error: 1.8101\n",
      "Epoch 208/450\n",
      "26/26 [==============================] - 0s 1ms/step - loss: 3.2743 - mae: 1.4256 - mse: 3.2635 - root_mean_squared_error: 1.8065\n",
      "Epoch 209/450\n",
      "26/26 [==============================] - 0s 1ms/step - loss: 3.4618 - mae: 1.4739 - mse: 3.4510 - root_mean_squared_error: 1.8577\n",
      "Epoch 210/450\n",
      "26/26 [==============================] - 0s 1ms/step - loss: 3.5657 - mae: 1.5009 - mse: 3.5549 - root_mean_squared_error: 1.8855\n",
      "Epoch 211/450\n",
      "26/26 [==============================] - 0s 852us/step - loss: 3.2474 - mae: 1.4147 - mse: 3.2366 - root_mean_squared_error: 1.7990\n",
      "Epoch 212/450\n",
      "26/26 [==============================] - 0s 1ms/step - loss: 3.2471 - mae: 1.4120 - mse: 3.2363 - root_mean_squared_error: 1.7990\n",
      "Epoch 213/450\n",
      "26/26 [==============================] - 0s 601us/step - loss: 2.9451 - mae: 1.3434 - mse: 2.9343 - root_mean_squared_error: 1.7130\n",
      "Epoch 214/450\n",
      "26/26 [==============================] - 0s 851us/step - loss: 3.4019 - mae: 1.4269 - mse: 3.3909 - root_mean_squared_error: 1.8415\n",
      "Epoch 215/450\n",
      "26/26 [==============================] - 0s 1ms/step - loss: 3.6422 - mae: 1.4967 - mse: 3.6312 - root_mean_squared_error: 1.9056\n",
      "Epoch 216/450\n",
      "26/26 [==============================] - 0s 601us/step - loss: 3.5179 - mae: 1.5023 - mse: 3.5069 - root_mean_squared_error: 1.8727\n",
      "Epoch 217/450\n",
      "26/26 [==============================] - 0s 601us/step - loss: 3.0014 - mae: 1.3591 - mse: 2.9904 - root_mean_squared_error: 1.7293\n",
      "Epoch 218/450\n",
      "26/26 [==============================] - 0s 851us/step - loss: 2.9971 - mae: 1.3548 - mse: 2.9862 - root_mean_squared_error: 1.7280\n",
      "Epoch 219/450\n",
      "26/26 [==============================] - 0s 601us/step - loss: 3.3079 - mae: 1.3936 - mse: 3.2969 - root_mean_squared_error: 1.8157\n",
      "Epoch 220/450\n",
      "26/26 [==============================] - 0s 1ms/step - loss: 3.6973 - mae: 1.5254 - mse: 3.6863 - root_mean_squared_error: 1.9200\n",
      "Epoch 221/450\n",
      "26/26 [==============================] - 0s 1ms/step - loss: 3.4864 - mae: 1.4655 - mse: 3.4754 - root_mean_squared_error: 1.8642\n",
      "Epoch 222/450\n",
      "26/26 [==============================] - 0s 601us/step - loss: 3.4039 - mae: 1.4197 - mse: 3.3929 - root_mean_squared_error: 1.8420\n",
      "Epoch 223/450\n",
      "26/26 [==============================] - 0s 1ms/step - loss: 3.5323 - mae: 1.4950 - mse: 3.5213 - root_mean_squared_error: 1.8765\n",
      "Epoch 224/450\n"
     ]
    },
    {
     "name": "stdout",
     "output_type": "stream",
     "text": [
      "26/26 [==============================] - 0s 1ms/step - loss: 3.4562 - mae: 1.4900 - mse: 3.4452 - root_mean_squared_error: 1.8561\n",
      "Epoch 225/450\n",
      "26/26 [==============================] - 0s 851us/step - loss: 3.4633 - mae: 1.4720 - mse: 3.4523 - root_mean_squared_error: 1.8580\n",
      "Epoch 226/450\n",
      "26/26 [==============================] - 0s 1ms/step - loss: 3.4145 - mae: 1.4356 - mse: 3.4034 - root_mean_squared_error: 1.8448\n",
      "Epoch 227/450\n",
      "26/26 [==============================] - 0s 601us/step - loss: 3.2946 - mae: 1.4304 - mse: 3.2835 - root_mean_squared_error: 1.8120\n",
      "Epoch 228/450\n",
      "26/26 [==============================] - 0s 601us/step - loss: 3.4494 - mae: 1.4554 - mse: 3.4383 - root_mean_squared_error: 1.8543\n",
      "Epoch 229/450\n",
      "26/26 [==============================] - 0s 1ms/step - loss: 3.4052 - mae: 1.4129 - mse: 3.3942 - root_mean_squared_error: 1.8423\n",
      "Epoch 230/450\n",
      "26/26 [==============================] - 0s 601us/step - loss: 3.2166 - mae: 1.4381 - mse: 3.2055 - root_mean_squared_error: 1.7904\n",
      "Epoch 231/450\n",
      "26/26 [==============================] - 0s 601us/step - loss: 3.4186 - mae: 1.4378 - mse: 3.4075 - root_mean_squared_error: 1.8460\n",
      "Epoch 232/450\n",
      "26/26 [==============================] - 0s 1ms/step - loss: 3.3056 - mae: 1.4143 - mse: 3.2945 - root_mean_squared_error: 1.8151\n",
      "Epoch 233/450\n",
      "26/26 [==============================] - 0s 601us/step - loss: 2.8163 - mae: 1.3069 - mse: 2.8052 - root_mean_squared_error: 1.6749\n",
      "Epoch 234/450\n",
      "26/26 [==============================] - 0s 1ms/step - loss: 3.1680 - mae: 1.3902 - mse: 3.1569 - root_mean_squared_error: 1.7768\n",
      "Epoch 235/450\n",
      "26/26 [==============================] - 0s 1ms/step - loss: 2.8098 - mae: 1.3275 - mse: 2.7987 - root_mean_squared_error: 1.6729\n",
      "Epoch 236/450\n",
      "26/26 [==============================] - 0s 851us/step - loss: 3.6134 - mae: 1.4901 - mse: 3.6023 - root_mean_squared_error: 1.8980\n",
      "Epoch 237/450\n",
      "26/26 [==============================] - 0s 1ms/step - loss: 3.2661 - mae: 1.4350 - mse: 3.2549 - root_mean_squared_error: 1.8041\n",
      "Epoch 238/450\n",
      "26/26 [==============================] - 0s 601us/step - loss: 3.3897 - mae: 1.4262 - mse: 3.3786 - root_mean_squared_error: 1.8381\n",
      "Epoch 239/450\n",
      "26/26 [==============================] - 0s 601us/step - loss: 3.5097 - mae: 1.4566 - mse: 3.4985 - root_mean_squared_error: 1.8704\n",
      "Epoch 240/450\n",
      "26/26 [==============================] - 0s 1ms/step - loss: 3.0624 - mae: 1.4039 - mse: 3.0513 - root_mean_squared_error: 1.7468\n",
      "Epoch 241/450\n",
      "26/26 [==============================] - 0s 601us/step - loss: 3.0766 - mae: 1.3729 - mse: 3.0655 - root_mean_squared_error: 1.7509\n",
      "Epoch 242/450\n",
      "26/26 [==============================] - 0s 1ms/step - loss: 3.3057 - mae: 1.4291 - mse: 3.2945 - root_mean_squared_error: 1.8151\n",
      "Epoch 243/450\n",
      "26/26 [==============================] - 0s 1ms/step - loss: 3.3397 - mae: 1.4116 - mse: 3.3285 - root_mean_squared_error: 1.8244\n",
      "Epoch 244/450\n",
      "26/26 [==============================] - 0s 601us/step - loss: 3.5920 - mae: 1.4606 - mse: 3.5809 - root_mean_squared_error: 1.8923\n",
      "Epoch 245/450\n",
      "26/26 [==============================] - 0s 1ms/step - loss: 2.9081 - mae: 1.3046 - mse: 2.8970 - root_mean_squared_error: 1.7020\n",
      "Epoch 246/450\n",
      "26/26 [==============================] - 0s 1ms/step - loss: 3.2639 - mae: 1.4443 - mse: 3.2527 - root_mean_squared_error: 1.8035\n",
      "Epoch 247/450\n",
      "26/26 [==============================] - 0s 851us/step - loss: 3.1107 - mae: 1.3874 - mse: 3.0994 - root_mean_squared_error: 1.7605\n",
      "Epoch 248/450\n",
      "26/26 [==============================] - 0s 1ms/step - loss: 2.9970 - mae: 1.3494 - mse: 2.9857 - root_mean_squared_error: 1.7279\n",
      "Epoch 249/450\n",
      "26/26 [==============================] - 0s 1ms/step - loss: 3.3224 - mae: 1.4271 - mse: 3.3111 - root_mean_squared_error: 1.8196\n",
      "Epoch 250/450\n",
      "26/26 [==============================] - 0s 601us/step - loss: 3.2316 - mae: 1.4481 - mse: 3.2202 - root_mean_squared_error: 1.7945\n",
      "Epoch 251/450\n",
      "26/26 [==============================] - 0s 851us/step - loss: 3.5269 - mae: 1.5140 - mse: 3.5155 - root_mean_squared_error: 1.8750\n",
      "Epoch 252/450\n",
      "26/26 [==============================] - 0s 1ms/step - loss: 3.4322 - mae: 1.4619 - mse: 3.4209 - root_mean_squared_error: 1.8496\n",
      "Epoch 253/450\n",
      "26/26 [==============================] - 0s 601us/step - loss: 3.0852 - mae: 1.3531 - mse: 3.0738 - root_mean_squared_error: 1.7532\n",
      "Epoch 254/450\n",
      "26/26 [==============================] - 0s 851us/step - loss: 2.9477 - mae: 1.3244 - mse: 2.9362 - root_mean_squared_error: 1.7135\n",
      "Epoch 255/450\n",
      "26/26 [==============================] - 0s 601us/step - loss: 3.3654 - mae: 1.4209 - mse: 3.3539 - root_mean_squared_error: 1.8314\n",
      "Epoch 256/450\n",
      "26/26 [==============================] - 0s 601us/step - loss: 3.0820 - mae: 1.3560 - mse: 3.0705 - root_mean_squared_error: 1.7523\n",
      "Epoch 257/450\n",
      "26/26 [==============================] - 0s 1ms/step - loss: 2.7134 - mae: 1.3013 - mse: 2.7019 - root_mean_squared_error: 1.6438\n",
      "Epoch 258/450\n",
      "26/26 [==============================] - 0s 851us/step - loss: 3.4573 - mae: 1.3976 - mse: 3.4458 - root_mean_squared_error: 1.8563\n",
      "Epoch 259/450\n",
      "26/26 [==============================] - 0s 601us/step - loss: 3.2103 - mae: 1.4119 - mse: 3.1988 - root_mean_squared_error: 1.7885\n",
      "Epoch 260/450\n",
      "26/26 [==============================] - 0s 1ms/step - loss: 3.1919 - mae: 1.3948 - mse: 3.1803 - root_mean_squared_error: 1.7833\n",
      "Epoch 261/450\n",
      "26/26 [==============================] - 0s 1ms/step - loss: 3.4570 - mae: 1.4806 - mse: 3.4454 - root_mean_squared_error: 1.8562\n",
      "Epoch 262/450\n",
      "26/26 [==============================] - 0s 851us/step - loss: 3.3536 - mae: 1.4371 - mse: 3.3420 - root_mean_squared_error: 1.8281\n",
      "Epoch 263/450\n",
      "26/26 [==============================] - 0s 1ms/step - loss: 3.3633 - mae: 1.4167 - mse: 3.3517 - root_mean_squared_error: 1.8308\n",
      "Epoch 264/450\n",
      "26/26 [==============================] - 0s 601us/step - loss: 3.6959 - mae: 1.4252 - mse: 3.6841 - root_mean_squared_error: 1.9194\n",
      "Epoch 265/450\n",
      "26/26 [==============================] - 0s 851us/step - loss: 2.8391 - mae: 1.3030 - mse: 2.8274 - root_mean_squared_error: 1.6815\n",
      "Epoch 266/450\n",
      "26/26 [==============================] - 0s 601us/step - loss: 3.1298 - mae: 1.3841 - mse: 3.1181 - root_mean_squared_error: 1.7658\n",
      "Epoch 267/450\n",
      "26/26 [==============================] - 0s 601us/step - loss: 4.2239 - mae: 1.6447 - mse: 4.2123 - root_mean_squared_error: 2.0524\n",
      "Epoch 268/450\n",
      "26/26 [==============================] - 0s 1ms/step - loss: 3.0292 - mae: 1.3347 - mse: 3.0176 - root_mean_squared_error: 1.7371\n",
      "Epoch 269/450\n",
      "26/26 [==============================] - 0s 851us/step - loss: 3.2940 - mae: 1.4195 - mse: 3.2824 - root_mean_squared_error: 1.8117\n",
      "Epoch 270/450\n",
      "26/26 [==============================] - 0s 601us/step - loss: 3.1439 - mae: 1.3795 - mse: 3.1322 - root_mean_squared_error: 1.7698\n",
      "Epoch 271/450\n",
      "26/26 [==============================] - 0s 1ms/step - loss: 3.0158 - mae: 1.3867 - mse: 3.0041 - root_mean_squared_error: 1.7332\n",
      "Epoch 272/450\n",
      "26/26 [==============================] - 0s 1ms/step - loss: 2.9214 - mae: 1.3320 - mse: 2.9097 - root_mean_squared_error: 1.7058\n",
      "Epoch 273/450\n",
      "26/26 [==============================] - 0s 851us/step - loss: 3.3919 - mae: 1.4216 - mse: 3.3802 - root_mean_squared_error: 1.8385\n",
      "Epoch 274/450\n",
      "26/26 [==============================] - 0s 1ms/step - loss: 3.3257 - mae: 1.4540 - mse: 3.3139 - root_mean_squared_error: 1.8204\n",
      "Epoch 275/450\n",
      "26/26 [==============================] - 0s 601us/step - loss: 2.9100 - mae: 1.3714 - mse: 2.8982 - root_mean_squared_error: 1.7024\n",
      "Epoch 276/450\n",
      "26/26 [==============================] - 0s 851us/step - loss: 3.8152 - mae: 1.5761 - mse: 3.8033 - root_mean_squared_error: 1.9502\n",
      "Epoch 277/450\n",
      "26/26 [==============================] - 0s 1ms/step - loss: 2.7883 - mae: 1.2740 - mse: 2.7765 - root_mean_squared_error: 1.6663\n",
      "Epoch 278/450\n",
      "26/26 [==============================] - 0s 601us/step - loss: 3.2118 - mae: 1.3966 - mse: 3.1999 - root_mean_squared_error: 1.7888\n",
      "Epoch 279/450\n",
      "26/26 [==============================] - 0s 601us/step - loss: 3.2153 - mae: 1.3936 - mse: 3.2033 - root_mean_squared_error: 1.7898\n",
      "Epoch 280/450\n"
     ]
    },
    {
     "name": "stdout",
     "output_type": "stream",
     "text": [
      "26/26 [==============================] - 0s 851us/step - loss: 3.1823 - mae: 1.3852 - mse: 3.1703 - root_mean_squared_error: 1.7805\n",
      "Epoch 281/450\n",
      "26/26 [==============================] - 0s 601us/step - loss: 3.0929 - mae: 1.3593 - mse: 3.0809 - root_mean_squared_error: 1.7552\n",
      "Epoch 282/450\n",
      "26/26 [==============================] - 0s 1ms/step - loss: 3.4305 - mae: 1.4176 - mse: 3.4184 - root_mean_squared_error: 1.8489\n",
      "Epoch 283/450\n",
      "26/26 [==============================] - 0s 1ms/step - loss: 3.0874 - mae: 1.4064 - mse: 3.0754 - root_mean_squared_error: 1.7537\n",
      "Epoch 284/450\n",
      "26/26 [==============================] - 0s 851us/step - loss: 3.3010 - mae: 1.4767 - mse: 3.2889 - root_mean_squared_error: 1.8135\n",
      "Epoch 285/450\n",
      "26/26 [==============================] - 0s 1ms/step - loss: 3.7697 - mae: 1.4867 - mse: 3.7575 - root_mean_squared_error: 1.9384\n",
      "Epoch 286/450\n",
      "26/26 [==============================] - 0s 1ms/step - loss: 3.2889 - mae: 1.4260 - mse: 3.2767 - root_mean_squared_error: 1.8102\n",
      "Epoch 287/450\n",
      "26/26 [==============================] - 0s 851us/step - loss: 2.9242 - mae: 1.3640 - mse: 2.9120 - root_mean_squared_error: 1.7065\n",
      "Epoch 288/450\n",
      "26/26 [==============================] - 0s 1ms/step - loss: 3.2157 - mae: 1.4274 - mse: 3.2035 - root_mean_squared_error: 1.7898\n",
      "Epoch 289/450\n",
      "26/26 [==============================] - 0s 601us/step - loss: 3.4717 - mae: 1.4379 - mse: 3.4596 - root_mean_squared_error: 1.8600\n",
      "Epoch 290/450\n",
      "26/26 [==============================] - 0s 601us/step - loss: 3.1297 - mae: 1.4199 - mse: 3.1176 - root_mean_squared_error: 1.7657\n",
      "Epoch 291/450\n",
      "26/26 [==============================] - 0s 1ms/step - loss: 3.2704 - mae: 1.4577 - mse: 3.2583 - root_mean_squared_error: 1.8051\n",
      "Epoch 292/450\n",
      "26/26 [==============================] - 0s 601us/step - loss: 2.9549 - mae: 1.3480 - mse: 2.9427 - root_mean_squared_error: 1.7154\n",
      "Epoch 293/450\n",
      "26/26 [==============================] - 0s 601us/step - loss: 3.6750 - mae: 1.4899 - mse: 3.6628 - root_mean_squared_error: 1.9139\n",
      "Epoch 294/450\n",
      "26/26 [==============================] - 0s 1ms/step - loss: 3.0736 - mae: 1.3982 - mse: 3.0615 - root_mean_squared_error: 1.7497\n",
      "Epoch 295/450\n",
      "26/26 [==============================] - 0s 601us/step - loss: 3.7064 - mae: 1.5222 - mse: 3.6944 - root_mean_squared_error: 1.9221\n",
      "Epoch 296/450\n",
      "26/26 [==============================] - 0s 1ms/step - loss: 3.3691 - mae: 1.4831 - mse: 3.3571 - root_mean_squared_error: 1.8322\n",
      "Epoch 297/450\n",
      "26/26 [==============================] - 0s 1ms/step - loss: 3.6684 - mae: 1.5108 - mse: 3.6563 - root_mean_squared_error: 1.9122\n",
      "Epoch 298/450\n",
      "26/26 [==============================] - 0s 851us/step - loss: 3.7124 - mae: 1.5185 - mse: 3.7003 - root_mean_squared_error: 1.9236\n",
      "Epoch 299/450\n",
      "26/26 [==============================] - 0s 1ms/step - loss: 3.4941 - mae: 1.5015 - mse: 3.4820 - root_mean_squared_error: 1.8660\n",
      "Epoch 300/450\n",
      "26/26 [==============================] - 0s 601us/step - loss: 3.5896 - mae: 1.4738 - mse: 3.5775 - root_mean_squared_error: 1.8914\n",
      "Epoch 301/450\n",
      "26/26 [==============================] - 0s 601us/step - loss: 3.3004 - mae: 1.4109 - mse: 3.2883 - root_mean_squared_error: 1.8134\n",
      "Epoch 302/450\n",
      "26/26 [==============================] - 0s 851us/step - loss: 2.7220 - mae: 1.2914 - mse: 2.7098 - root_mean_squared_error: 1.6462\n",
      "Epoch 303/450\n",
      "26/26 [==============================] - 0s 601us/step - loss: 2.8712 - mae: 1.3102 - mse: 2.8590 - root_mean_squared_error: 1.6909\n",
      "Epoch 304/450\n",
      "26/26 [==============================] - 0s 1ms/step - loss: 3.1883 - mae: 1.4020 - mse: 3.1762 - root_mean_squared_error: 1.7822\n",
      "Epoch 305/450\n",
      "26/26 [==============================] - 0s 1ms/step - loss: 3.0871 - mae: 1.3779 - mse: 3.0749 - root_mean_squared_error: 1.7535\n",
      "Epoch 306/450\n",
      "26/26 [==============================] - 0s 601us/step - loss: 3.1883 - mae: 1.4265 - mse: 3.1760 - root_mean_squared_error: 1.7821\n",
      "Epoch 307/450\n",
      "26/26 [==============================] - 0s 1ms/step - loss: 3.1622 - mae: 1.3850 - mse: 3.1500 - root_mean_squared_error: 1.7748\n",
      "Epoch 308/450\n",
      "26/26 [==============================] - 0s 1ms/step - loss: 3.8393 - mae: 1.5616 - mse: 3.8271 - root_mean_squared_error: 1.9563\n",
      "Epoch 309/450\n",
      "26/26 [==============================] - 0s 851us/step - loss: 3.4062 - mae: 1.4759 - mse: 3.3940 - root_mean_squared_error: 1.8423\n",
      "Epoch 310/450\n",
      "26/26 [==============================] - 0s 1ms/step - loss: 3.2434 - mae: 1.4164 - mse: 3.2313 - root_mean_squared_error: 1.7976\n",
      "Epoch 311/450\n",
      "26/26 [==============================] - 0s 601us/step - loss: 3.1067 - mae: 1.4018 - mse: 3.0946 - root_mean_squared_error: 1.7592\n",
      "Epoch 312/450\n",
      "26/26 [==============================] - 0s 601us/step - loss: 3.4896 - mae: 1.4479 - mse: 3.4775 - root_mean_squared_error: 1.8648\n",
      "Epoch 313/450\n",
      "26/26 [==============================] - 0s 1ms/step - loss: 3.0358 - mae: 1.3392 - mse: 3.0236 - root_mean_squared_error: 1.7389\n",
      "Epoch 314/450\n",
      "26/26 [==============================] - 0s 601us/step - loss: 3.1127 - mae: 1.3876 - mse: 3.1006 - root_mean_squared_error: 1.7608\n",
      "Epoch 315/450\n",
      "26/26 [==============================] - 0s 1ms/step - loss: 3.2357 - mae: 1.3769 - mse: 3.2235 - root_mean_squared_error: 1.7954\n",
      "Epoch 316/450\n",
      "26/26 [==============================] - 0s 1ms/step - loss: 3.1887 - mae: 1.3555 - mse: 3.1764 - root_mean_squared_error: 1.7822\n",
      "Epoch 317/450\n",
      "26/26 [==============================] - 0s 601us/step - loss: 2.8073 - mae: 1.3366 - mse: 2.7951 - root_mean_squared_error: 1.6719\n",
      "Epoch 318/450\n",
      "26/26 [==============================] - 0s 1ms/step - loss: 3.2993 - mae: 1.4233 - mse: 3.2871 - root_mean_squared_error: 1.8130\n",
      "Epoch 319/450\n",
      "26/26 [==============================] - 0s 1ms/step - loss: 3.4200 - mae: 1.4265 - mse: 3.4078 - root_mean_squared_error: 1.8460\n",
      "Epoch 320/450\n",
      "26/26 [==============================] - 0s 851us/step - loss: 3.7146 - mae: 1.5598 - mse: 3.7023 - root_mean_squared_error: 1.9241\n",
      "Epoch 321/450\n",
      "26/26 [==============================] - 0s 1ms/step - loss: 3.3801 - mae: 1.4446 - mse: 3.3678 - root_mean_squared_error: 1.8352\n",
      "Epoch 322/450\n",
      "26/26 [==============================] - 0s 1ms/step - loss: 3.1021 - mae: 1.3914 - mse: 3.0898 - root_mean_squared_error: 1.7578\n",
      "Epoch 323/450\n",
      "26/26 [==============================] - 0s 601us/step - loss: 3.6507 - mae: 1.4337 - mse: 3.6383 - root_mean_squared_error: 1.9074\n",
      "Epoch 324/450\n",
      "26/26 [==============================] - 0s 851us/step - loss: 3.8066 - mae: 1.5215 - mse: 3.7942 - root_mean_squared_error: 1.9479\n",
      "Epoch 325/450\n",
      "26/26 [==============================] - 0s 601us/step - loss: 2.8294 - mae: 1.2877 - mse: 2.8169 - root_mean_squared_error: 1.6784\n",
      "Epoch 326/450\n",
      "26/26 [==============================] - 0s 601us/step - loss: 3.4397 - mae: 1.4502 - mse: 3.4272 - root_mean_squared_error: 1.8513\n",
      "Epoch 327/450\n",
      "26/26 [==============================] - 0s 1ms/step - loss: 3.0528 - mae: 1.3724 - mse: 3.0403 - root_mean_squared_error: 1.7436\n",
      "Epoch 328/450\n",
      "26/26 [==============================] - 0s 601us/step - loss: 3.2263 - mae: 1.4508 - mse: 3.2138 - root_mean_squared_error: 1.7927\n",
      "Epoch 329/450\n",
      "26/26 [==============================] - 0s 1ms/step - loss: 3.0523 - mae: 1.3626 - mse: 3.0399 - root_mean_squared_error: 1.7435\n",
      "Epoch 330/450\n",
      "26/26 [==============================] - 0s 1ms/step - loss: 3.0861 - mae: 1.3351 - mse: 3.0736 - root_mean_squared_error: 1.7532\n",
      "Epoch 331/450\n",
      "26/26 [==============================] - 0s 851us/step - loss: 3.1576 - mae: 1.3922 - mse: 3.1452 - root_mean_squared_error: 1.7735\n",
      "Epoch 332/450\n",
      "26/26 [==============================] - 0s 1ms/step - loss: 3.6165 - mae: 1.5112 - mse: 3.6040 - root_mean_squared_error: 1.8984\n",
      "Epoch 333/450\n",
      "26/26 [==============================] - 0s 1ms/step - loss: 2.9707 - mae: 1.3406 - mse: 2.9581 - root_mean_squared_error: 1.7199\n",
      "Epoch 334/450\n",
      "26/26 [==============================] - 0s 601us/step - loss: 3.2171 - mae: 1.4097 - mse: 3.2045 - root_mean_squared_error: 1.7901\n",
      "Epoch 335/450\n",
      "26/26 [==============================] - 0s 852us/step - loss: 2.7953 - mae: 1.3014 - mse: 2.7828 - root_mean_squared_error: 1.6682\n",
      "Epoch 336/450\n"
     ]
    },
    {
     "name": "stdout",
     "output_type": "stream",
     "text": [
      "26/26 [==============================] - 0s 1ms/step - loss: 3.4096 - mae: 1.4370 - mse: 3.3971 - root_mean_squared_error: 1.8431\n",
      "Epoch 337/450\n",
      "26/26 [==============================] - 0s 601us/step - loss: 3.5478 - mae: 1.5178 - mse: 3.5353 - root_mean_squared_error: 1.8803\n",
      "Epoch 338/450\n",
      "26/26 [==============================] - 0s 851us/step - loss: 3.4653 - mae: 1.4253 - mse: 3.4528 - root_mean_squared_error: 1.8582\n",
      "Epoch 339/450\n",
      "26/26 [==============================] - 0s 601us/step - loss: 3.2290 - mae: 1.3838 - mse: 3.2166 - root_mean_squared_error: 1.7935\n",
      "Epoch 340/450\n",
      "26/26 [==============================] - 0s 601us/step - loss: 3.7402 - mae: 1.5214 - mse: 3.7278 - root_mean_squared_error: 1.9308\n",
      "Epoch 341/450\n",
      "26/26 [==============================] - 0s 1ms/step - loss: 2.8450 - mae: 1.3761 - mse: 2.8326 - root_mean_squared_error: 1.6830\n",
      "Epoch 342/450\n",
      "26/26 [==============================] - 0s 851us/step - loss: 2.9313 - mae: 1.3209 - mse: 2.9189 - root_mean_squared_error: 1.7085\n",
      "Epoch 343/450\n",
      "26/26 [==============================] - 0s 601us/step - loss: 3.4202 - mae: 1.4440 - mse: 3.4078 - root_mean_squared_error: 1.8460\n",
      "Epoch 344/450\n",
      "26/26 [==============================] - 0s 1ms/step - loss: 3.5687 - mae: 1.4596 - mse: 3.5562 - root_mean_squared_error: 1.8858\n",
      "Epoch 345/450\n",
      "26/26 [==============================] - 0s 1ms/step - loss: 3.7714 - mae: 1.5399 - mse: 3.7591 - root_mean_squared_error: 1.9388\n",
      "Epoch 346/450\n",
      "26/26 [==============================] - 0s 852us/step - loss: 3.8804 - mae: 1.5300 - mse: 3.8680 - root_mean_squared_error: 1.9667\n",
      "Epoch 347/450\n",
      "26/26 [==============================] - 0s 1ms/step - loss: 3.7409 - mae: 1.5290 - mse: 3.7286 - root_mean_squared_error: 1.9310\n",
      "Epoch 348/450\n",
      "26/26 [==============================] - 0s 601us/step - loss: 3.3739 - mae: 1.3968 - mse: 3.3616 - root_mean_squared_error: 1.8335\n",
      "Epoch 349/450\n",
      "26/26 [==============================] - 0s 851us/step - loss: 3.5229 - mae: 1.4877 - mse: 3.5105 - root_mean_squared_error: 1.8736\n",
      "Epoch 350/450\n",
      "26/26 [==============================] - 0s 1ms/step - loss: 3.8025 - mae: 1.5583 - mse: 3.7900 - root_mean_squared_error: 1.9468\n",
      "Epoch 351/450\n",
      "26/26 [==============================] - 0s 601us/step - loss: 3.3985 - mae: 1.4431 - mse: 3.3861 - root_mean_squared_error: 1.8401\n",
      "Epoch 352/450\n",
      "26/26 [==============================] - 0s 601us/step - loss: 2.9439 - mae: 1.3443 - mse: 2.9314 - root_mean_squared_error: 1.7121\n",
      "Epoch 353/450\n",
      "26/26 [==============================] - 0s 851us/step - loss: 3.5001 - mae: 1.4563 - mse: 3.4876 - root_mean_squared_error: 1.8675\n",
      "Epoch 354/450\n",
      "26/26 [==============================] - 0s 601us/step - loss: 3.7372 - mae: 1.5412 - mse: 3.7246 - root_mean_squared_error: 1.9299\n",
      "Epoch 355/450\n",
      "26/26 [==============================] - 0s 1ms/step - loss: 3.0734 - mae: 1.3694 - mse: 3.0608 - root_mean_squared_error: 1.7495\n",
      "Epoch 356/450\n",
      "26/26 [==============================] - 0s 1ms/step - loss: 3.0981 - mae: 1.3625 - mse: 3.0855 - root_mean_squared_error: 1.7566\n",
      "Epoch 357/450\n",
      "26/26 [==============================] - 0s 851us/step - loss: 2.7784 - mae: 1.2594 - mse: 2.7658 - root_mean_squared_error: 1.6631\n",
      "Epoch 358/450\n",
      "26/26 [==============================] - 0s 1ms/step - loss: 2.9139 - mae: 1.3522 - mse: 2.9013 - root_mean_squared_error: 1.7033\n",
      "Epoch 359/450\n",
      "26/26 [==============================] - 0s 601us/step - loss: 3.3828 - mae: 1.3885 - mse: 3.3702 - root_mean_squared_error: 1.8358\n",
      "Epoch 360/450\n",
      "26/26 [==============================] - 0s 1ms/step - loss: 3.1288 - mae: 1.3405 - mse: 3.1162 - root_mean_squared_error: 1.7653\n",
      "Epoch 361/450\n",
      "26/26 [==============================] - 0s 601us/step - loss: 3.2523 - mae: 1.4170 - mse: 3.2397 - root_mean_squared_error: 1.7999\n",
      "Epoch 362/450\n",
      "26/26 [==============================] - 0s 601us/step - loss: 3.0400 - mae: 1.3405 - mse: 3.0275 - root_mean_squared_error: 1.7400\n",
      "Epoch 363/450\n",
      "26/26 [==============================] - 0s 1ms/step - loss: 3.7288 - mae: 1.5338 - mse: 3.7162 - root_mean_squared_error: 1.9277\n",
      "Epoch 364/450\n",
      "26/26 [==============================] - 0s 851us/step - loss: 3.0212 - mae: 1.3835 - mse: 3.0086 - root_mean_squared_error: 1.7345\n",
      "Epoch 365/450\n",
      "26/26 [==============================] - 0s 1ms/step - loss: 3.5278 - mae: 1.4822 - mse: 3.5151 - root_mean_squared_error: 1.8749\n",
      "Epoch 366/450\n",
      "26/26 [==============================] - 0s 1ms/step - loss: 3.7361 - mae: 1.5429 - mse: 3.7234 - root_mean_squared_error: 1.9296\n",
      "Epoch 367/450\n",
      "26/26 [==============================] - 0s 601us/step - loss: 3.5794 - mae: 1.5011 - mse: 3.5667 - root_mean_squared_error: 1.8886\n",
      "Epoch 368/450\n",
      "26/26 [==============================] - 0s 851us/step - loss: 3.0178 - mae: 1.3794 - mse: 3.0052 - root_mean_squared_error: 1.7335\n",
      "Epoch 369/450\n",
      "26/26 [==============================] - 0s 1ms/step - loss: 3.5654 - mae: 1.4745 - mse: 3.5529 - root_mean_squared_error: 1.8849\n",
      "Epoch 370/450\n",
      "26/26 [==============================] - 0s 601us/step - loss: 3.4426 - mae: 1.4423 - mse: 3.4301 - root_mean_squared_error: 1.8521\n",
      "Epoch 371/450\n",
      "26/26 [==============================] - 0s 1ms/step - loss: 3.3866 - mae: 1.4308 - mse: 3.3741 - root_mean_squared_error: 1.8369\n",
      "Epoch 372/450\n",
      "26/26 [==============================] - 0s 601us/step - loss: 3.1100 - mae: 1.4005 - mse: 3.0974 - root_mean_squared_error: 1.7600\n",
      "Epoch 373/450\n",
      "26/26 [==============================] - 0s 1ms/step - loss: 3.0431 - mae: 1.3842 - mse: 3.0306 - root_mean_squared_error: 1.7408\n",
      "Epoch 374/450\n",
      "26/26 [==============================] - 0s 1ms/step - loss: 3.6144 - mae: 1.4439 - mse: 3.6018 - root_mean_squared_error: 1.8978\n",
      "Epoch 375/450\n",
      "26/26 [==============================] - 0s 851us/step - loss: 3.0796 - mae: 1.3636 - mse: 3.0670 - root_mean_squared_error: 1.7513\n",
      "Epoch 376/450\n",
      "26/26 [==============================] - 0s 1ms/step - loss: 3.2351 - mae: 1.4092 - mse: 3.2225 - root_mean_squared_error: 1.7951\n",
      "Epoch 377/450\n",
      "26/26 [==============================] - 0s 1ms/step - loss: 3.6380 - mae: 1.4969 - mse: 3.6253 - root_mean_squared_error: 1.9040\n",
      "Epoch 378/450\n",
      "26/26 [==============================] - 0s 601us/step - loss: 3.4063 - mae: 1.4281 - mse: 3.3937 - root_mean_squared_error: 1.8422\n",
      "Epoch 379/450\n",
      "26/26 [==============================] - 0s 852us/step - loss: 3.0537 - mae: 1.3679 - mse: 3.0410 - root_mean_squared_error: 1.7438\n",
      "Epoch 380/450\n",
      "26/26 [==============================] - 0s 1ms/step - loss: 3.1942 - mae: 1.4075 - mse: 3.1815 - root_mean_squared_error: 1.7837\n",
      "Epoch 381/450\n",
      "26/26 [==============================] - 0s 601us/step - loss: 3.0539 - mae: 1.4215 - mse: 3.0411 - root_mean_squared_error: 1.7439\n",
      "Epoch 382/450\n",
      "26/26 [==============================] - 0s 1ms/step - loss: 2.9431 - mae: 1.3570 - mse: 2.9303 - root_mean_squared_error: 1.7118\n",
      "Epoch 383/450\n",
      "26/26 [==============================] - 0s 601us/step - loss: 3.1981 - mae: 1.4108 - mse: 3.1852 - root_mean_squared_error: 1.7847\n",
      "Epoch 384/450\n",
      "26/26 [==============================] - 0s 1ms/step - loss: 3.0314 - mae: 1.3622 - mse: 3.0186 - root_mean_squared_error: 1.7374\n",
      "Epoch 385/450\n",
      "26/26 [==============================] - 0s 1ms/step - loss: 3.1358 - mae: 1.4150 - mse: 3.1230 - root_mean_squared_error: 1.7672\n",
      "Epoch 386/450\n",
      "26/26 [==============================] - 0s 851us/step - loss: 2.9503 - mae: 1.3439 - mse: 2.9375 - root_mean_squared_error: 1.7139\n",
      "Epoch 387/450\n",
      "26/26 [==============================] - 0s 1ms/step - loss: 3.3109 - mae: 1.4147 - mse: 3.2981 - root_mean_squared_error: 1.8161\n",
      "Epoch 388/450\n",
      "26/26 [==============================] - 0s 601us/step - loss: 3.5064 - mae: 1.4521 - mse: 3.4937 - root_mean_squared_error: 1.8691\n",
      "Epoch 389/450\n",
      "26/26 [==============================] - 0s 601us/step - loss: 3.4537 - mae: 1.4816 - mse: 3.4410 - root_mean_squared_error: 1.8550\n",
      "Epoch 390/450\n",
      "26/26 [==============================] - 0s 1ms/step - loss: 3.2479 - mae: 1.4006 - mse: 3.2352 - root_mean_squared_error: 1.7987\n",
      "Epoch 391/450\n",
      "26/26 [==============================] - 0s 601us/step - loss: 3.1078 - mae: 1.4311 - mse: 3.0950 - root_mean_squared_error: 1.7593\n",
      "Epoch 392/450\n"
     ]
    },
    {
     "name": "stdout",
     "output_type": "stream",
     "text": [
      "26/26 [==============================] - 0s 601us/step - loss: 2.9811 - mae: 1.3789 - mse: 2.9683 - root_mean_squared_error: 1.7229\n",
      "Epoch 393/450\n",
      "26/26 [==============================] - 0s 1ms/step - loss: 3.0720 - mae: 1.4008 - mse: 3.0592 - root_mean_squared_error: 1.7491\n",
      "Epoch 394/450\n",
      "26/26 [==============================] - 0s 601us/step - loss: 3.0950 - mae: 1.3781 - mse: 3.0823 - root_mean_squared_error: 1.7556\n",
      "Epoch 395/450\n",
      "26/26 [==============================] - 0s 1ms/step - loss: 2.9405 - mae: 1.3613 - mse: 2.9277 - root_mean_squared_error: 1.7110\n",
      "Epoch 396/450\n",
      "26/26 [==============================] - 0s 1ms/step - loss: 3.5582 - mae: 1.4655 - mse: 3.5453 - root_mean_squared_error: 1.8829\n",
      "Epoch 397/450\n",
      "26/26 [==============================] - 0s 851us/step - loss: 2.9925 - mae: 1.3336 - mse: 2.9796 - root_mean_squared_error: 1.7262\n",
      "Epoch 398/450\n",
      "26/26 [==============================] - 0s 1ms/step - loss: 3.1285 - mae: 1.3655 - mse: 3.1156 - root_mean_squared_error: 1.7651\n",
      "Epoch 399/450\n",
      "26/26 [==============================] - 0s 601us/step - loss: 3.2586 - mae: 1.4163 - mse: 3.2458 - root_mean_squared_error: 1.8016\n",
      "Epoch 400/450\n",
      "26/26 [==============================] - 0s 601us/step - loss: 3.0909 - mae: 1.3926 - mse: 3.0779 - root_mean_squared_error: 1.7544\n",
      "Epoch 401/450\n",
      "26/26 [==============================] - 0s 851us/step - loss: 3.0392 - mae: 1.3589 - mse: 3.0263 - root_mean_squared_error: 1.7396\n",
      "Epoch 402/450\n",
      "26/26 [==============================] - 0s 601us/step - loss: 2.8970 - mae: 1.3207 - mse: 2.8841 - root_mean_squared_error: 1.6983\n",
      "Epoch 403/450\n",
      "26/26 [==============================] - 0s 1ms/step - loss: 3.2686 - mae: 1.4242 - mse: 3.2556 - root_mean_squared_error: 1.8043\n",
      "Epoch 404/450\n",
      "26/26 [==============================] - 0s 1ms/step - loss: 2.8781 - mae: 1.3749 - mse: 2.8652 - root_mean_squared_error: 1.6927\n",
      "Epoch 405/450\n",
      "26/26 [==============================] - 0s 601us/step - loss: 3.1866 - mae: 1.3982 - mse: 3.1737 - root_mean_squared_error: 1.7815\n",
      "Epoch 406/450\n",
      "26/26 [==============================] - 0s 1ms/step - loss: 3.3055 - mae: 1.4340 - mse: 3.2926 - root_mean_squared_error: 1.8146\n",
      "Epoch 407/450\n",
      "26/26 [==============================] - 0s 1ms/step - loss: 3.1917 - mae: 1.3963 - mse: 3.1788 - root_mean_squared_error: 1.7829\n",
      "Epoch 408/450\n",
      "26/26 [==============================] - 0s 851us/step - loss: 3.1115 - mae: 1.3957 - mse: 3.0986 - root_mean_squared_error: 1.7603\n",
      "Epoch 409/450\n",
      "26/26 [==============================] - 0s 1ms/step - loss: 3.2672 - mae: 1.4401 - mse: 3.2543 - root_mean_squared_error: 1.8040\n",
      "Epoch 410/450\n",
      "26/26 [==============================] - 0s 601us/step - loss: 3.1311 - mae: 1.3684 - mse: 3.1183 - root_mean_squared_error: 1.7659\n",
      "Epoch 411/450\n",
      "26/26 [==============================] - 0s 601us/step - loss: 3.1011 - mae: 1.3455 - mse: 3.0882 - root_mean_squared_error: 1.7573\n",
      "Epoch 412/450\n",
      "26/26 [==============================] - 0s 851us/step - loss: 3.3308 - mae: 1.4699 - mse: 3.3178 - root_mean_squared_error: 1.8215\n",
      "Epoch 413/450\n",
      "26/26 [==============================] - 0s 601us/step - loss: 3.1358 - mae: 1.3593 - mse: 3.1229 - root_mean_squared_error: 1.7672\n",
      "Epoch 414/450\n",
      "26/26 [==============================] - 0s 1ms/step - loss: 3.3161 - mae: 1.4228 - mse: 3.3030 - root_mean_squared_error: 1.8174\n",
      "Epoch 415/450\n",
      "26/26 [==============================] - 0s 1ms/step - loss: 3.2082 - mae: 1.3916 - mse: 3.1951 - root_mean_squared_error: 1.7875\n",
      "Epoch 416/450\n",
      "26/26 [==============================] - 0s 852us/step - loss: 3.3174 - mae: 1.4352 - mse: 3.3043 - root_mean_squared_error: 1.8178\n",
      "Epoch 417/450\n",
      "26/26 [==============================] - 0s 1ms/step - loss: 3.3184 - mae: 1.4371 - mse: 3.3054 - root_mean_squared_error: 1.8181\n",
      "Epoch 418/450\n",
      "26/26 [==============================] - 0s 601us/step - loss: 3.4389 - mae: 1.4292 - mse: 3.4258 - root_mean_squared_error: 1.8509\n",
      "Epoch 419/450\n",
      "26/26 [==============================] - 0s 851us/step - loss: 3.5154 - mae: 1.4689 - mse: 3.5024 - root_mean_squared_error: 1.8715\n",
      "Epoch 420/450\n",
      "26/26 [==============================] - 0s 1ms/step - loss: 3.8560 - mae: 1.5156 - mse: 3.8430 - root_mean_squared_error: 1.9603\n",
      "Epoch 421/450\n",
      "26/26 [==============================] - 0s 601us/step - loss: 3.1894 - mae: 1.3656 - mse: 3.1763 - root_mean_squared_error: 1.7822\n",
      "Epoch 422/450\n",
      "26/26 [==============================] - 0s 1ms/step - loss: 3.8195 - mae: 1.5834 - mse: 3.8065 - root_mean_squared_error: 1.9510\n",
      "Epoch 423/450\n",
      "26/26 [==============================] - 0s 851us/step - loss: 2.7490 - mae: 1.2683 - mse: 2.7360 - root_mean_squared_error: 1.6541\n",
      "Epoch 424/450\n",
      "26/26 [==============================] - 0s 601us/step - loss: 2.7942 - mae: 1.2858 - mse: 2.7812 - root_mean_squared_error: 1.6677\n",
      "Epoch 425/450\n",
      "26/26 [==============================] - 0s 1ms/step - loss: 3.2745 - mae: 1.4120 - mse: 3.2615 - root_mean_squared_error: 1.8060\n",
      "Epoch 426/450\n",
      "26/26 [==============================] - 0s 1ms/step - loss: 3.5569 - mae: 1.4378 - mse: 3.5439 - root_mean_squared_error: 1.8825\n",
      "Epoch 427/450\n",
      "26/26 [==============================] - 0s 852us/step - loss: 3.9052 - mae: 1.6012 - mse: 3.8922 - root_mean_squared_error: 1.9729\n",
      "Epoch 428/450\n",
      "26/26 [==============================] - 0s 1ms/step - loss: 3.3628 - mae: 1.4686 - mse: 3.3499 - root_mean_squared_error: 1.8303\n",
      "Epoch 429/450\n",
      "26/26 [==============================] - 0s 1ms/step - loss: 3.1558 - mae: 1.4136 - mse: 3.1428 - root_mean_squared_error: 1.7728\n",
      "Epoch 430/450\n",
      "26/26 [==============================] - 0s 851us/step - loss: 2.9646 - mae: 1.3164 - mse: 2.9516 - root_mean_squared_error: 1.7180\n",
      "Epoch 431/450\n",
      "26/26 [==============================] - 0s 1ms/step - loss: 3.2452 - mae: 1.3762 - mse: 3.2321 - root_mean_squared_error: 1.7978\n",
      "Epoch 432/450\n",
      "26/26 [==============================] - 0s 601us/step - loss: 3.5602 - mae: 1.5253 - mse: 3.5472 - root_mean_squared_error: 1.8834\n",
      "Epoch 433/450\n",
      "26/26 [==============================] - 0s 601us/step - loss: 3.6018 - mae: 1.4549 - mse: 3.5888 - root_mean_squared_error: 1.8944\n",
      "Epoch 434/450\n",
      "26/26 [==============================] - 0s 1ms/step - loss: 3.0746 - mae: 1.3759 - mse: 3.0616 - root_mean_squared_error: 1.7497\n",
      "Epoch 435/450\n",
      "26/26 [==============================] - 0s 601us/step - loss: 3.3266 - mae: 1.3670 - mse: 3.3136 - root_mean_squared_error: 1.8203\n",
      "Epoch 436/450\n",
      "26/26 [==============================] - 0s 1ms/step - loss: 2.9545 - mae: 1.3844 - mse: 2.9415 - root_mean_squared_error: 1.7151\n",
      "Epoch 437/450\n",
      "26/26 [==============================] - 0s 1ms/step - loss: 3.4468 - mae: 1.4601 - mse: 3.4337 - root_mean_squared_error: 1.8530\n",
      "Epoch 438/450\n",
      "26/26 [==============================] - 0s 601us/step - loss: 3.1047 - mae: 1.3637 - mse: 3.0916 - root_mean_squared_error: 1.7583\n",
      "Epoch 439/450\n",
      "26/26 [==============================] - 0s 1ms/step - loss: 3.1661 - mae: 1.3955 - mse: 3.1530 - root_mean_squared_error: 1.7757\n",
      "Epoch 440/450\n",
      "26/26 [==============================] - 0s 1ms/step - loss: 3.8771 - mae: 1.4745 - mse: 3.8640 - root_mean_squared_error: 1.9657\n",
      "Epoch 441/450\n",
      "26/26 [==============================] - 0s 851us/step - loss: 3.1452 - mae: 1.4149 - mse: 3.1321 - root_mean_squared_error: 1.7698\n",
      "Epoch 442/450\n",
      "26/26 [==============================] - 0s 1ms/step - loss: 3.1515 - mae: 1.3874 - mse: 3.1384 - root_mean_squared_error: 1.7716\n",
      "Epoch 443/450\n",
      "26/26 [==============================] - 0s 601us/step - loss: 3.4441 - mae: 1.4775 - mse: 3.4311 - root_mean_squared_error: 1.8523\n",
      "Epoch 444/450\n",
      "26/26 [==============================] - 0s 601us/step - loss: 3.0756 - mae: 1.3894 - mse: 3.0626 - root_mean_squared_error: 1.7500\n",
      "Epoch 445/450\n",
      "26/26 [==============================] - 0s 1ms/step - loss: 3.0957 - mae: 1.4003 - mse: 3.0826 - root_mean_squared_error: 1.7557\n",
      "Epoch 446/450\n",
      "26/26 [==============================] - 0s 601us/step - loss: 3.2190 - mae: 1.3886 - mse: 3.2059 - root_mean_squared_error: 1.7905\n",
      "Epoch 447/450\n",
      "26/26 [==============================] - 0s 1ms/step - loss: 3.4640 - mae: 1.4360 - mse: 3.4509 - root_mean_squared_error: 1.8577\n",
      "Epoch 448/450\n"
     ]
    },
    {
     "name": "stdout",
     "output_type": "stream",
     "text": [
      "26/26 [==============================] - 0s 1ms/step - loss: 2.8983 - mae: 1.3311 - mse: 2.8853 - root_mean_squared_error: 1.6986\n",
      "Epoch 449/450\n",
      "26/26 [==============================] - 0s 601us/step - loss: 3.3535 - mae: 1.4130 - mse: 3.3404 - root_mean_squared_error: 1.8277\n",
      "Epoch 450/450\n",
      "26/26 [==============================] - 0s 1ms/step - loss: 2.8464 - mae: 1.3317 - mse: 2.8333 - root_mean_squared_error: 1.6832\n"
     ]
    }
   ],
   "source": [
    "start = time.time()\n",
    "grid_result = grid.fit(dum_df_treinamento, y_treinamento)\n",
    "end = time.time()"
   ]
  },
  {
   "cell_type": "code",
   "execution_count": 149,
   "id": "solar-surprise",
   "metadata": {},
   "outputs": [
    {
     "data": {
      "text/plain": [
       "OrderedDict([('estimator__activation', 'softplus'),\n",
       "             ('estimator__batch_size', 9),\n",
       "             ('estimator__dropout_rate', 0.1),\n",
       "             ('estimator__epochs', 450),\n",
       "             ('estimator__init_mode', 'glorot_normal'),\n",
       "             ('estimator__loss', 'mse'),\n",
       "             ('estimator__neurons', 1024),\n",
       "             ('estimator__optimizer', 'Adam'),\n",
       "             ('estimator__regularizers',\n",
       "              <tensorflow.python.keras.regularizers.L2 at 0x1b8a703f550>),\n",
       "             ('estimator__weight_constraint', 5),\n",
       "             ('scaler', PowerTransformer())])"
      ]
     },
     "execution_count": 149,
     "metadata": {},
     "output_type": "execute_result"
    }
   ],
   "source": [
    "grid_result.best_params_"
   ]
  },
  {
   "cell_type": "code",
   "execution_count": 150,
   "id": "independent-hands",
   "metadata": {},
   "outputs": [],
   "source": [
    "sns.set_theme()"
   ]
  },
  {
   "cell_type": "code",
   "execution_count": 152,
   "id": "legitimate-support",
   "metadata": {},
   "outputs": [
    {
     "data": {
      "image/png": "[encoded data removed]",
      "text/plain": [
       "<Figure size 432x288 with 1 Axes>"
      ]
     },
     "metadata": {},
     "output_type": "display_data"
    },
    {
     "data": {
      "image/png": "[encoded data removed]",
      "text/plain": [
       "<Figure size 432x288 with 1 Axes>"
      ]
     },
     "metadata": {},
     "output_type": "display_data"
    }
   ],
   "source": [
    "def plot_history():\n",
    "    hist = pd.DataFrame(grid_result.best_estimator_['estimator'].model.history.history)\n",
    "    hist.reset_index(inplace=True)\n",
    "    hist = hist.rename(columns = {'index':'epoch'})\n",
    "\n",
    "    plt.figure()\n",
    "    plt.xlabel('Época')\n",
    "    plt.ylabel('Erro [MSE]')\n",
    "    plt.plot(hist['epoch'], hist['mse'],\n",
    "           label='Erro')\n",
    "    plt.ylim([0,20])\n",
    "    plt.legend()\n",
    "    \n",
    "    plt.figure()\n",
    "    plt.xlabel('Época')\n",
    "    plt.ylabel('Perda [MSE]')\n",
    "    plt.plot(hist['epoch'], hist['loss'],\n",
    "           label='Perda')\n",
    "    plt.ylim([0,5])\n",
    "    plt.legend()\n",
    "    plt.show()\n",
    "\n",
    "\n",
    "plot_history()"
   ]
  },
  {
   "cell_type": "code",
   "execution_count": 153,
   "id": "portuguese-niger",
   "metadata": {},
   "outputs": [
    {
     "name": "stdout",
     "output_type": "stream",
     "text": [
      "21.84087365468343\n"
     ]
    }
   ],
   "source": [
    "print((end-start)/60)"
   ]
  },
  {
   "cell_type": "code",
   "execution_count": 154,
   "id": "asian-disability",
   "metadata": {},
   "outputs": [
    {
     "name": "stdout",
     "output_type": "stream",
     "text": [
      "11/11 [==============================] - 0s 0s/step\n"
     ]
    }
   ],
   "source": [
    "predictions = grid_result.predict(dum_df_teste)"
   ]
  },
  {
   "cell_type": "code",
   "execution_count": 155,
   "id": "complex-rebound",
   "metadata": {},
   "outputs": [
    {
     "name": "stdout",
     "output_type": "stream",
     "text": [
      "Prediction: 87.819603 - Real: 87.914455 - Error: 0.094852\n",
      "Prediction: 95.795738 - Real: 94.080925 - Error: -1.714814\n",
      "Prediction: 86.225105 - Real: 85.977501 - Error: -0.247604\n",
      "Prediction: 90.799400 - Real: 91.977949 - Error: 1.178549\n",
      "Prediction: 85.840752 - Real: 85.980207 - Error: 0.139455\n",
      "Prediction: 92.688187 - Real: 88.231072 - Error: -4.457115\n",
      "Prediction: 87.849724 - Real: 85.492967 - Error: -2.356757\n",
      "Prediction: 86.863655 - Real: 88.067656 - Error: 1.204001\n",
      "Prediction: 88.500542 - Real: 86.053394 - Error: -2.447148\n",
      "Prediction: 91.736351 - Real: 90.870879 - Error: -0.865472\n",
      "Prediction: 88.339424 - Real: 85.389330 - Error: -2.950094\n",
      "Prediction: 93.410019 - Real: 93.445899 - Error: 0.035880\n",
      "Prediction: 88.548538 - Real: 90.307465 - Error: 1.758927\n",
      "Prediction: 89.383430 - Real: 88.216717 - Error: -1.166713\n",
      "Prediction: 87.016586 - Real: 86.695832 - Error: -0.320754\n",
      "Prediction: 87.585152 - Real: 88.399947 - Error: 0.814796\n",
      "Prediction: 87.401009 - Real: 86.546034 - Error: -0.854975\n",
      "Prediction: 87.435165 - Real: 86.316334 - Error: -1.118832\n",
      "Prediction: 90.886124 - Real: 89.945125 - Error: -0.940999\n",
      "Prediction: 93.556374 - Real: 94.593698 - Error: 1.037324\n",
      "Prediction: 89.242409 - Real: 86.221074 - Error: -3.021335\n",
      "Prediction: 87.926727 - Real: 86.483409 - Error: -1.443318\n",
      "Prediction: 92.823479 - Real: 93.592075 - Error: 0.768597\n",
      "Prediction: 89.767052 - Real: 88.264251 - Error: -1.502800\n",
      "Prediction: 87.099930 - Real: 87.622221 - Error: 0.522292\n",
      "Prediction: 89.959732 - Real: 87.331905 - Error: -2.627827\n",
      "Prediction: 87.477180 - Real: 89.206343 - Error: 1.729162\n",
      "Prediction: 86.829872 - Real: 85.579012 - Error: -1.250860\n",
      "Prediction: 96.535057 - Real: 96.058002 - Error: -0.477055\n",
      "Prediction: 91.046364 - Real: 90.391091 - Error: -0.655273\n",
      "Prediction: 95.162766 - Real: 94.947044 - Error: -0.215721\n",
      "Prediction: 86.467514 - Real: 85.399585 - Error: -1.067929\n",
      "Prediction: 85.459686 - Real: 85.911234 - Error: 0.451548\n",
      "Prediction: 84.227715 - Real: 83.978295 - Error: -0.249420\n",
      "Prediction: 94.356117 - Real: 96.114959 - Error: 1.758841\n",
      "Prediction: 89.673378 - Real: 88.272981 - Error: -1.400397\n",
      "Prediction: 88.419403 - Real: 87.620361 - Error: -0.799042\n",
      "Prediction: 94.987831 - Real: 94.211351 - Error: -0.776480\n",
      "Prediction: 87.920158 - Real: 86.653367 - Error: -1.266792\n",
      "Prediction: 85.598167 - Real: 84.395940 - Error: -1.202227\n",
      "Prediction: 90.560463 - Real: 90.571928 - Error: 0.011465\n",
      "Prediction: 84.386383 - Real: 85.449821 - Error: 1.063438\n",
      "Prediction: 91.520073 - Real: 94.651981 - Error: 3.131908\n",
      "Prediction: 94.497391 - Real: 94.212466 - Error: -0.284925\n",
      "Prediction: 91.361488 - Real: 93.602318 - Error: 2.240830\n",
      "Prediction: 93.501228 - Real: 95.842096 - Error: 2.340868\n",
      "Prediction: 94.199303 - Real: 92.649149 - Error: -1.550154\n",
      "Prediction: 95.118629 - Real: 94.185865 - Error: -0.932765\n",
      "Prediction: 92.963348 - Real: 89.750871 - Error: -3.212478\n",
      "Prediction: 85.844704 - Real: 86.137852 - Error: 0.293148\n",
      "Prediction: 90.185616 - Real: 87.344202 - Error: -2.841413\n",
      "Prediction: 88.284004 - Real: 86.993160 - Error: -1.290844\n",
      "Prediction: 87.961212 - Real: 88.363529 - Error: 0.402317\n",
      "Prediction: 90.874123 - Real: 91.504229 - Error: 0.630106\n",
      "Prediction: 90.726082 - Real: 88.313143 - Error: -2.412938\n",
      "Prediction: 95.977989 - Real: 93.403054 - Error: -2.574935\n",
      "Prediction: 88.775520 - Real: 88.779673 - Error: 0.004153\n",
      "Prediction: 92.593430 - Real: 94.165340 - Error: 1.571910\n",
      "Prediction: 84.105507 - Real: 86.035340 - Error: 1.929833\n",
      "Prediction: 97.051491 - Real: 94.081961 - Error: -2.969530\n",
      "Prediction: 88.469444 - Real: 88.633706 - Error: 0.164262\n",
      "Prediction: 92.340851 - Real: 92.503622 - Error: 0.162771\n",
      "Prediction: 88.350151 - Real: 86.150065 - Error: -2.200086\n",
      "Prediction: 95.995094 - Real: 95.882678 - Error: -0.112416\n",
      "Prediction: 87.100868 - Real: 87.529492 - Error: 0.428624\n",
      "Prediction: 89.945084 - Real: 88.903812 - Error: -1.041272\n",
      "Prediction: 84.892876 - Real: 86.528459 - Error: 1.635583\n",
      "Prediction: 89.048370 - Real: 88.673850 - Error: -0.374520\n",
      "Prediction: 91.683853 - Real: 91.868008 - Error: 0.184155\n",
      "Prediction: 93.616768 - Real: 91.993129 - Error: -1.623639\n",
      "Prediction: 91.487564 - Real: 90.442988 - Error: -1.044576\n",
      "Prediction: 90.215736 - Real: 88.920595 - Error: -1.295142\n",
      "Prediction: 96.696503 - Real: 92.211632 - Error: -4.484871\n",
      "Prediction: 88.789505 - Real: 88.477294 - Error: -0.312211\n",
      "Prediction: 93.373405 - Real: 92.777586 - Error: -0.595819\n",
      "Prediction: 88.506920 - Real: 87.707670 - Error: -0.799250\n",
      "Prediction: 87.036095 - Real: 87.117784 - Error: 0.081689\n",
      "Prediction: 89.263680 - Real: 90.430241 - Error: 1.166561\n",
      "Prediction: 95.784935 - Real: 95.188867 - Error: -0.596068\n",
      "Prediction: 86.689400 - Real: 86.944136 - Error: 0.254736\n",
      "Prediction: 93.080338 - Real: 95.732805 - Error: 2.652467\n",
      "Prediction: 93.029800 - Real: 93.059371 - Error: 0.029571\n",
      "Prediction: 94.580696 - Real: 95.264163 - Error: 0.683467\n",
      "Prediction: 89.968254 - Real: 89.220756 - Error: -0.747498\n",
      "Prediction: 90.965935 - Real: 92.037293 - Error: 1.071358\n",
      "Prediction: 87.995735 - Real: 87.624957 - Error: -0.370778\n",
      "Prediction: 85.712585 - Real: 87.195773 - Error: 1.483187\n",
      "Prediction: 93.086052 - Real: 94.015747 - Error: 0.929695\n",
      "Prediction: 88.879326 - Real: 88.567871 - Error: -0.311454\n",
      "Prediction: 88.264778 - Real: 90.161841 - Error: 1.897062\n",
      "Prediction: 89.916862 - Real: 89.710681 - Error: -0.206181\n",
      "Prediction: 89.679604 - Real: 87.901295 - Error: -1.778309\n",
      "Prediction: 97.729073 - Real: 94.085572 - Error: -3.643501\n",
      "Prediction: 90.509712 - Real: 89.568488 - Error: -0.941224\n",
      "Prediction: 94.313942 - Real: 94.222457 - Error: -0.091485\n",
      "Prediction: 86.196198 - Real: 85.679575 - Error: -0.516622\n",
      "Prediction: 85.725563 - Real: 87.645180 - Error: 1.919617\n",
      "Prediction: 94.759590 - Real: 94.593181 - Error: -0.166409\n"
     ]
    }
   ],
   "source": [
    "for prediction, real in zip(predictions, y_teste):\n",
    "    print(\"Prediction: %f - Real: %f - Error: %f\" % (prediction, real, real - prediction))"
   ]
  },
  {
   "cell_type": "code",
   "execution_count": 156,
   "id": "continuing-antarctica",
   "metadata": {},
   "outputs": [
    {
     "name": "stdout",
     "output_type": "stream",
     "text": [
      "1.2100007663632735\n"
     ]
    }
   ],
   "source": [
    "print(mean_absolute_error(predictions, y_teste))"
   ]
  },
  {
   "cell_type": "code",
   "execution_count": 157,
   "id": "editorial-raise",
   "metadata": {},
   "outputs": [
    {
     "name": "stdout",
     "output_type": "stream",
     "text": [
      "2.459140049128765\n"
     ]
    }
   ],
   "source": [
    "print(mean_squared_error(predictions, y_teste))"
   ]
  },
  {
   "cell_type": "code",
   "execution_count": 158,
   "id": "upper-screening",
   "metadata": {},
   "outputs": [
    {
     "name": "stdout",
     "output_type": "stream",
     "text": [
      "1.56816454784846\n"
     ]
    }
   ],
   "source": [
    "print(mean_squared_error(predictions, y_teste, squared=False))"
   ]
  },
  {
   "cell_type": "code",
   "execution_count": 159,
   "id": "contained-electronics",
   "metadata": {},
   "outputs": [
    {
     "name": "stdout",
     "output_type": "stream",
     "text": [
      "0.7799364710161865\n"
     ]
    }
   ],
   "source": [
    "print(r2_score(predictions, y_teste))"
   ]
  },
  {
   "cell_type": "code",
   "execution_count": 160,
   "id": "british-determination",
   "metadata": {},
   "outputs": [],
   "source": [
    "error = y_teste - predictions"
   ]
  },
  {
   "cell_type": "code",
   "execution_count": 162,
   "id": "direct-annex",
   "metadata": {},
   "outputs": [
    {
     "data": {
      "image/png": "[encoded data removed]",
      "text/plain": [
       "<Figure size 432x288 with 1 Axes>"
      ]
     },
     "metadata": {},
     "output_type": "display_data"
    }
   ],
   "source": [
    "plt.hist(error, bins = 25)\n",
    "plt.xlabel(\"Resíduos\")\n",
    "_ = plt.ylabel(\"Observações\")"
   ]
  },
  {
   "cell_type": "code",
   "execution_count": 163,
   "id": "rough-environment",
   "metadata": {},
   "outputs": [],
   "source": [
    "resultados = pd.DataFrame({'Valores Preditos':predictions, 'Resíduos':error})"
   ]
  },
  {
   "cell_type": "code",
   "execution_count": 164,
   "id": "stretch-ballet",
   "metadata": {
    "scrolled": true
   },
   "outputs": [
    {
     "data": {
      "image/png": "[encoded data removed]",
      "text/plain": [
       "<Figure size 432x288 with 1 Axes>"
      ]
     },
     "metadata": {},
     "output_type": "display_data"
    }
   ],
   "source": [
    "sns.scatterplot(data=resultados, x=\"Valores Preditos\", y=\"Resíduos\")\n",
    "ax = sns.lineplot(x=resultados['Valores Preditos'],y=0, dashes=[(2, 2), (2, 2)])\n",
    "ax.lines[0].set_linestyle(\"--\")\n",
    "plt.show()"
   ]
  },
  {
   "cell_type": "code",
   "execution_count": 165,
   "id": "nasty-binary",
   "metadata": {},
   "outputs": [
    {
     "data": {
      "image/png": "[encoded data removed]",
      "text/plain": [
       "<Figure size 432x288 with 1 Axes>"
      ]
     },
     "metadata": {},
     "output_type": "display_data"
    }
   ],
   "source": [
    "qqplot(error, line='s')\n",
    "plt.show()"
   ]
  },
  {
   "cell_type": "code",
   "execution_count": 166,
   "id": "revolutionary-absence",
   "metadata": {},
   "outputs": [
    {
     "data": {
      "text/plain": [
       "ShapiroResult(statistic=0.9875332117080688, pvalue=0.48935666680336)"
      ]
     },
     "execution_count": 166,
     "metadata": {},
     "output_type": "execute_result"
    }
   ],
   "source": [
    "sp = shapiro(error)\n",
    "sp"
   ]
  },
  {
   "cell_type": "code",
   "execution_count": 167,
   "id": "declared-biotechnology",
   "metadata": {},
   "outputs": [
    {
     "data": {
      "text/plain": [
       "NormaltestResult(statistic=1.6139657785762849, pvalue=0.44620227905958043)"
      ]
     },
     "execution_count": 167,
     "metadata": {},
     "output_type": "execute_result"
    }
   ],
   "source": [
    "nt = normaltest(error)\n",
    "nt"
   ]
  },
  {
   "cell_type": "code",
   "execution_count": 168,
   "id": "upper-clinton",
   "metadata": {},
   "outputs": [
    {
     "data": {
      "text/plain": [
       "(0.0635643431916332, 0.4419051237360718)"
      ]
     },
     "execution_count": 168,
     "metadata": {},
     "output_type": "execute_result"
    }
   ],
   "source": [
    "lf = lilliefors(error)\n",
    "lf"
   ]
  },
  {
   "cell_type": "code",
   "execution_count": 169,
   "id": "alternate-feeding",
   "metadata": {},
   "outputs": [
    {
     "name": "stdout",
     "output_type": "stream",
     "text": [
      "Statistic: 0.379\n",
      "15.000: 0.555, data looks normal (fail to reject H0)\n",
      "10.000: 0.632, data looks normal (fail to reject H0)\n",
      "5.000: 0.758, data looks normal (fail to reject H0)\n",
      "2.500: 0.884, data looks normal (fail to reject H0)\n",
      "1.000: 1.052, data looks normal (fail to reject H0)\n"
     ]
    }
   ],
   "source": [
    "result = anderson(error)\n",
    "print('Statistic: %.3f' % result.statistic)\n",
    "for i in range(len(result.critical_values)):\n",
    "    sl, cv = result.significance_level[i], result.critical_values[i]\n",
    "    if result.statistic < result.critical_values[i]:\n",
    "        print('%.3f: %.3f, data looks normal (fail to reject H0)' % (sl, cv))\n",
    "    else:\n",
    "        print('%.3f: %.3f, data does not look normal (reject H0)' % (sl, cv))"
   ]
  },
  {
   "cell_type": "code",
   "execution_count": 170,
   "id": "significant-defense",
   "metadata": {},
   "outputs": [
    {
     "data": {
      "text/plain": [
       "AndersonResult(statistic=0.37857987195829423, critical_values=array([0.555, 0.632, 0.758, 0.884, 1.052]), significance_level=array([15. , 10. ,  5. ,  2.5,  1. ]))"
      ]
     },
     "execution_count": 170,
     "metadata": {},
     "output_type": "execute_result"
    }
   ],
   "source": [
    "result"
   ]
  },
  {
   "cell_type": "code",
   "execution_count": 171,
   "id": "future-anxiety",
   "metadata": {},
   "outputs": [],
   "source": [
    "model = grid_result.best_estimator_['estimator'].model"
   ]
  },
  {
   "cell_type": "code",
   "execution_count": 172,
   "id": "sudden-grant",
   "metadata": {},
   "outputs": [],
   "source": [
    "#model.get_config()"
   ]
  },
  {
   "cell_type": "code",
   "execution_count": 173,
   "id": "headed-excuse",
   "metadata": {},
   "outputs": [
    {
     "data": {
      "text/plain": [
       "'mse'"
      ]
     },
     "execution_count": 173,
     "metadata": {},
     "output_type": "execute_result"
    }
   ],
   "source": [
    "model.loss"
   ]
  },
  {
   "cell_type": "code",
   "execution_count": 174,
   "id": "necessary-glance",
   "metadata": {},
   "outputs": [
    {
     "data": {
      "text/plain": [
       "<tensorflow.python.keras.optimizer_v2.adam.Adam at 0x1b8a5d1ea90>"
      ]
     },
     "execution_count": 174,
     "metadata": {},
     "output_type": "execute_result"
    }
   ],
   "source": [
    "model.optimizer"
   ]
  },
  {
   "cell_type": "code",
   "execution_count": 175,
   "id": "lasting-cement",
   "metadata": {},
   "outputs": [],
   "source": [
    "model_json = model.to_json()"
   ]
  },
  {
   "cell_type": "code",
   "execution_count": 176,
   "id": "possible-suspension",
   "metadata": {},
   "outputs": [],
   "source": [
    "with open(\"cuc_1_10_model.json\", \"w\") as json_file:\n",
    "    json_file.write(model_json)"
   ]
  },
  {
   "cell_type": "code",
   "execution_count": 177,
   "id": "original-monkey",
   "metadata": {},
   "outputs": [],
   "source": [
    "model.save_weights(\"cuc_1_10_weights.h5\")"
   ]
  },
  {
   "cell_type": "code",
   "execution_count": null,
   "id": "lucky-pride",
   "metadata": {},
   "outputs": [],
   "source": [
    "j_file = open('cuc_experimento_1_layer_model.json', 'r')"
   ]
  },
  {
   "cell_type": "code",
   "execution_count": null,
   "id": "vital-abortion",
   "metadata": {},
   "outputs": [],
   "source": [
    "j_model = j_file.read()"
   ]
  },
  {
   "cell_type": "code",
   "execution_count": null,
   "id": "focused-granny",
   "metadata": {},
   "outputs": [],
   "source": [
    "j_file.close()"
   ]
  },
  {
   "cell_type": "code",
   "execution_count": null,
   "id": "federal-forwarding",
   "metadata": {},
   "outputs": [],
   "source": [
    "loaded_model = model_from_json(j_model)"
   ]
  },
  {
   "cell_type": "code",
   "execution_count": null,
   "id": "perceived-smoke",
   "metadata": {},
   "outputs": [],
   "source": [
    "loaded_model.load_weights(\"cuc_experimento_1_layer_weights.h5\")"
   ]
  },
  {
   "cell_type": "code",
   "execution_count": null,
   "id": "celtic-beatles",
   "metadata": {},
   "outputs": [],
   "source": [
    "loaded_model.compile(\n",
    "        loss=loss,\n",
    "        optimizer=optimizer,\n",
    "        metrics=['mae', 'mse', keras.metrics.RootMeanSquaredError()]\n",
    "    )"
   ]
  },
  {
   "cell_type": "code",
   "execution_count": null,
   "id": "gothic-bridge",
   "metadata": {},
   "outputs": [],
   "source": []
  }
 ],
 "metadata": {
  "kernelspec": {
   "display_name": "Python 3",
   "language": "python",
   "name": "python3"
  },
  "language_info": {
   "codemirror_mode": {
    "name": "ipython",
    "version": 3
   },
   "file_extension": ".py",
   "mimetype": "text/x-python",
   "name": "python",
   "nbconvert_exporter": "python",
   "pygments_lexer": "ipython3",
   "version": "3.8.8"
  }
 },
 "nbformat": 4,
 "nbformat_minor": 5
}
