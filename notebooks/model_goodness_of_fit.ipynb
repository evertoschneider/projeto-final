{
 "cells": [
  {
   "cell_type": "code",
   "execution_count": null,
   "id": "04145ec9",
   "metadata": {},
   "outputs": [],
   "source": [
    "import os\n",
    "import pandas as pd\n",
    "import numpy as np\n",
    "\n",
    "import tensorflow as tf\n",
    "import tensorflow_addons as tfa\n",
    "\n",
    "from tensorflow import keras\n",
    "\n",
    "from tensorflow.keras import layers\n",
    "from tensorflow.keras import models\n",
    "\n",
    "from tensorflow.keras.wrappers.scikit_learn import KerasRegressor\n",
    "\n",
    "from keras.constraints import maxnorm\n",
    "\n",
    "from sklearn import pipeline\n",
    "from sklearn import preprocessing\n",
    "\n",
    "import matplotlib.pyplot as plt\n",
    "import seaborn as sns"
   ]
  },
  {
   "cell_type": "code",
   "execution_count": null,
   "id": "b98c3f9a",
   "metadata": {},
   "outputs": [],
   "source": [
    "X_treinamento = pd.read_json(r'X_treinamento.json')\n",
    "X_teste = pd.read_json      (r'X_teste.json')\n",
    "treino_json = pd.read_json  (r'y_treinamento.json', typ='series')\n",
    "teste_json = pd.read_json   (r'y_teste.json', typ='series')"
   ]
  },
  {
   "cell_type": "code",
   "execution_count": null,
   "id": "928957c7",
   "metadata": {},
   "outputs": [],
   "source": [
    "a = []\n",
    "b = []\n",
    "\n",
    "for i in range(treino_json.size):\n",
    "    a.append(list(treino_json[i]))\n",
    "    \n",
    "for i in range(teste_json.size):\n",
    "    b.append(list(teste_json[i]))"
   ]
  },
  {
   "cell_type": "code",
   "execution_count": null,
   "id": "0793c151",
   "metadata": {},
   "outputs": [],
   "source": [
    "y_treinamento = np.array(a, dtype='float32')\n",
    "y_teste = np.array(b, dtype='float32')"
   ]
  },
  {
   "cell_type": "code",
   "execution_count": null,
   "id": "69a9dfc0",
   "metadata": {},
   "outputs": [],
   "source": [
    "def build_model(\n",
    "    optimizer,\n",
    "    learning_rate,\n",
    "    activation,\n",
    "    init_mode,\n",
    "    dropout_rate,\n",
    "    weight_constraint,\n",
    "    neurons,\n",
    "    regularizers\n",
    "):\n",
    "    model = models.Sequential()\n",
    "    \n",
    "    # layer 1\n",
    "    model.add(\n",
    "        layers.Dense(\n",
    "            neurons,\n",
    "            activation = activation,\n",
    "            kernel_initializer=init_mode,\n",
    "            kernel_constraint=maxnorm(weight_constraint),\n",
    "            kernel_regularizer=regularizers,\n",
    "            input_shape=[len(X_treinamento.keys())]\n",
    "        )\n",
    "    )\n",
    "    model.add(layers.Dropout(dropout_rate))\n",
    "    \n",
    "    # layer 2\n",
    "    model.add(layers.Dense(256))\n",
    "    \n",
    "    model.compile(\n",
    "        loss='mse',\n",
    "        optimizer=optimizer(learning_rate),\n",
    "        metrics=['mae', 'mse', keras.metrics.RootMeanSquaredError()]\n",
    "    )\n",
    "    \n",
    "    return model"
   ]
  },
  {
   "cell_type": "code",
   "execution_count": null,
   "id": "2e38b359",
   "metadata": {},
   "outputs": [],
   "source": [
    "d = {}\n",
    "with open(r'best-params.txt') as f:\n",
    "    for line in f:\n",
    "       (key, val) = line.split(\", \")\n",
    "       d[key] = val.strip()"
   ]
  },
  {
   "cell_type": "code",
   "execution_count": null,
   "id": "1b622fea",
   "metadata": {},
   "outputs": [],
   "source": [
    "scaled_X_treinamento = preprocessing.PowerTransformer(method='yeo-johnson').fit_transform(X_treinamento)\n",
    "scaled_y_treinamento = preprocessing.PowerTransformer(method='yeo-johnson').fit_transform(y_treinamento)"
   ]
  },
  {
   "cell_type": "code",
   "execution_count": null,
   "id": "fc77c771",
   "metadata": {},
   "outputs": [],
   "source": [
    "scaled_X_teste = preprocessing.PowerTransformer(method='yeo-johnson').fit_transform(X_teste)\n",
    "scaled_y_teste = preprocessing.PowerTransformer(method='yeo-johnson').fit_transform(y_teste)"
   ]
  },
  {
   "cell_type": "code",
   "execution_count": null,
   "id": "0933e55c",
   "metadata": {},
   "outputs": [],
   "source": [
    "model = build_model(\n",
    "    tf.keras.optimizers.Adagrad,\n",
    "    float(d['learning_rate']),\n",
    "    d['activation'],\n",
    "    d['init_mode'],\n",
    "    float(d['dropout_rate']),\n",
    "    int(d['weight_constraint']),\n",
    "    int(d['neurons']),\n",
    "    tf.keras.regularizers.l2(0.0001)\n",
    ")"
   ]
  },
  {
   "cell_type": "code",
   "execution_count": null,
   "id": "1c7f5446",
   "metadata": {},
   "outputs": [],
   "source": [
    "history = model.fit(\n",
    "    scaled_X_treinamento,\n",
    "    scaled_y_treinamento,\n",
    "    epochs=int(d['epochs']),\n",
    "    batch_size=int(d['batch_size']),\n",
    "    validation_data=(scaled_X_teste, scaled_y_teste), \n",
    "    verbose=1\n",
    ")"
   ]
  },
  {
   "cell_type": "code",
   "execution_count": null,
   "id": "a414df07",
   "metadata": {},
   "outputs": [],
   "source": [
    "sns.set_theme()"
   ]
  },
  {
   "cell_type": "code",
   "execution_count": null,
   "id": "64821d42",
   "metadata": {},
   "outputs": [],
   "source": [
    "def plot_history(history):\n",
    "    hist = pd.DataFrame(history.history)\n",
    "    hist['epoch'] = history.epoch\n",
    "\n",
    "    plt.figure()\n",
    "    plt.xlabel('Épocas')\n",
    "    plt.ylabel('MAE')\n",
    "    plt.plot(hist['epoch'], hist['mae'], label='Erro Treinamento')\n",
    "    plt.plot(hist['epoch'], hist['val_mae'], label = 'Erro Validação')\n",
    "    plt.ylim([0,1])\n",
    "    plt.legend()\n",
    "\n",
    "    plt.figure()\n",
    "    plt.xlabel('Épocas')\n",
    "    plt.ylabel('MSE')\n",
    "    plt.plot(hist['epoch'], hist['mse'], label='Erro Treinamento')\n",
    "    plt.plot(hist['epoch'], hist['val_mse'], label = 'Erro Validação')\n",
    "    plt.ylim([0,1])\n",
    "    plt.legend()\n",
    "    plt.show()\n",
    "\n",
    "plot_history(history)"
   ]
  }
 ],
 "metadata": {
  "kernelspec": {
   "display_name": "Python 3",
   "language": "python",
   "name": "python3"
  },
  "language_info": {
   "codemirror_mode": {
    "name": "ipython",
    "version": 3
   },
   "file_extension": ".py",
   "mimetype": "text/x-python",
   "name": "python",
   "nbconvert_exporter": "python",
   "pygments_lexer": "ipython3",
   "version": "3.8.10"
  }
 },
 "nbformat": 4,
 "nbformat_minor": 5
}
