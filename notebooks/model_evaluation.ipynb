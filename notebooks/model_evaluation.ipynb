{
 "cells": [
  {
   "cell_type": "code",
   "execution_count": null,
   "id": "noble-affect",
   "metadata": {},
   "outputs": [],
   "source": [
    "import os\n",
    "import pandas as pd\n",
    "\n",
    "import numpy as np\n",
    "\n",
    "import tensorflow as tf\n",
    "import tensorflow_addons as tfa\n",
    "\n",
    "from tensorflow import keras\n",
    "\n",
    "from tensorflow.keras import layers\n",
    "from tensorflow.keras import models\n",
    "\n",
    "from tensorflow.keras.models import load_model\n",
    "from tensorflow.keras.wrappers.scikit_learn import KerasRegressor\n",
    "\n",
    "from keras.constraints import maxnorm\n",
    "\n",
    "from sklearn.metrics import mean_absolute_error, mean_squared_error, r2_score\n",
    "from sklearn import pipeline\n",
    "\n",
    "from scipy.stats import shapiro, normaltest, anderson\n",
    "from statsmodels.stats.diagnostic import lilliefors\n",
    "\n",
    "from joblib import load\n",
    "\n",
    "import seaborn as sns\n",
    "from statsmodels.graphics.gofplots import qqplot\n",
    "import matplotlib.pyplot as plt"
   ]
  },
  {
   "cell_type": "code",
   "execution_count": null,
   "id": "charitable-sullivan",
   "metadata": {},
   "outputs": [],
   "source": [
    "X_treinamento = pd.read_json(r'X_treinamento.json')\n",
    "X_teste = pd.read_json      (r'X_teste.json')\n",
    "treino_json = pd.read_json  (r'y_treinamento.json', typ='series')\n",
    "teste_json = pd.read_json   (r'y_teste.json', typ='series')\n",
    "X_validacao = pd.read_json  (r'X_validacao.json')\n",
    "y_validacao = pd.read_json  (r'y_validacao.json', typ='series')"
   ]
  },
  {
   "cell_type": "code",
   "execution_count": null,
   "id": "worst-acrylic",
   "metadata": {},
   "outputs": [],
   "source": [
    "a = []\n",
    "b = []\n",
    "\n",
    "for i in range(y_validacao.size):\n",
    "    a.append(list(y_validacao[i]))"
   ]
  },
  {
   "cell_type": "code",
   "execution_count": null,
   "id": "ideal-dominant",
   "metadata": {},
   "outputs": [],
   "source": [
    "y_treinamento = np.array(a, dtype='float32')\n",
    "y_teste = np.array(b, dtype='float32')"
   ]
  },
  {
   "cell_type": "code",
   "execution_count": null,
   "id": "60a9c671",
   "metadata": {},
   "outputs": [],
   "source": [
    "y = np.array(a, dtype='float32')"
   ]
  },
  {
   "cell_type": "code",
   "execution_count": null,
   "id": "1526073b",
   "metadata": {},
   "outputs": [],
   "source": [
    "def calcula12x12CUC(matrix):\n",
    "    \n",
    "    df = pd.DataFrame(np.zeros((16, 16)))\n",
    "    \n",
    "    k = 4\n",
    "    w = 4\n",
    "    for i in range(0,12):\n",
    "        if w > 14:\n",
    "            w = 4\n",
    "        for j in range(0,12):\n",
    "            df.at[i,j] = 0 + matrix[k,w]\n",
    "            w = w + 1\n",
    "        k = k+1\n",
    "\n",
    "    k = 4\n",
    "    w = 0\n",
    "    for i in range(0,12):\n",
    "        if w > 11:\n",
    "            w = 0\n",
    "        for j in range(4,16):\n",
    "            df.at[i,j] = df.at[i,j] + matrix[k,w]\n",
    "            w = w + 1\n",
    "        k = k + 1\n",
    "\n",
    "    k = 0\n",
    "    w = 4\n",
    "    for i in range(4,16):\n",
    "        if w > 14:\n",
    "            w = 4\n",
    "        for j in range(0,12):\n",
    "            df.at[i,j] = df.at[i,j] + matrix[k,w]\n",
    "            w = w + 1\n",
    "        k = k + 1\n",
    "\n",
    "    k = 0\n",
    "    w = 0\n",
    "    for i in range(4,16):\n",
    "        if w > 11:\n",
    "            w = 0\n",
    "        for j in range(4,16):\n",
    "            df.at[i,j] = df.at[i,j] + matrix[k,w]\n",
    "            w = w + 1\n",
    "        k = k + 1\n",
    "\n",
    "    soma = 0.0\n",
    "    media = df.values.mean()\n",
    "\n",
    "    for i in range(4, 12):\n",
    "        for j in range(4,12):\n",
    "            valor = df.at[i,j]\n",
    "            valor_abs = abs(valor-media)\n",
    "            final = valor_abs/(256*media)\n",
    "            soma = soma+final\n",
    "\n",
    "    cuc = (1.0-soma)*100.0\n",
    "\n",
    "    return cuc"
   ]
  },
  {
   "cell_type": "code",
   "execution_count": null,
   "id": "c674d936",
   "metadata": {},
   "outputs": [],
   "source": [
    "def calcula12x15CUC(matrix):\n",
    "    \n",
    "    df = pd.DataFrame(np.zeros((16, 16)))\n",
    "    \n",
    "    k = 4\n",
    "    w = 4\n",
    "    for i in range(0,12):\n",
    "        if w > 14:\n",
    "            w = 4\n",
    "        for j in range(0,12):\n",
    "            df.at[i,j] = 0 + matrix[k,w]\n",
    "            w = w + 1\n",
    "        k = k+1\n",
    "\n",
    "    k = 4\n",
    "    w = 0\n",
    "    for i in range(0,12):\n",
    "        if w > 11:\n",
    "            w = 0\n",
    "        for j in range(4,16):\n",
    "            df.at[i,j] = df.at[i,j] + matrix[k,w]\n",
    "            w = w + 1\n",
    "        k = k + 1\n",
    "\n",
    "    k = 0\n",
    "    w = 4\n",
    "    for i in range(6,16):\n",
    "        if w > 14:\n",
    "            w = 4\n",
    "        for j in range(0,12):\n",
    "            df.at[i,j] = df.at[i,j] + matrix[k,w]\n",
    "            w = w + 1\n",
    "        k = k + 1\n",
    "\n",
    "    k = 0\n",
    "    w = 0\n",
    "    for i in range(6,16):\n",
    "        if w > 11:\n",
    "            w = 0\n",
    "        for j in range(4,16):\n",
    "            df.at[i,j] = df.at[i,j] + matrix[k,w]\n",
    "            w = w + 1\n",
    "        k = k + 1\n",
    "\n",
    "    soma = 0.0\n",
    "    media = df.values.mean()\n",
    "\n",
    "    for i in range(4, 12):\n",
    "        for j in range(4,12):\n",
    "            valor = df.at[i,j]\n",
    "            valor_abs = abs(valor-media)\n",
    "            final = valor_abs/(256*media)\n",
    "            soma = soma+final\n",
    "\n",
    "    cuc = (1.0-soma)*100.0\n",
    "    \n",
    "    return cuc"
   ]
  },
  {
   "cell_type": "code",
   "execution_count": null,
   "id": "5e58b94e",
   "metadata": {},
   "outputs": [],
   "source": [
    "def calcula15x15CUC(matrix):\n",
    "    \n",
    "    df = pd.DataFrame(np.zeros((16, 16)))\n",
    "    \n",
    "    k = 5\n",
    "    w = 5\n",
    "    for i in range(0,11):\n",
    "        if w > 11:\n",
    "            w = 5\n",
    "        for j in range(0,11):\n",
    "            df.at[i,j] = 0 + matrix[k,w]\n",
    "            w = w + 1\n",
    "        k = k+1\n",
    "\n",
    "    k = 5\n",
    "    w = 0\n",
    "    for i in range(0,11):\n",
    "        if w > 10:\n",
    "            w = 0\n",
    "        for j in range(5,16):\n",
    "            df.at[i,j] = df.at[i,j] + matrix[k,w]\n",
    "            w = w + 1\n",
    "        k = k + 1\n",
    "\n",
    "    k = 0\n",
    "    w = 5\n",
    "    for i in range(5,16):\n",
    "        if w > 11:\n",
    "            w = 5\n",
    "        for j in range(0,11):\n",
    "            df.at[i,j] = df.at[i,j] + matrix[k,w]\n",
    "            w = w + 1\n",
    "        k = k + 1\n",
    "\n",
    "    k = 0\n",
    "    w = 0\n",
    "    for i in range(5,16):\n",
    "        if w > 10:\n",
    "            w = 0\n",
    "        for j in range(5,16):\n",
    "            df.at[i,j] = df.at[i,j] + matrix[k,w]\n",
    "            w = w + 1\n",
    "        k = k + 1\n",
    "\n",
    "    soma = 0.0\n",
    "    media = df.values.mean()\n",
    "\n",
    "    for i in range(4, 12):\n",
    "        for j in range(4,12):\n",
    "            valor = df.at[i,j]\n",
    "            valor_abs = abs(valor-media)\n",
    "            final = valor_abs/(256*media)\n",
    "            soma = soma+final\n",
    "\n",
    "    cuc = (1.0-soma)*100.0\n",
    "    \n",
    "    return cuc"
   ]
  },
  {
   "cell_type": "code",
   "execution_count": null,
   "id": "checked-cookie",
   "metadata": {},
   "outputs": [],
   "source": [
    "def build_model(\n",
    "    optimizer,\n",
    "    learning_rate,\n",
    "    activation,\n",
    "    init_mode,\n",
    "    dropout_rate,\n",
    "    weight_constraint,\n",
    "    neurons,\n",
    "    regularizers\n",
    "):\n",
    "    model = models.Sequential()\n",
    "    \n",
    "    # layer 1\n",
    "    model.add(\n",
    "        layers.Dense(\n",
    "            neurons,\n",
    "            activation = activation,\n",
    "            kernel_initializer=init_mode,\n",
    "            kernel_constraint=maxnorm(weight_constraint),\n",
    "            kernel_regularizer=regularizers,\n",
    "            input_shape=[len(X_validacao.keys())]\n",
    "        )\n",
    "    )\n",
    "    model.add(layers.Dropout(dropout_rate))\n",
    "    \n",
    "    # layer 2\n",
    "    model.add(layers.Dense(256))\n",
    "    \n",
    "    model.compile(\n",
    "        loss='mse',\n",
    "        optimizer=optimizer(learning_rate),\n",
    "        metrics=['mae', 'mse', keras.metrics.RootMeanSquaredError()]\n",
    "    )\n",
    "    \n",
    "    return model"
   ]
  },
  {
   "cell_type": "code",
   "execution_count": null,
   "id": "fewer-japanese",
   "metadata": {},
   "outputs": [],
   "source": [
    "loaded_model = KerasRegressor(build_fn=build_model, verbose=1)"
   ]
  },
  {
   "cell_type": "code",
   "execution_count": null,
   "id": "pleased-baltimore",
   "metadata": {},
   "outputs": [],
   "source": [
    "loaded_model.model = load_model(r'model-70-30.h5')"
   ]
  },
  {
   "cell_type": "code",
   "execution_count": null,
   "id": "annual-guidance",
   "metadata": {},
   "outputs": [],
   "source": [
    "scaler = load(r'scaler-70-30.joblib')"
   ]
  },
  {
   "cell_type": "code",
   "execution_count": null,
   "id": "formal-terrorist",
   "metadata": {},
   "outputs": [],
   "source": [
    "loaded_steps = [('scaler', scaler), \n",
    "         ('estimator', loaded_model)]"
   ]
  },
  {
   "cell_type": "code",
   "execution_count": null,
   "id": "identified-economics",
   "metadata": {},
   "outputs": [],
   "source": [
    "loaded_pipe = pipeline.Pipeline(loaded_steps)"
   ]
  },
  {
   "cell_type": "code",
   "execution_count": null,
   "id": "durable-reminder",
   "metadata": {},
   "outputs": [],
   "source": [
    "plm = loaded_pipe.predict(X_validacao)"
   ]
  },
  {
   "cell_type": "code",
   "execution_count": null,
   "id": "b93030e7",
   "metadata": {},
   "outputs": [],
   "source": [
    "predictedCuc12x12 = []\n",
    "for i in range(plm.shape[0]):\n",
    "    pCuc12x12 = calcula12x12CUC(plm[i].reshape(16,16))\n",
    "    predictedCuc12x12.append(pCuc12x12)"
   ]
  },
  {
   "cell_type": "code",
   "execution_count": null,
   "id": "2df9d27f",
   "metadata": {},
   "outputs": [],
   "source": [
    "expectedCuc12x12 = []\n",
    "for i in range(y.shape[0]):\n",
    "    eCuc12x12 = calcula12x12CUC(y[i].reshape(16,16)) \n",
    "    expectedCuc12x12.append(eCuc12x12)"
   ]
  },
  {
   "cell_type": "code",
   "execution_count": null,
   "id": "6b0d6ef0",
   "metadata": {},
   "outputs": [],
   "source": [
    "predictedCuc12x15 = []\n",
    "for i in range(plm.shape[0]):\n",
    "    pCuc12x15 = calcula12x15CUC(plm[i].reshape(16,16))\n",
    "    predictedCuc12x15.append(pCuc12x15)"
   ]
  },
  {
   "cell_type": "code",
   "execution_count": null,
   "id": "3330995c",
   "metadata": {},
   "outputs": [],
   "source": [
    "expectedCuc12x15 = []\n",
    "for i in range(y.shape[0]):\n",
    "    eCuc12x15 = calcula12x15CUC(y[i].reshape(16,16)) \n",
    "    expectedCuc12x15.append(eCuc12x15)"
   ]
  },
  {
   "cell_type": "code",
   "execution_count": null,
   "id": "a8eb74ba",
   "metadata": {},
   "outputs": [],
   "source": [
    "predictedCuc15x15 = []\n",
    "for i in range(plm.shape[0]):\n",
    "    pCuc15x15 = calcula15x15CUC(plm[i].reshape(16,16))\n",
    "    predictedCuc15x15.append(pCuc15x15)"
   ]
  },
  {
   "cell_type": "code",
   "execution_count": null,
   "id": "1d83e645",
   "metadata": {},
   "outputs": [],
   "source": [
    "expectedCuc15x15 = []\n",
    "for i in range(y.shape[0]):\n",
    "    eCuc15x15 = calcula15x15CUC(y[i].reshape(16,16)) \n",
    "    expectedCuc15x15.append(eCuc15x15)"
   ]
  },
  {
   "cell_type": "code",
   "execution_count": null,
   "id": "f9e74a10",
   "metadata": {},
   "outputs": [],
   "source": [
    "for prediction, real, exp in zip(predictedCuc12x12, expectedCuc12x12, experimentos):\n",
    "    print(\"Experimento: %i - Prediction: %f - Real: %f - Error: %f\" % (exp, prediction, real, prediction - real))"
   ]
  },
  {
   "cell_type": "code",
   "execution_count": null,
   "id": "3ea67139",
   "metadata": {},
   "outputs": [],
   "source": [
    "for prediction, real, exp in zip(predictedCuc12x15, expectedCuc12x15, experimentos):\n",
    "    print(\"Experimento: %i - Prediction: %f - Real: %f - Error: %f\" % (exp, prediction, real, prediction - real))"
   ]
  },
  {
   "cell_type": "code",
   "execution_count": null,
   "id": "b1013272",
   "metadata": {},
   "outputs": [],
   "source": [
    "for prediction, real, exp in zip(predictedCuc15x15, expectedCuc15x15, experimentos):\n",
    "    print(\"Experimento: %i - Prediction: %f - Real: %f - Error: %f\" % (exp, prediction, real, prediction - real))"
   ]
  },
  {
   "cell_type": "code",
   "execution_count": null,
   "id": "34b10ab6",
   "metadata": {},
   "outputs": [],
   "source": [
    "# 12x12"
   ]
  },
  {
   "cell_type": "code",
   "execution_count": null,
   "id": "perfect-practitioner",
   "metadata": {},
   "outputs": [],
   "source": [
    "print(\"CUC 12x12 MAE:\", \"{0:0.5f}\".format(mean_absolute_error(predictedCuc12x12, expectedCuc12x12)))"
   ]
  },
  {
   "cell_type": "code",
   "execution_count": null,
   "id": "expressed-atmosphere",
   "metadata": {},
   "outputs": [],
   "source": [
    "print(\"CUC 12x12 MSE: \", \"{0:0.5f}\".format(mean_squared_error(predictedCuc12x12, expectedCuc12x12)))"
   ]
  },
  {
   "cell_type": "code",
   "execution_count": null,
   "id": "ambient-technical",
   "metadata": {},
   "outputs": [],
   "source": [
    "print(\"CUC 12x12 RMSE:\", \"{0:0.5f}\".format(mean_squared_error(predictedCuc12x12, expectedCuc12x12, squared=False)))"
   ]
  },
  {
   "cell_type": "code",
   "execution_count": null,
   "id": "vertical-newport",
   "metadata": {},
   "outputs": [],
   "source": [
    "print(\"CUC 12x12 R-squared: \", r2_score(predictedCuc12x12, expectedCuc12x12))"
   ]
  },
  {
   "cell_type": "code",
   "execution_count": null,
   "id": "48ffecd6",
   "metadata": {},
   "outputs": [],
   "source": [
    "# 12x15"
   ]
  },
  {
   "cell_type": "code",
   "execution_count": null,
   "id": "3afaf93e",
   "metadata": {},
   "outputs": [],
   "source": [
    "print(\"CUC 12x15 MAE:\", \"{0:0.5f}\".format(mean_absolute_error(predictedCuc12x15, expectedCuc12x15)))"
   ]
  },
  {
   "cell_type": "code",
   "execution_count": null,
   "id": "750a2bb4",
   "metadata": {},
   "outputs": [],
   "source": [
    "print(\"CUC 12x15 MSE: \", \"{0:0.5f}\".format(mean_squared_error(predictedCuc12x15, expectedCuc12x15)))"
   ]
  },
  {
   "cell_type": "code",
   "execution_count": null,
   "id": "4b286289",
   "metadata": {},
   "outputs": [],
   "source": [
    "print(\"CUC 12x15 RMSE:\", \"{0:0.5f}\".format(mean_squared_error(predictedCuc12x15, expectedCuc12x15, squared=False)))"
   ]
  },
  {
   "cell_type": "code",
   "execution_count": null,
   "id": "2729a6ac",
   "metadata": {},
   "outputs": [],
   "source": [
    "print(\"CUC 12x15 R-squared: \", r2_score(predictedCuc12x15, expectedCuc12x15))"
   ]
  },
  {
   "cell_type": "code",
   "execution_count": null,
   "id": "c993a8aa",
   "metadata": {},
   "outputs": [],
   "source": [
    "#15x15"
   ]
  },
  {
   "cell_type": "code",
   "execution_count": null,
   "id": "5ca24f78",
   "metadata": {},
   "outputs": [],
   "source": [
    "print(\"CUC 15x15 MAE:\", \"{0:0.5f}\".format(mean_absolute_error(predictedCuc15x15, expectedCuc15x15)))"
   ]
  },
  {
   "cell_type": "code",
   "execution_count": null,
   "id": "c6ee0367",
   "metadata": {},
   "outputs": [],
   "source": [
    "print(\"CUC 15x15 MSE: \", \"{0:0.5f}\".format(mean_squared_error(predictedCuc15x15, expectedCuc15x15)))"
   ]
  },
  {
   "cell_type": "code",
   "execution_count": null,
   "id": "7b7d78ff",
   "metadata": {},
   "outputs": [],
   "source": [
    "print(\"CUC 15x15 RMSE:\", \"{0:0.5f}\".format(mean_squared_error(predictedCuc15x15, expectedCuc15x15, squared=False)))"
   ]
  },
  {
   "cell_type": "code",
   "execution_count": null,
   "id": "14630754",
   "metadata": {},
   "outputs": [],
   "source": [
    "print(\"CUC 15x15 R-squared: \", r2_score(predictedCuc15x15, expectedCuc15x15))"
   ]
  },
  {
   "cell_type": "code",
   "execution_count": null,
   "id": "former-ottawa",
   "metadata": {},
   "outputs": [],
   "source": [
    "hist = pd.read_json(r'history.json')"
   ]
  },
  {
   "cell_type": "code",
   "execution_count": null,
   "id": "greek-belief",
   "metadata": {},
   "outputs": [],
   "source": [
    "sns.set_theme()"
   ]
  },
  {
   "cell_type": "code",
   "execution_count": null,
   "id": "fancy-perspective",
   "metadata": {},
   "outputs": [],
   "source": [
    "def plot_history(hist):\n",
    "#     hist = pd.DataFrame(grid_result.best_estimator_['estimator'].model.history.history)\n",
    "    hist.reset_index(inplace=True)\n",
    "    hist = hist.rename(columns = {'index':'epoch'})\n",
    "\n",
    "    plt.figure()\n",
    "    plt.xlabel('Época')\n",
    "    plt.ylabel('Erro [MSE]')\n",
    "    plt.plot(hist['epoch'], hist['mse'],\n",
    "           label='Erro')\n",
    "    plt.ylim([0,2])\n",
    "    plt.legend()\n",
    "\n",
    "\n",
    "plot_history(hist)"
   ]
  },
  {
   "cell_type": "code",
   "execution_count": null,
   "id": "geological-lecture",
   "metadata": {},
   "outputs": [],
   "source": [
    "error12x12 = pd.Series(np.array(predictedCuc12x12) - np.array(expectedCuc12x12))\n",
    "error12x15 = pd.Series(np.array(predictedCuc12x15) - np.array(expectedCuc12x15))\n",
    "error15x15 = pd.Series(np.array(predictedCuc15x15) - np.array(expectedCuc15x15))"
   ]
  },
  {
   "cell_type": "code",
   "execution_count": null,
   "id": "potential-johns",
   "metadata": {},
   "outputs": [],
   "source": [
    "error12x12.to_json(r'error12x12.json')\n",
    "error12x15.to_json(r'error12x15.json')\n",
    "error15x15.to_json(r'error15x15.json')"
   ]
  },
  {
   "cell_type": "code",
   "execution_count": null,
   "id": "removable-breed",
   "metadata": {},
   "outputs": [],
   "source": [
    "plt.hist(error12x12, bins = 15)\n",
    "plt.xlabel(\"Resíduos\")\n",
    "_ = plt.ylabel(\"Observações\")"
   ]
  },
  {
   "cell_type": "code",
   "execution_count": null,
   "id": "d6787f6b",
   "metadata": {},
   "outputs": [],
   "source": [
    "plt.hist(error12x15, bins = 15)\n",
    "plt.xlabel(\"Resíduos\")\n",
    "_ = plt.ylabel(\"Observações\")"
   ]
  },
  {
   "cell_type": "code",
   "execution_count": null,
   "id": "9a48a3c1",
   "metadata": {},
   "outputs": [],
   "source": [
    "plt.hist(error15x15, bins = 15)\n",
    "plt.xlabel(\"Resíduos\")\n",
    "_ = plt.ylabel(\"Observações\")"
   ]
  },
  {
   "cell_type": "code",
   "execution_count": null,
   "id": "progressive-offset",
   "metadata": {},
   "outputs": [],
   "source": [
    "resultados12x12 = pd.DataFrame({'Valores Preditos':predictedCuc12x12, 'Resíduos':error12x12})\n",
    "resultados12x15 = pd.DataFrame({'Valores Preditos':predictedCuc12x15, 'Resíduos':error12x15})\n",
    "resultados15x15 = pd.DataFrame({'Valores Preditos':predictedCuc15x15, 'Resíduos':error15x15})"
   ]
  },
  {
   "cell_type": "code",
   "execution_count": null,
   "id": "proprietary-leeds",
   "metadata": {},
   "outputs": [],
   "source": [
    "sns.scatterplot(data=resultados12x12, x=\"Valores Preditos\", y=\"Resíduos\")\n",
    "ax = sns.lineplot(x=resultados12x12['Valores Preditos'],y=0, dashes=[(2, 2), (2, 2)])\n",
    "ax.lines[0].set_linestyle(\"--\")\n",
    "plt.show()"
   ]
  },
  {
   "cell_type": "code",
   "execution_count": null,
   "id": "bba857fe",
   "metadata": {},
   "outputs": [],
   "source": [
    "sns.scatterplot(data=resultados12x15, x=\"Valores Preditos\", y=\"Resíduos\")\n",
    "ax = sns.lineplot(x=resultados12x15['Valores Preditos'],y=0, dashes=[(2, 2), (2, 2)])\n",
    "ax.lines[0].set_linestyle(\"--\")\n",
    "plt.show()"
   ]
  },
  {
   "cell_type": "code",
   "execution_count": null,
   "id": "744429d5",
   "metadata": {},
   "outputs": [],
   "source": [
    "sns.scatterplot(data=resultados15x15, x=\"Valores Preditos\", y=\"Resíduos\")\n",
    "ax = sns.lineplot(x=resultados15x15['Valores Preditos'],y=0, dashes=[(2, 2), (2, 2)])\n",
    "ax.lines[0].set_linestyle(\"--\")\n",
    "plt.show()"
   ]
  },
  {
   "cell_type": "code",
   "execution_count": null,
   "id": "weekly-hacker",
   "metadata": {},
   "outputs": [],
   "source": [
    "qqplot(error12x12, line='s')\n",
    "plt.show()"
   ]
  },
  {
   "cell_type": "code",
   "execution_count": null,
   "id": "12fb728a",
   "metadata": {},
   "outputs": [],
   "source": [
    "qqplot(error12x15, line='s')\n",
    "plt.show()"
   ]
  },
  {
   "cell_type": "code",
   "execution_count": null,
   "id": "d2e33457",
   "metadata": {},
   "outputs": [],
   "source": [
    "qqplot(error15x15, line='s')\n",
    "plt.show()"
   ]
  },
  {
   "cell_type": "code",
   "execution_count": null,
   "id": "disciplinary-width",
   "metadata": {},
   "outputs": [],
   "source": [
    "sp12x12 = shapiro(error12x12)\n",
    "print(\"SP 12x12:\", sp12x12)"
   ]
  },
  {
   "cell_type": "code",
   "execution_count": null,
   "id": "careful-hopkins",
   "metadata": {},
   "outputs": [],
   "source": [
    "nt12x12 = normaltest(error12x12)\n",
    "print(\"NT 12x12:\", nt12x12)"
   ]
  },
  {
   "cell_type": "code",
   "execution_count": null,
   "id": "organized-acrobat",
   "metadata": {},
   "outputs": [],
   "source": [
    "lf12x12 = lilliefors(error12x12)\n",
    "print(\"LF 12x12:\", lf12x12)"
   ]
  },
  {
   "cell_type": "code",
   "execution_count": null,
   "id": "colonial-invitation",
   "metadata": {},
   "outputs": [],
   "source": [
    "result12x12 = anderson(error12x12)\n",
    "print('Statistic: %.3f' % result12x12.statistic)\n",
    "for i in range(len(result12x12.critical_values)):\n",
    "    sl12x12, cv12x12 = result12x12.significance_level[i], result12x12.critical_values[i]\n",
    "    if result12x12.statistic < result12x12.critical_values[i]:\n",
    "        print('%.3f: %.3f, data looks normal (fail to reject H0)' % (sl12x12, cv12x12))\n",
    "    else:\n",
    "        print('%.3f: %.3f, data does not look normal (reject H0)' % (sl12x12, cv12x12))"
   ]
  },
  {
   "cell_type": "code",
   "execution_count": null,
   "id": "australian-cooper",
   "metadata": {},
   "outputs": [],
   "source": [
    "print(\"AD 12x12:\", result12x12)"
   ]
  },
  {
   "cell_type": "code",
   "execution_count": null,
   "id": "f0ac48ef",
   "metadata": {},
   "outputs": [],
   "source": [
    "#12x15"
   ]
  },
  {
   "cell_type": "code",
   "execution_count": null,
   "id": "8b566c4c",
   "metadata": {},
   "outputs": [],
   "source": [
    "sp12x15 = shapiro(error12x15)\n",
    "print(\"SP 12x15:\", sp12x15)"
   ]
  },
  {
   "cell_type": "code",
   "execution_count": null,
   "id": "e9b7de7a",
   "metadata": {},
   "outputs": [],
   "source": [
    "nt12x15 = normaltest(error12x15)\n",
    "print(\"NT 12x15:\", nt12x15)"
   ]
  },
  {
   "cell_type": "code",
   "execution_count": null,
   "id": "926155e9",
   "metadata": {},
   "outputs": [],
   "source": [
    "lf12x15 = lilliefors(error12x15)\n",
    "print(\"LF 12x15:\", lf12x15)"
   ]
  },
  {
   "cell_type": "code",
   "execution_count": null,
   "id": "f323c093",
   "metadata": {},
   "outputs": [],
   "source": [
    "result12x15 = anderson(error12x15)\n",
    "print('Statistic: %.3f' % result12x15.statistic)\n",
    "for i in range(len(result12x15.critical_values)):\n",
    "    sl12x15, cv12x15 = result12x15.significance_level[i], result12x15.critical_values[i]\n",
    "    if result12x15.statistic < result12x15.critical_values[i]:\n",
    "        print('%.3f: %.3f, data looks normal (fail to reject H0)' % (sl12x15, cv12x15))\n",
    "    else:\n",
    "        print('%.3f: %.3f, data does not look normal (reject H0)' % (sl12x15, cv12x15))"
   ]
  },
  {
   "cell_type": "code",
   "execution_count": null,
   "id": "d5955575",
   "metadata": {},
   "outputs": [],
   "source": [
    "print(\"AD 12x15:\", result12x15)"
   ]
  },
  {
   "cell_type": "code",
   "execution_count": null,
   "id": "bf497dd4",
   "metadata": {},
   "outputs": [],
   "source": [
    "#15x15"
   ]
  },
  {
   "cell_type": "code",
   "execution_count": null,
   "id": "7339bdb7",
   "metadata": {},
   "outputs": [],
   "source": [
    "sp15x15 = shapiro(error15x15)\n",
    "print(\"SP 15x15:\", sp15x15)"
   ]
  },
  {
   "cell_type": "code",
   "execution_count": null,
   "id": "f40f17a6",
   "metadata": {},
   "outputs": [],
   "source": [
    "nt15x15 = normaltest(error15x15)\n",
    "print(\"NT 15x15:\", nt15x15)"
   ]
  },
  {
   "cell_type": "code",
   "execution_count": null,
   "id": "a70ced78",
   "metadata": {},
   "outputs": [],
   "source": [
    "lf15x15 = lilliefors(error15x15)\n",
    "print(\"LF 15x15:\", lf15x15)"
   ]
  },
  {
   "cell_type": "code",
   "execution_count": null,
   "id": "254664fd",
   "metadata": {},
   "outputs": [],
   "source": [
    "result15x15 = anderson(error15x15)\n",
    "print('Statistic: %.3f' % result15x15.statistic)\n",
    "for i in range(len(result15x15.critical_values)):\n",
    "    sl15x15, cv15x15 = result15x15.significance_level[i], result15x15.critical_values[i]\n",
    "    if result15x15.statistic < result15x15.critical_values[i]:\n",
    "        print('%.3f: %.3f, data looks normal (fail to reject H0)' % (sl15x15, cv15x15))\n",
    "    else:\n",
    "        print('%.3f: %.3f, data does not look normal (reject H0)' % (sl15x15, cv15x15))"
   ]
  },
  {
   "cell_type": "code",
   "execution_count": null,
   "id": "fa7456b5",
   "metadata": {},
   "outputs": [],
   "source": [
    "print(\"AD 12x15:\", result15x15)"
   ]
  }
 ],
 "metadata": {
  "kernelspec": {
   "display_name": "Python 3",
   "language": "python",
   "name": "python3"
  },
  "language_info": {
   "codemirror_mode": {
    "name": "ipython",
    "version": 3
   },
   "file_extension": ".py",
   "mimetype": "text/x-python",
   "name": "python",
   "nbconvert_exporter": "python",
   "pygments_lexer": "ipython3",
   "version": "3.8.10"
  }
 },
 "nbformat": 4,
 "nbformat_minor": 5
}
