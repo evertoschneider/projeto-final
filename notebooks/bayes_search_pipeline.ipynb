{
 "cells": [
  {
   "cell_type": "code",
   "execution_count": null,
   "id": "outside-wiring",
   "metadata": {},
   "outputs": [],
   "source": [
    "import os\n",
    "import pandas as pd\n",
    "import numpy as np\n",
    "\n",
    "import tensorflow as tf\n",
    "import tensorflow_addons as tfa\n",
    "\n",
    "from tensorflow import keras\n",
    "\n",
    "from tensorflow.keras import layers\n",
    "from tensorflow.keras import models\n",
    "\n",
    "from keras.constraints import maxnorm\n",
    "from keras.models import model_from_json\n",
    "from keras.models import load_model\n",
    "\n",
    "from tensorflow.keras.wrappers.scikit_learn import KerasRegressor\n",
    "\n",
    "from skopt import BayesSearchCV\n",
    "\n",
    "from sklearn import preprocessing\n",
    "from sklearn import pipeline\n",
    "\n",
    "import time\n",
    "import joblib\n",
    "\n",
    "from joblib import dump"
   ]
  },
  {
   "cell_type": "code",
   "execution_count": null,
   "id": "3dff3373",
   "metadata": {},
   "outputs": [],
   "source": [
    "X_treinamento = pd.read_json(r'X_treinamento.json')\n",
    "X_teste = pd.read_json      (r'X_teste.json')\n",
    "treino_json = pd.read_json  (r'y_treinamento.json', typ='series')\n",
    "teste_json = pd.read_json   (r'y_teste.json', typ='series')"
   ]
  },
  {
   "cell_type": "code",
   "execution_count": null,
   "id": "daily-plenty",
   "metadata": {},
   "outputs": [],
   "source": [
    "a = []\n",
    "b = []\n",
    "\n",
    "for i in range(treino_json.size):\n",
    "    a.append(list(treino_json[i]))\n",
    "    \n",
    "for i in range(teste_json.size):\n",
    "    b.append(list(teste_json[i]))"
   ]
  },
  {
   "cell_type": "code",
   "execution_count": null,
   "id": "technical-palace",
   "metadata": {},
   "outputs": [],
   "source": [
    "y_treinamento = np.array(a, dtype='float32')\n",
    "y_teste = np.array(b, dtype='float32')"
   ]
  },
  {
   "cell_type": "code",
   "execution_count": null,
   "id": "divided-development",
   "metadata": {},
   "outputs": [],
   "source": [
    "def build_model(\n",
    "    optimizer,\n",
    "    learning_rate,\n",
    "    activation,\n",
    "    init_mode,\n",
    "    dropout_rate,\n",
    "    weight_constraint,\n",
    "    neurons,\n",
    "    regularizers\n",
    "):\n",
    "    model = models.Sequential()\n",
    "    \n",
    "    # layer 1\n",
    "    model.add(\n",
    "        layers.Dense(\n",
    "            neurons,\n",
    "            activation = activation,\n",
    "            kernel_initializer=init_mode,\n",
    "            kernel_constraint=maxnorm(weight_constraint),\n",
    "            kernel_regularizer=regularizers,\n",
    "            input_shape=[len(X_treinamento.keys())]\n",
    "        )\n",
    "    )\n",
    "    model.add(layers.Dropout(dropout_rate))\n",
    "    \n",
    "    # layer 2\n",
    "    model.add(layers.Dense(256))\n",
    "    \n",
    "    model.compile(\n",
    "        loss='mse',\n",
    "        optimizer=optimizer(learning_rate),\n",
    "        metrics=['mae', 'mse', keras.metrics.RootMeanSquaredError()]\n",
    "    )\n",
    "    \n",
    "    return model"
   ]
  },
  {
   "cell_type": "code",
   "execution_count": null,
   "id": "57997335",
   "metadata": {},
   "outputs": [],
   "source": [
    "optimizers = [\n",
    "    tf.keras.optimizers.Adam,\n",
    "    tf.keras.optimizers.SGD,\n",
    "    tf.keras.optimizers.RMSprop,\n",
    "    tf.keras.optimizers.Adagrad\n",
    "]"
   ]
  },
  {
   "cell_type": "code",
   "execution_count": null,
   "id": "9db519ea",
   "metadata": {},
   "outputs": [],
   "source": [
    "activation = [\n",
    "    tf.keras.activations.gelu,\n",
    "    tf.keras.activations.swish,\n",
    "    tfa.activations.mish,\n",
    "    'relu',\n",
    "    'sigmoid',\n",
    "    'softplus',\n",
    "    'softsign',\n",
    "    'tanh'\n",
    "]"
   ]
  },
  {
   "cell_type": "code",
   "execution_count": null,
   "id": "unexpected-cedar",
   "metadata": {},
   "outputs": [],
   "source": [
    "batch_size = [6, 9, 18]\n",
    "epochs = [400, 500, 600, 700]\n",
    "learning_rate = [10e-1, 10e-2, 10e-3, 10e-4, 10e-5, 10e-6]\n",
    "init_mode = ['uniform', 'normal', 'glorot_normal', 'glorot_uniform']\n",
    "dropout_rate = [0.0, 0.1, 0.2, 0.3, 0.4, 0.5]\n",
    "weight_constraint = [1, 2, 3, 4, 5]\n",
    "neurons = [128, 256, 512, 768, 1024]\n",
    "regularizers = [tf.keras.regularizers.l1(0.0001), tf.keras.regularizers.l2(0.0001), tf.keras.regularizers.l1_l2(0.0001)]"
   ]
  },
  {
   "cell_type": "code",
   "execution_count": null,
   "id": "rising-poland",
   "metadata": {},
   "outputs": [],
   "source": [
    "scalers = [\n",
    "    preprocessing.StandardScaler(),\n",
    "    preprocessing.MinMaxScaler(),\n",
    "    preprocessing.MaxAbsScaler(),\n",
    "    preprocessing.RobustScaler(quantile_range=(25,75)),\n",
    "    preprocessing.PowerTransformer(method='yeo-johnson'),\n",
    "    preprocessing.QuantileTransformer(output_distribution='uniform'),\n",
    "    preprocessing.QuantileTransformer(output_distribution='normal'),\n",
    "]"
   ]
  },
  {
   "cell_type": "code",
   "execution_count": null,
   "id": "mounted-victory",
   "metadata": {},
   "outputs": [],
   "source": [
    "param_grid = {\n",
    "    'estimator__batch_size': batch_size,\n",
    "    'estimator__epochs': epochs,\n",
    "    'estimator__optimizer': optimizers,\n",
    "    'estimator__learning_rate': learning_rate,\n",
    "    'estimator__activation': activation,\n",
    "    'estimator__init_mode': init_mode,\n",
    "    'estimator__weight_constraint': weight_constraint,\n",
    "    'estimator__dropout_rate': dropout_rate,\n",
    "    'estimator__neurons': neurons,\n",
    "    'estimator__regularizers': regularizers,\n",
    "    'scaler': scalers\n",
    "}"
   ]
  },
  {
   "cell_type": "code",
   "execution_count": null,
   "id": "adapted-playlist",
   "metadata": {},
   "outputs": [],
   "source": [
    "model = KerasRegressor(build_fn=build_model, verbose=1)"
   ]
  },
  {
   "cell_type": "code",
   "execution_count": null,
   "id": "floral-short",
   "metadata": {},
   "outputs": [],
   "source": [
    "steps = [('scaler', preprocessing.StandardScaler()), \n",
    "         ('estimator', model)]"
   ]
  },
  {
   "cell_type": "code",
   "execution_count": null,
   "id": "complete-gibson",
   "metadata": {},
   "outputs": [],
   "source": [
    "pipe = pipeline.Pipeline(steps)"
   ]
  },
  {
   "cell_type": "code",
   "execution_count": null,
   "id": "undefined-uganda",
   "metadata": {},
   "outputs": [],
   "source": [
    "grid = BayesSearchCV(\n",
    "    estimator = pipe,\n",
    "    search_spaces = param_grid,\n",
    "    n_iter = 50,\n",
    "    n_jobs = 3,\n",
    "    cv = 10,\n",
    "    scoring = 'neg_mean_squared_error',\n",
    "    refit = True\n",
    ")"
   ]
  },
  {
   "cell_type": "code",
   "execution_count": null,
   "id": "deluxe-essence",
   "metadata": {},
   "outputs": [],
   "source": [
    "start = time.time()\n",
    "grid_result = grid.fit(X_treinamento, y_treinamento)\n",
    "end = time.time()"
   ]
  },
  {
   "cell_type": "code",
   "execution_count": null,
   "id": "magnetic-advertising",
   "metadata": {},
   "outputs": [],
   "source": [
    "print((end-start)/60)"
   ]
  },
  {
   "cell_type": "code",
   "execution_count": null,
   "id": "linear-measurement",
   "metadata": {},
   "outputs": [],
   "source": [
    "grid_result.best_params_"
   ]
  },
  {
   "cell_type": "code",
   "execution_count": null,
   "id": "decimal-camcorder",
   "metadata": {},
   "outputs": [],
   "source": [
    "grid_result.best_index_"
   ]
  },
  {
   "cell_type": "code",
   "execution_count": null,
   "id": "satellite-investment",
   "metadata": {},
   "outputs": [],
   "source": [
    "hist = pd.DataFrame(grid_result.best_estimator_['estimator'].model.history.history)\n",
    "hist.to_json(r'history.json')"
   ]
  },
  {
   "cell_type": "code",
   "execution_count": null,
   "id": "alert-adrian",
   "metadata": {},
   "outputs": [],
   "source": [
    "cv_results_ = pd.DataFrame(grid_result.cv_results_)\n",
    "cv_results_.iloc[:, 0:17].to_json(r'cv_results_.json', orient='columns')"
   ]
  },
  {
   "cell_type": "code",
   "execution_count": null,
   "id": "pleased-desire",
   "metadata": {},
   "outputs": [],
   "source": [
    "model = grid_result.best_estimator_['estimator'].model\n",
    "model.save(r'model.h5')\n",
    "dump(grid_result.best_estimator_['scaler'], r'scaler.joblib') "
   ]
  },
  {
   "cell_type": "code",
   "execution_count": null,
   "id": "played-sport",
   "metadata": {},
   "outputs": [],
   "source": [
    "X_treinamento_100 = pd.concat([X_treinamento, X_teste], axis=0)\n",
    "y_treinamento_100 = pd.concat([treino_json, teste_json], axis=0)\n",
    "\n",
    "X_treinamento_100.reset_index(drop=True, inplace=True)\n",
    "y_treinamento_100.reset_index(drop=True, inplace=True)\n",
    "\n",
    "a100 = []\n",
    "\n",
    "for i in range(y_treinamento_100.size):\n",
    "    a100.append(list(y_treinamento_100[i]))\n",
    "    \n",
    "y_treinamento_100 = np.array(a100, dtype='float32')"
   ]
  },
  {
   "cell_type": "code",
   "execution_count": null,
   "id": "inside-plymouth",
   "metadata": {},
   "outputs": [],
   "source": [
    "grid_result.best_estimator_.fit(X_treinamento_100, y_treinamento_100)"
   ]
  },
  {
   "cell_type": "code",
   "execution_count": null,
   "id": "mounted-silicon",
   "metadata": {},
   "outputs": [],
   "source": [
    "model100 = grid_result.best_estimator_['estimator'].model\n",
    "model100.save(r'model-100.h5')\n",
    "dump(grid_result.best_estimator_['scaler'], r'scaler-100.joblib') "
   ]
  }
 ],
 "metadata": {
  "kernelspec": {
   "display_name": "Python 3",
   "language": "python",
   "name": "python3"
  },
  "language_info": {
   "codemirror_mode": {
    "name": "ipython",
    "version": 3
   },
   "file_extension": ".py",
   "mimetype": "text/x-python",
   "name": "python",
   "nbconvert_exporter": "python",
   "pygments_lexer": "ipython3",
   "version": "3.8.10"
  }
 },
 "nbformat": 4,
 "nbformat_minor": 5
}
