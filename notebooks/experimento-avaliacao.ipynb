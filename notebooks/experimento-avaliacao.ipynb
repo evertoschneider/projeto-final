{
 "cells": [
  {
   "cell_type": "code",
   "execution_count": null,
   "id": "noble-affect",
   "metadata": {},
   "outputs": [],
   "source": [
    "import os\n",
    "import pandas as pd\n",
    "\n",
    "import numpy as np\n",
    "\n",
    "import tensorflow as tf\n",
    "import tensorflow_addons as tfa\n",
    "\n",
    "from tensorflow import keras\n",
    "\n",
    "from tensorflow.keras import layers\n",
    "from tensorflow.keras import models\n",
    "\n",
    "from tensorflow.keras.models import load_model\n",
    "from tensorflow.keras.wrappers.scikit_learn import KerasRegressor\n",
    "\n",
    "from keras.constraints import maxnorm\n",
    "\n",
    "from sklearn.metrics import mean_absolute_error, mean_squared_error, r2_score\n",
    "from sklearn import pipeline\n",
    "\n",
    "from scipy.stats import shapiro, normaltest, anderson\n",
    "from statsmodels.stats.diagnostic import lilliefors\n",
    "\n",
    "from joblib import load\n",
    "\n",
    "import seaborn as sns\n",
    "from statsmodels.graphics.gofplots import qqplot\n",
    "import matplotlib.pyplot as plt"
   ]
  },
  {
   "cell_type": "code",
   "execution_count": null,
   "id": "charitable-sullivan",
   "metadata": {},
   "outputs": [],
   "source": [
    "X_treinamento = pd.read_json(r'dados/precipitacao/X_treinamento_80.json')\n",
    "X_teste = pd.read_json      (r'dados/precipitacao/X_teste_20.json')\n",
    "treino_json = pd.read_json  (r'dados/precipitacao/y_treinamento_80.json', typ='series')\n",
    "teste_json = pd.read_json   (r'dados/precipitacao/y_teste_20.json', typ='series')"
   ]
  },
  {
   "cell_type": "code",
   "execution_count": null,
   "id": "worst-acrylic",
   "metadata": {},
   "outputs": [],
   "source": [
    "a = []\n",
    "b = []\n",
    "\n",
    "for i in range(treino_json.size):\n",
    "    a.append(list(treino_json[i]))\n",
    "    \n",
    "for i in range(teste_json.size):\n",
    "    b.append(list(teste_json[i]))"
   ]
  },
  {
   "cell_type": "code",
   "execution_count": null,
   "id": "ideal-dominant",
   "metadata": {},
   "outputs": [],
   "source": [
    "y_treinamento = np.array(a, dtype='float32')\n",
    "y_teste = np.array(b, dtype='float32')"
   ]
  },
  {
   "cell_type": "code",
   "execution_count": null,
   "id": "checked-cookie",
   "metadata": {},
   "outputs": [],
   "source": [
    "def build_model(\n",
    "    optimizer,\n",
    "    learning_rate,\n",
    "    activation,\n",
    "    init_mode,\n",
    "    dropout_rate,\n",
    "    weight_constraint,\n",
    "    neurons,\n",
    "    regularizers\n",
    "):\n",
    "    model = models.Sequential()\n",
    "    \n",
    "    # layer 1\n",
    "    model.add(\n",
    "        layers.Dense(\n",
    "            neurons,\n",
    "            activation = activation,\n",
    "            kernel_initializer=init_mode,\n",
    "            kernel_constraint=maxnorm(weight_constraint),\n",
    "            kernel_regularizer=regularizers,\n",
    "            input_shape=[len(X_treinamento.keys())]\n",
    "        )\n",
    "    )\n",
    "    model.add(layers.Dropout(dropout_rate))\n",
    "    \n",
    "    # layer 2\n",
    "    model.add(layers.Dense(256))\n",
    "    \n",
    "    model.compile(\n",
    "        loss='mse',\n",
    "        optimizer=optimizer(learning_rate),\n",
    "        metrics=['mae', 'mse', keras.metrics.RootMeanSquaredError()]\n",
    "    )\n",
    "    \n",
    "    return model"
   ]
  },
  {
   "cell_type": "code",
   "execution_count": null,
   "id": "fewer-japanese",
   "metadata": {},
   "outputs": [],
   "source": [
    "loaded_model = KerasRegressor(build_fn=build_model, verbose=1)"
   ]
  },
  {
   "cell_type": "code",
   "execution_count": null,
   "id": "8d387422",
   "metadata": {},
   "outputs": [],
   "source": [
    "# loaded_model.model = load_model(\n",
    "#     r'resultados/model.h5',\n",
    "#     custom_objects={'mish': tfa.activations.mish}\n",
    "# )"
   ]
  },
  {
   "cell_type": "code",
   "execution_count": null,
   "id": "pleased-baltimore",
   "metadata": {},
   "outputs": [],
   "source": [
    "loaded_model.model = load_model(r'resultados/model.h5')"
   ]
  },
  {
   "cell_type": "code",
   "execution_count": null,
   "id": "annual-guidance",
   "metadata": {},
   "outputs": [],
   "source": [
    "scaler = load(r'resultados/scaler.joblib')"
   ]
  },
  {
   "cell_type": "code",
   "execution_count": null,
   "id": "formal-terrorist",
   "metadata": {},
   "outputs": [],
   "source": [
    "loaded_steps = [('scaler', scaler), \n",
    "         ('estimator', loaded_model)]"
   ]
  },
  {
   "cell_type": "code",
   "execution_count": null,
   "id": "identified-economics",
   "metadata": {},
   "outputs": [],
   "source": [
    "loaded_pipe = pipeline.Pipeline(loaded_steps)"
   ]
  },
  {
   "cell_type": "code",
   "execution_count": null,
   "id": "durable-reminder",
   "metadata": {},
   "outputs": [],
   "source": [
    "plm = loaded_pipe.predict(X_teste)"
   ]
  },
  {
   "cell_type": "code",
   "execution_count": null,
   "id": "mineral-morris",
   "metadata": {},
   "outputs": [],
   "source": [
    "expectedWlm = []\n",
    "for i in range(y_teste.shape[0]):\n",
    "    dfE = pd.DataFrame(\n",
    "        y_teste[i].reshape(16,16), \n",
    "        columns=['0', '1', '2', '3', '4', '5', '6', '7', '8', \n",
    "                 '9', '10', '11', '12', '13', '14', '15'])\n",
    "    w = dfE.values.sum()\n",
    "    expectedWlm.append(w)"
   ]
  },
  {
   "cell_type": "code",
   "execution_count": null,
   "id": "confident-circumstances",
   "metadata": {},
   "outputs": [],
   "source": [
    "predictedWlm = []\n",
    "for i in range(plm.shape[0]):\n",
    "    dfP = pd.DataFrame(\n",
    "        plm[i].reshape(16,16), \n",
    "        columns=['0', '1', '2', '3', '4', '5', '6', '7', '8', \n",
    "                 '9', '10', '11', '12', '13', '14', '15'])\n",
    "#     for i in range(16):\n",
    "#         dfP.loc[dfP[str(i)] < 0, str(i)] = 0\n",
    "    w = dfP.values.sum()\n",
    "    predictedWlm.append(w)"
   ]
  },
  {
   "cell_type": "code",
   "execution_count": null,
   "id": "verified-warner",
   "metadata": {},
   "outputs": [],
   "source": [
    "for prediction, real in zip(predictedWlm, expectedWlm):\n",
    "    print(\"Prediction: %f - Real: %f - Error: %f\" % (prediction, real, real - prediction))"
   ]
  },
  {
   "cell_type": "code",
   "execution_count": null,
   "id": "perfect-practitioner",
   "metadata": {},
   "outputs": [],
   "source": [
    "print(\"{0:0.5f}\".format(mean_absolute_error(predictedWlm, expectedWlm)))"
   ]
  },
  {
   "cell_type": "code",
   "execution_count": null,
   "id": "expressed-atmosphere",
   "metadata": {},
   "outputs": [],
   "source": [
    "print(\"{0:0.5f}\".format(mean_squared_error(predictedWlm, expectedWlm)))"
   ]
  },
  {
   "cell_type": "code",
   "execution_count": null,
   "id": "ambient-technical",
   "metadata": {},
   "outputs": [],
   "source": [
    "print(\"{0:0.5f}\".format(mean_squared_error(predictedWlm, expectedWlm, squared=False)))"
   ]
  },
  {
   "cell_type": "code",
   "execution_count": null,
   "id": "vertical-newport",
   "metadata": {},
   "outputs": [],
   "source": [
    "print(r2_score(predictedWlm, expectedWlm))"
   ]
  },
  {
   "cell_type": "code",
   "execution_count": null,
   "id": "former-ottawa",
   "metadata": {},
   "outputs": [],
   "source": [
    "hist = pd.read_json(r'resultados/history.json')"
   ]
  },
  {
   "cell_type": "code",
   "execution_count": null,
   "id": "greek-belief",
   "metadata": {},
   "outputs": [],
   "source": [
    "sns.set_theme()"
   ]
  },
  {
   "cell_type": "code",
   "execution_count": null,
   "id": "fancy-perspective",
   "metadata": {},
   "outputs": [],
   "source": [
    "def plot_history(hist):\n",
    "#     hist = pd.DataFrame(grid_result.best_estimator_['estimator'].model.history.history)\n",
    "    hist.reset_index(inplace=True)\n",
    "    hist = hist.rename(columns = {'index':'epoch'})\n",
    "\n",
    "    plt.figure()\n",
    "    plt.xlabel('Época')\n",
    "    plt.ylabel('Erro [MSE]')\n",
    "    plt.plot(hist['epoch'], hist['mse'],\n",
    "           label='Erro')\n",
    "    plt.ylim([0,2])\n",
    "    plt.legend()\n",
    "\n",
    "\n",
    "plot_history(hist)"
   ]
  },
  {
   "cell_type": "code",
   "execution_count": null,
   "id": "geological-lecture",
   "metadata": {},
   "outputs": [],
   "source": [
    "error = pd.Series(np.array(expectedWlm) - np.array(predictedWlm))"
   ]
  },
  {
   "cell_type": "code",
   "execution_count": null,
   "id": "potential-johns",
   "metadata": {},
   "outputs": [],
   "source": [
    "error.to_json(r'resultados/error.json')"
   ]
  },
  {
   "cell_type": "code",
   "execution_count": null,
   "id": "removable-breed",
   "metadata": {},
   "outputs": [],
   "source": [
    "plt.hist(error, bins = 15)\n",
    "plt.xlabel(\"Resíduos\")\n",
    "_ = plt.ylabel(\"Observações\")"
   ]
  },
  {
   "cell_type": "code",
   "execution_count": null,
   "id": "progressive-offset",
   "metadata": {},
   "outputs": [],
   "source": [
    "resultados = pd.DataFrame({'Valores Preditos':predictedWlm, 'Resíduos':error})"
   ]
  },
  {
   "cell_type": "code",
   "execution_count": null,
   "id": "proprietary-leeds",
   "metadata": {},
   "outputs": [],
   "source": [
    "sns.scatterplot(data=resultados, x=\"Valores Preditos\", y=\"Resíduos\")\n",
    "ax = sns.lineplot(x=resultados['Valores Preditos'],y=0, dashes=[(2, 2), (2, 2)])\n",
    "ax.lines[0].set_linestyle(\"--\")\n",
    "plt.show()"
   ]
  },
  {
   "cell_type": "code",
   "execution_count": null,
   "id": "weekly-hacker",
   "metadata": {},
   "outputs": [],
   "source": [
    "qqplot(error, line='s')\n",
    "plt.show()"
   ]
  },
  {
   "cell_type": "code",
   "execution_count": null,
   "id": "disciplinary-width",
   "metadata": {},
   "outputs": [],
   "source": [
    "sp = shapiro(error)\n",
    "sp"
   ]
  },
  {
   "cell_type": "code",
   "execution_count": null,
   "id": "careful-hopkins",
   "metadata": {},
   "outputs": [],
   "source": [
    "nt = normaltest(error)\n",
    "nt"
   ]
  },
  {
   "cell_type": "code",
   "execution_count": null,
   "id": "organized-acrobat",
   "metadata": {},
   "outputs": [],
   "source": [
    "lf = lilliefors(error)\n",
    "lf"
   ]
  },
  {
   "cell_type": "code",
   "execution_count": null,
   "id": "colonial-invitation",
   "metadata": {},
   "outputs": [],
   "source": [
    "result = anderson(error)\n",
    "print('Statistic: %.3f' % result.statistic)\n",
    "for i in range(len(result.critical_values)):\n",
    "    sl, cv = result.significance_level[i], result.critical_values[i]\n",
    "    if result.statistic < result.critical_values[i]:\n",
    "        print('%.3f: %.3f, data looks normal (fail to reject H0)' % (sl, cv))\n",
    "    else:\n",
    "        print('%.3f: %.3f, data does not look normal (reject H0)' % (sl, cv))"
   ]
  }
 ],
 "metadata": {
  "kernelspec": {
   "display_name": "Python 3",
   "language": "python",
   "name": "python3"
  },
  "language_info": {
   "codemirror_mode": {
    "name": "ipython",
    "version": 3
   },
   "file_extension": ".py",
   "mimetype": "text/x-python",
   "name": "python",
   "nbconvert_exporter": "python",
   "pygments_lexer": "ipython3",
   "version": "3.8.10"
  }
 },
 "nbformat": 4,
 "nbformat_minor": 5
}
