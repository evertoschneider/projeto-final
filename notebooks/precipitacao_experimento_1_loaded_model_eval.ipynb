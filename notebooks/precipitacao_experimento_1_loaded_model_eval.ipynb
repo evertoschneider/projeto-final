{
 "cells": [
  {
   "cell_type": "code",
   "execution_count": 1,
   "id": "noble-affect",
   "metadata": {},
   "outputs": [],
   "source": [
    "import os\n",
    "import pandas as pd\n",
    "\n",
    "import numpy as np\n",
    "\n",
    "import tensorflow as tf\n",
    "from tensorflow import keras\n",
    "\n",
    "from tensorflow.keras import layers\n",
    "from tensorflow.keras import models\n",
    "\n",
    "from tensorflow.keras.models import load_model\n",
    "from tensorflow.keras.wrappers.scikit_learn import KerasRegressor\n",
    "\n",
    "from keras.constraints import maxnorm\n",
    "\n",
    "from sklearn.metrics import mean_absolute_error, mean_squared_error, r2_score\n",
    "from sklearn import pipeline\n",
    "\n",
    "from scipy.stats import shapiro, normaltest, anderson\n",
    "from statsmodels.stats.diagnostic import lilliefors\n",
    "\n",
    "from joblib import load\n",
    "\n",
    "import seaborn as sns\n",
    "from statsmodels.graphics.gofplots import qqplot\n",
    "import matplotlib.pyplot as plt"
   ]
  },
  {
   "cell_type": "code",
   "execution_count": 2,
   "id": "charitable-sullivan",
   "metadata": {},
   "outputs": [],
   "source": [
    "X_treinamento = pd.read_json(r'C:\\Users\\Everton\\Documents\\Mestrado\\projeto-final\\dados\\precipitacao\\X_treinamento.json')\n",
    "X_teste = pd.read_json      (r'C:\\Users\\Everton\\Documents\\Mestrado\\projeto-final\\dados\\precipitacao\\X_teste.json')\n",
    "treino_json = pd.read_json  (r'C:\\Users\\Everton\\Documents\\Mestrado\\projeto-final\\dados\\precipitacao\\y_treinamento.json', typ='series')\n",
    "teste_json = pd.read_json   (r'C:\\Users\\Everton\\Documents\\Mestrado\\projeto-final\\dados\\precipitacao\\y_teste.json', typ='series')"
   ]
  },
  {
   "cell_type": "code",
   "execution_count": 3,
   "id": "indonesian-louis",
   "metadata": {},
   "outputs": [],
   "source": [
    "X_treinamento = X_treinamento.drop(['horario_experimento', 'mes_experimento', 'vazao_inicial', 'vazao_final', 'vazao_total'], axis=1)\n",
    "X_teste = X_teste.drop(['horario_experimento', 'mes_experimento', 'vazao_inicial', 'vazao_final', 'vazao_total'], axis=1)"
   ]
  },
  {
   "cell_type": "code",
   "execution_count": 4,
   "id": "worst-acrylic",
   "metadata": {},
   "outputs": [],
   "source": [
    "a = []\n",
    "b = []\n",
    "\n",
    "for i in range(treino_json.size):\n",
    "    a.append(list(treino_json[i]))\n",
    "    \n",
    "for i in range(teste_json.size):\n",
    "    b.append(list(teste_json[i]))"
   ]
  },
  {
   "cell_type": "code",
   "execution_count": 5,
   "id": "ideal-dominant",
   "metadata": {},
   "outputs": [],
   "source": [
    "y_treinamento = np.array(a, dtype='float32')\n",
    "y_teste = np.array(b, dtype='float32')"
   ]
  },
  {
   "cell_type": "code",
   "execution_count": 6,
   "id": "checked-cookie",
   "metadata": {},
   "outputs": [],
   "source": [
    "def build_model(\n",
    "    optimizer,\n",
    "    init_mode,\n",
    "    activation,\n",
    "    dropout_rate,\n",
    "    weight_constraint,\n",
    "    neurons,\n",
    "    loss,\n",
    "    regularizers\n",
    "):\n",
    "    model = models.Sequential()\n",
    "    \n",
    "    # layer 1\n",
    "    model.add(\n",
    "        layers.Dense(\n",
    "            neurons,\n",
    "            activation = activation,\n",
    "            kernel_initializer=init_mode,\n",
    "            kernel_constraint=maxnorm(weight_constraint),\n",
    "            kernel_regularizer=regularizers,\n",
    "            input_shape=[len(X_treinamento.keys())]\n",
    "        )\n",
    "    )\n",
    "    model.add(layers.Dropout(dropout_rate))\n",
    "    \n",
    "    # layer 2\n",
    "    model.add(layers.Dense(256))\n",
    "    \n",
    "    model.compile(\n",
    "        loss=loss,\n",
    "        optimizer=optimizer,\n",
    "        metrics=['mae', 'mse', keras.metrics.RootMeanSquaredError()]\n",
    "    )\n",
    "    \n",
    "    return model"
   ]
  },
  {
   "cell_type": "code",
   "execution_count": 7,
   "id": "fewer-japanese",
   "metadata": {},
   "outputs": [],
   "source": [
    "loaded_model = KerasRegressor(build_fn=build_model, verbose=1)"
   ]
  },
  {
   "cell_type": "code",
   "execution_count": 8,
   "id": "pleased-baltimore",
   "metadata": {},
   "outputs": [],
   "source": [
    "loaded_model.model = load_model(r'C:\\Users\\Everton\\Documents\\Mestrado\\projeto-final\\experimentos\\precipitacao-experimento-1\\resultados\\Experimento-10\\model-70-30-prec-1-10.h5')"
   ]
  },
  {
   "cell_type": "code",
   "execution_count": 9,
   "id": "annual-guidance",
   "metadata": {},
   "outputs": [],
   "source": [
    "scaler = load(r'C:\\Users\\Everton\\Documents\\Mestrado\\projeto-final\\experimentos\\precipitacao-experimento-1\\resultados\\Experimento-10\\scaler-70-30-prec-1-10.joblib')"
   ]
  },
  {
   "cell_type": "code",
   "execution_count": 10,
   "id": "formal-terrorist",
   "metadata": {},
   "outputs": [],
   "source": [
    "loaded_steps = [('scaler', scaler), \n",
    "         ('estimator', loaded_model)]"
   ]
  },
  {
   "cell_type": "code",
   "execution_count": 11,
   "id": "identified-economics",
   "metadata": {},
   "outputs": [],
   "source": [
    "loaded_pipe = pipeline.Pipeline(loaded_steps)"
   ]
  },
  {
   "cell_type": "code",
   "execution_count": 12,
   "id": "durable-reminder",
   "metadata": {},
   "outputs": [
    {
     "name": "stdout",
     "output_type": "stream",
     "text": [
      "1/1 [==============================] - 0s 7ms/step\n"
     ]
    }
   ],
   "source": [
    "plm = loaded_pipe.predict(X_teste)"
   ]
  },
  {
   "cell_type": "code",
   "execution_count": 13,
   "id": "mineral-morris",
   "metadata": {},
   "outputs": [],
   "source": [
    "expectedWlm = []\n",
    "for i in range(y_teste.shape[0]):\n",
    "    dfE = pd.DataFrame(\n",
    "        y_teste[i].reshape(16,16), \n",
    "        columns=['0', '1', '2', '3', '4', '5', '6', '7', '8', \n",
    "                 '9', '10', '11', '12', '13', '14', '15'])\n",
    "    w = dfE.values.sum()\n",
    "    expectedWlm.append(w)"
   ]
  },
  {
   "cell_type": "code",
   "execution_count": 14,
   "id": "confident-circumstances",
   "metadata": {},
   "outputs": [],
   "source": [
    "predictedWlm = []\n",
    "for i in range(plm.shape[0]):\n",
    "    dfP = pd.DataFrame(\n",
    "        plm[i].reshape(16,16), \n",
    "        columns=['0', '1', '2', '3', '4', '5', '6', '7', '8', \n",
    "                 '9', '10', '11', '12', '13', '14', '15'])\n",
    "    for i in range(16):\n",
    "        dfP.loc[dfP[str(i)] < 0, str(i)] = 0\n",
    "    w = dfP.values.sum()\n",
    "    predictedWlm.append(w)"
   ]
  },
  {
   "cell_type": "code",
   "execution_count": 15,
   "id": "verified-warner",
   "metadata": {},
   "outputs": [
    {
     "name": "stdout",
     "output_type": "stream",
     "text": [
      "Prediction: 452.262573 - Real: 430.600006 - Error: -21.662567\n",
      "Prediction: 482.395508 - Real: 537.449951 - Error: 55.054443\n",
      "Prediction: 1099.031982 - Real: 1034.400146 - Error: -64.631836\n",
      "Prediction: 903.511353 - Real: 898.500000 - Error: -5.011353\n",
      "Prediction: 1104.942871 - Real: 1120.899902 - Error: 15.957031\n",
      "Prediction: 524.289673 - Real: 418.950012 - Error: -105.339661\n",
      "Prediction: 1285.309082 - Real: 1351.099976 - Error: 65.790894\n",
      "Prediction: 662.336670 - Real: 658.700073 - Error: -3.636597\n",
      "Prediction: 967.872742 - Real: 1094.699951 - Error: 126.827209\n",
      "Prediction: 834.149658 - Real: 1001.900024 - Error: 167.750366\n",
      "Prediction: 738.772705 - Real: 869.799927 - Error: 131.027222\n",
      "Prediction: 572.857056 - Real: 548.949951 - Error: -23.907104\n",
      "Prediction: 1059.429199 - Real: 1089.699951 - Error: 30.270752\n",
      "Prediction: 698.135742 - Real: 736.449951 - Error: 38.314209\n",
      "Prediction: 774.848511 - Real: 692.699951 - Error: -82.148560\n",
      "Prediction: 1131.561035 - Real: 1052.800049 - Error: -78.760986\n",
      "Prediction: 1022.818604 - Real: 1068.000000 - Error: 45.181396\n",
      "Prediction: 1080.571655 - Real: 1039.300049 - Error: -41.271606\n",
      "Prediction: 883.837219 - Real: 1016.000000 - Error: 132.162781\n",
      "Prediction: 678.268433 - Real: 712.950073 - Error: 34.681641\n",
      "Prediction: 1108.291626 - Real: 1152.300049 - Error: 44.008423\n",
      "Prediction: 695.371521 - Real: 796.000000 - Error: 100.628479\n",
      "Prediction: 989.321411 - Real: 1015.300049 - Error: 25.978638\n",
      "Prediction: 769.695190 - Real: 772.349976 - Error: 2.654785\n",
      "Prediction: 526.022339 - Real: 470.349976 - Error: -55.672363\n",
      "Prediction: 660.435303 - Real: 701.049988 - Error: 40.614685\n",
      "Prediction: 615.032471 - Real: 618.500000 - Error: 3.467529\n",
      "Prediction: 1159.917480 - Real: 1159.599976 - Error: -0.317505\n",
      "Prediction: 757.946960 - Real: 732.349976 - Error: -25.596985\n",
      "Prediction: 997.213745 - Real: 1127.449951 - Error: 130.236206\n"
     ]
    }
   ],
   "source": [
    "for prediction, real in zip(predictedWlm, expectedWlm):\n",
    "    print(\"Prediction: %f - Real: %f - Error: %f\" % (prediction, real, real - prediction))"
   ]
  },
  {
   "cell_type": "code",
   "execution_count": 16,
   "id": "perfect-practitioner",
   "metadata": {},
   "outputs": [
    {
     "name": "stdout",
     "output_type": "stream",
     "text": [
      "56.61879\n"
     ]
    }
   ],
   "source": [
    "print(\"{0:0.5f}\".format(mean_absolute_error(predictedWlm, expectedWlm)))"
   ]
  },
  {
   "cell_type": "code",
   "execution_count": 17,
   "id": "expressed-atmosphere",
   "metadata": {},
   "outputs": [
    {
     "name": "stdout",
     "output_type": "stream",
     "text": [
      "5274.44678\n"
     ]
    }
   ],
   "source": [
    "print(\"{0:0.5f}\".format(mean_squared_error(predictedWlm, expectedWlm)))"
   ]
  },
  {
   "cell_type": "code",
   "execution_count": 18,
   "id": "ambient-technical",
   "metadata": {},
   "outputs": [
    {
     "name": "stdout",
     "output_type": "stream",
     "text": [
      "72.62539\n"
     ]
    }
   ],
   "source": [
    "print(\"{0:0.5f}\".format(mean_squared_error(predictedWlm, expectedWlm, squared=False)))"
   ]
  },
  {
   "cell_type": "code",
   "execution_count": 19,
   "id": "vertical-newport",
   "metadata": {},
   "outputs": [
    {
     "name": "stdout",
     "output_type": "stream",
     "text": [
      "0.8985235081367501\n"
     ]
    }
   ],
   "source": [
    "print(r2_score(predictedWlm, expectedWlm))"
   ]
  },
  {
   "cell_type": "code",
   "execution_count": 20,
   "id": "former-ottawa",
   "metadata": {},
   "outputs": [],
   "source": [
    "hist = pd.read_json(r'C:\\Users\\Everton\\Documents\\Mestrado\\projeto-final\\experimentos\\precipitacao-experimento-1\\resultados\\Experimento-10\\prec-1-10-history')"
   ]
  },
  {
   "cell_type": "code",
   "execution_count": 21,
   "id": "greek-belief",
   "metadata": {},
   "outputs": [],
   "source": [
    "sns.set_theme()"
   ]
  },
  {
   "cell_type": "code",
   "execution_count": 23,
   "id": "fancy-perspective",
   "metadata": {},
   "outputs": [
    {
     "data": {
      "image/png": "[encoded data removed]",
      "text/plain": [
       "<Figure size 432x288 with 1 Axes>"
      ]
     },
     "metadata": {},
     "output_type": "display_data"
    },
    {
     "data": {
      "image/png": "[encoded data removed]",
      "text/plain": [
       "<Figure size 432x288 with 1 Axes>"
      ]
     },
     "metadata": {},
     "output_type": "display_data"
    }
   ],
   "source": [
    "def plot_history(hist):\n",
    "#     hist = pd.DataFrame(grid_result.best_estimator_['estimator'].model.history.history)\n",
    "    hist.reset_index(inplace=True)\n",
    "    hist = hist.rename(columns = {'index':'epoch'})\n",
    "\n",
    "    plt.figure()\n",
    "    plt.xlabel('Época')\n",
    "    plt.ylabel('Erro [MSE]')\n",
    "    plt.plot(hist['epoch'], hist['mse'],\n",
    "           label='Erro')\n",
    "    plt.ylim([0,2])\n",
    "    plt.legend()\n",
    "    \n",
    "    plt.figure()\n",
    "    plt.xlabel('Época')\n",
    "    plt.ylabel('Perda [LogCosh]')\n",
    "    plt.plot(hist['epoch'], hist['loss'],\n",
    "           label='Perda')\n",
    "    plt.ylim([0,10])\n",
    "    plt.legend()\n",
    "    plt.show()\n",
    "\n",
    "\n",
    "plot_history(hist)"
   ]
  },
  {
   "cell_type": "code",
   "execution_count": 24,
   "id": "geological-lecture",
   "metadata": {},
   "outputs": [],
   "source": [
    "error = pd.Series(np.array(expectedWlm) - np.array(predictedWlm))"
   ]
  },
  {
   "cell_type": "code",
   "execution_count": 25,
   "id": "removable-breed",
   "metadata": {},
   "outputs": [
    {
     "data": {
      "image/png": "[encoded data removed]",
      "text/plain": [
       "<Figure size 432x288 with 1 Axes>"
      ]
     },
     "metadata": {},
     "output_type": "display_data"
    }
   ],
   "source": [
    "plt.hist(error, bins = 15)\n",
    "plt.xlabel(\"Resíduos\")\n",
    "_ = plt.ylabel(\"Observações\")"
   ]
  },
  {
   "cell_type": "code",
   "execution_count": 26,
   "id": "progressive-offset",
   "metadata": {},
   "outputs": [],
   "source": [
    "resultados = pd.DataFrame({'Valores Preditos':predictedWlm, 'Resíduos':error})"
   ]
  },
  {
   "cell_type": "code",
   "execution_count": 28,
   "id": "proprietary-leeds",
   "metadata": {},
   "outputs": [
    {
     "data": {
      "image/png": "[encoded data removed]",
      "text/plain": [
       "<Figure size 432x288 with 1 Axes>"
      ]
     },
     "metadata": {},
     "output_type": "display_data"
    }
   ],
   "source": [
    "sns.scatterplot(data=resultados, x=\"Valores Preditos\", y=\"Resíduos\")\n",
    "ax = sns.lineplot(x=resultados['Valores Preditos'],y=0, dashes=[(2, 2), (2, 2)])\n",
    "ax.lines[0].set_linestyle(\"--\")\n",
    "plt.show()"
   ]
  },
  {
   "cell_type": "code",
   "execution_count": 29,
   "id": "weekly-hacker",
   "metadata": {},
   "outputs": [
    {
     "data": {
      "image/png": "[encoded data removed]",
      "text/plain": [
       "<Figure size 432x288 with 1 Axes>"
      ]
     },
     "metadata": {},
     "output_type": "display_data"
    }
   ],
   "source": [
    "qqplot(error, line='s')\n",
    "plt.show()"
   ]
  },
  {
   "cell_type": "code",
   "execution_count": 30,
   "id": "continuous-invite",
   "metadata": {},
   "outputs": [
    {
     "data": {
      "text/plain": [
       "ShapiroResult(statistic=0.9686387777328491, pvalue=0.5026339888572693)"
      ]
     },
     "execution_count": 30,
     "metadata": {},
     "output_type": "execute_result"
    }
   ],
   "source": [
    "sp = shapiro(error)\n",
    "sp"
   ]
  },
  {
   "cell_type": "code",
   "execution_count": 31,
   "id": "careful-hopkins",
   "metadata": {},
   "outputs": [
    {
     "data": {
      "text/plain": [
       "NormaltestResult(statistic=0.6681964359407312, pvalue=0.7159834563317353)"
      ]
     },
     "execution_count": 31,
     "metadata": {},
     "output_type": "execute_result"
    }
   ],
   "source": [
    "nt = normaltest(error)\n",
    "nt"
   ]
  },
  {
   "cell_type": "code",
   "execution_count": 32,
   "id": "organized-acrobat",
   "metadata": {},
   "outputs": [
    {
     "data": {
      "text/plain": [
       "(0.1079299469405498, 0.48801838980323076)"
      ]
     },
     "execution_count": 32,
     "metadata": {},
     "output_type": "execute_result"
    }
   ],
   "source": [
    "lf = lilliefors(error)\n",
    "lf"
   ]
  },
  {
   "cell_type": "code",
   "execution_count": 33,
   "id": "colonial-invitation",
   "metadata": {},
   "outputs": [
    {
     "name": "stdout",
     "output_type": "stream",
     "text": [
      "Statistic: 0.342\n",
      "15.000: 0.521, data looks normal (fail to reject H0)\n",
      "10.000: 0.593, data looks normal (fail to reject H0)\n",
      "5.000: 0.712, data looks normal (fail to reject H0)\n",
      "2.500: 0.830, data looks normal (fail to reject H0)\n",
      "1.000: 0.988, data looks normal (fail to reject H0)\n"
     ]
    }
   ],
   "source": [
    "result = anderson(error)\n",
    "print('Statistic: %.3f' % result.statistic)\n",
    "for i in range(len(result.critical_values)):\n",
    "    sl, cv = result.significance_level[i], result.critical_values[i]\n",
    "    if result.statistic < result.critical_values[i]:\n",
    "        print('%.3f: %.3f, data looks normal (fail to reject H0)' % (sl, cv))\n",
    "    else:\n",
    "        print('%.3f: %.3f, data does not look normal (reject H0)' % (sl, cv))"
   ]
  },
  {
   "cell_type": "code",
   "execution_count": 35,
   "id": "australian-cooper",
   "metadata": {},
   "outputs": [
    {
     "data": {
      "text/plain": [
       "AndersonResult(statistic=0.34197669384519713, critical_values=array([0.521, 0.593, 0.712, 0.83 , 0.988]), significance_level=array([15. , 10. ,  5. ,  2.5,  1. ]))"
      ]
     },
     "execution_count": 35,
     "metadata": {},
     "output_type": "execute_result"
    }
   ],
   "source": [
    "result"
   ]
  },
  {
   "cell_type": "code",
   "execution_count": null,
   "id": "structured-madagascar",
   "metadata": {},
   "outputs": [],
   "source": []
  }
 ],
 "metadata": {
  "kernelspec": {
   "display_name": "Python 3",
   "language": "python",
   "name": "python3"
  },
  "language_info": {
   "codemirror_mode": {
    "name": "ipython",
    "version": 3
   },
   "file_extension": ".py",
   "mimetype": "text/x-python",
   "name": "python",
   "nbconvert_exporter": "python",
   "pygments_lexer": "ipython3",
   "version": "3.8.8"
  }
 },
 "nbformat": 4,
 "nbformat_minor": 5
}
