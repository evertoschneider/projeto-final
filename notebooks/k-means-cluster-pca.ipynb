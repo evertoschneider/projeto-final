{
 "cells": [
  {
   "cell_type": "code",
   "execution_count": null,
   "id": "occupational-diary",
   "metadata": {},
   "outputs": [],
   "source": [
    "import os\n",
    "import pandas as pd\n",
    "import seaborn as sns\n",
    "\n",
    "import numpy as np\n",
    "\n",
    "import matplotlib.pyplot as plt\n",
    "\n",
    "from sklearn.cluster import KMeans\n",
    "from sklearn.metrics import silhouette_score\n",
    "from sklearn.preprocessing import MinMaxScaler\n",
    "from sklearn.decomposition import PCA\n",
    "from sklearn.pipeline import Pipeline\n",
    "\n",
    "import plotly.express as px"
   ]
  },
  {
   "cell_type": "code",
   "execution_count": 2,
   "id": "instrumental-boxing",
   "metadata": {},
   "outputs": [],
   "source": [
    "experimentos = pd.read_json(r'dados/experimentos.json')"
   ]
  },
  {
   "cell_type": "code",
   "execution_count": 4,
   "id": "nervous-sentence",
   "metadata": {},
   "outputs": [],
   "source": [
    "preprocessor = Pipeline([\n",
    "    (\"scaler\", MinMaxScaler()),\n",
    "    (\"pca\", PCA(n_components=2, random_state=42))\n",
    "])"
   ]
  },
  {
   "cell_type": "code",
   "execution_count": 5,
   "id": "intense-equivalent",
   "metadata": {},
   "outputs": [],
   "source": [
    "clusterer = Pipeline([\n",
    "    (\n",
    "        \"kmeans\",\n",
    "         KMeans(\n",
    "             n_clusters=3,\n",
    "             init=\"k-means++\",\n",
    "             n_init=50,\n",
    "             max_iter=500,\n",
    "             random_state=42,\n",
    "         ),\n",
    "    ),\n",
    "])"
   ]
  },
  {
   "cell_type": "code",
   "execution_count": 6,
   "id": "olympic-saudi",
   "metadata": {},
   "outputs": [],
   "source": [
    "pipe = Pipeline([\n",
    "    (\"preprocessor\", preprocessor),\n",
    "    (\"clusterer\", clusterer)\n",
    "])"
   ]
  },
  {
   "cell_type": "code",
   "execution_count": null,
   "id": "former-capacity",
   "metadata": {},
   "outputs": [],
   "source": [
    "pipe.fit(features)"
   ]
  },
  {
   "cell_type": "code",
   "execution_count": 8,
   "id": "essential-spread",
   "metadata": {},
   "outputs": [],
   "source": [
    "preprocessed_data = pipe[\"preprocessor\"].transform(features)"
   ]
  },
  {
   "cell_type": "code",
   "execution_count": null,
   "id": "later-nightmare",
   "metadata": {},
   "outputs": [],
   "source": [
    "predicted_labels = pipe[\"clusterer\"][\"kmeans\"].labels_\n",
    "predicted_labels"
   ]
  },
  {
   "cell_type": "code",
   "execution_count": null,
   "id": "compatible-google",
   "metadata": {},
   "outputs": [],
   "source": [
    "silhouette_score(preprocessed_data, predicted_labels)"
   ]
  },
  {
   "cell_type": "code",
   "execution_count": 11,
   "id": "professional-tournament",
   "metadata": {},
   "outputs": [],
   "source": [
    "pcadf = pd.DataFrame(\n",
    "    pipe[\"preprocessor\"].transform(features),\n",
    "    columns=[\"Componente 1\", \"Componente 2\"]\n",
    ")"
   ]
  },
  {
   "cell_type": "code",
   "execution_count": 12,
   "id": "posted-force",
   "metadata": {},
   "outputs": [],
   "source": [
    "pcadf[\"Cluster Predito\"] = pipe[\"clusterer\"][\"kmeans\"].labels_"
   ]
  },
  {
   "cell_type": "code",
   "execution_count": null,
   "id": "amended-kingston",
   "metadata": {},
   "outputs": [],
   "source": [
    "scat = sns.scatterplot(\n",
    "    \"component_1\",\n",
    "    \"component_2\",\n",
    "    s=50,\n",
    "    data=pcadf,\n",
    "    hue=\"predicted_cluster\",\n",
    "    palette=\"Set2\",\n",
    ")\n",
    "\n",
    "scat.set_title(\"Clustering\")\n",
    "plt.legend(bbox_to_anchor=(1.05, 1), loc=2, borderaxespad=0.0)\n",
    "plt.show()"
   ]
  },
  {
   "cell_type": "code",
   "execution_count": null,
   "id": "placed-danger",
   "metadata": {},
   "outputs": [],
   "source": [
    "complete_df = pd.concat([features, pcadf], axis=1)\n",
    "complete_df"
   ]
  },
  {
   "cell_type": "code",
   "execution_count": 28,
   "id": "mechanical-rehabilitation",
   "metadata": {},
   "outputs": [],
   "source": [
    "complete_df.to_json(r'dados/dataframe-clusters.json')"
   ]
  },
  {
   "cell_type": "code",
   "execution_count": null,
   "id": "described-dialogue",
   "metadata": {},
   "outputs": [],
   "source": [
    "fig = px.scatter(\n",
    "    complete_df,\n",
    "    x=\"Componente 1\",\n",
    "    y=\"Componente 2\",\n",
    "    color=\"Cluster Predito\",\n",
    "    color_continuous_scale=('rgb(3, 5, 18)', 'rgb(72, 134, 187)', 'rgb(114, 184, 205)')\n",
    ")\n",
    "fig.show()"
   ]
  }
 ],
 "metadata": {
  "kernelspec": {
   "display_name": "Python 3",
   "language": "python",
   "name": "python3"
  },
  "language_info": {
   "codemirror_mode": {
    "name": "ipython",
    "version": 3
   },
   "file_extension": ".py",
   "mimetype": "text/x-python",
   "name": "python",
   "nbconvert_exporter": "python",
   "pygments_lexer": "ipython3",
   "version": "3.8.10"
  }
 },
 "nbformat": 4,
 "nbformat_minor": 5
}
